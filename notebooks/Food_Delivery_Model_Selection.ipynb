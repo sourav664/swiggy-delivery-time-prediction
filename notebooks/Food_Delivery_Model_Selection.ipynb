{
  "cells": [
    {
      "cell_type": "markdown",
      "metadata": {
        "id": "HWqt3W2bVbas"
      },
      "source": [
        "# Import Packages"
      ]
    },
    {
      "cell_type": "code",
      "execution_count": 1,
      "metadata": {
        "id": "Kje27pyKIlRO"
      },
      "outputs": [],
      "source": [
        "import numpy as np\n",
        "import pandas as pd\n",
        "from sklearn.pipeline import Pipeline\n",
        "from sklearn.compose import ColumnTransformer\n",
        "from sklearn.impute import SimpleImputer, KNNImputer, MissingIndicator\n",
        "from sklearn.preprocessing import OneHotEncoder, StandardScaler, LabelEncoder, MinMaxScaler, PowerTransformer, OrdinalEncoder\n",
        "from sklearn.model_selection import train_test_split"
      ]
    },
    {
      "cell_type": "code",
      "execution_count": 2,
      "metadata": {
        "colab": {
          "base_uri": "https://localhost:8080/",
          "height": 51
        },
        "id": "rzbQ4vlqX2Wi",
        "outputId": "bec51704-6686-40f9-c0b9-7618d62ccb06"
      },
      "outputs": [
        {
          "data": {
            "text/html": [
              "<pre style=\"white-space:pre;overflow-x:auto;line-height:normal;font-family:Menlo,'DejaVu Sans Mono',consolas,'Courier New',monospace\">Accessing as sourav664\n",
              "</pre>\n"
            ],
            "text/plain": [
              "Accessing as sourav664\n"
            ]
          },
          "metadata": {},
          "output_type": "display_data"
        },
        {
          "data": {
            "text/html": [
              "<pre style=\"white-space:pre;overflow-x:auto;line-height:normal;font-family:Menlo,'DejaVu Sans Mono',consolas,'Courier New',monospace\">Initialized MLflow to track repo <span style=\"color: #008000; text-decoration-color: #008000\">\"sourav664/swiggy-delivery-time-prediction\"</span>\n",
              "</pre>\n"
            ],
            "text/plain": [
              "Initialized MLflow to track repo \u001b[32m\"sourav664/swiggy-delivery-time-prediction\"\u001b[0m\n"
            ]
          },
          "metadata": {},
          "output_type": "display_data"
        },
        {
          "data": {
            "text/html": [
              "<pre style=\"white-space:pre;overflow-x:auto;line-height:normal;font-family:Menlo,'DejaVu Sans Mono',consolas,'Courier New',monospace\">Repository sourav664/swiggy-delivery-time-prediction initialized!\n",
              "</pre>\n"
            ],
            "text/plain": [
              "Repository sourav664/swiggy-delivery-time-prediction initialized!\n"
            ]
          },
          "metadata": {},
          "output_type": "display_data"
        }
      ],
      "source": [
        "import dagshub\n",
        "dagshub.init(repo_owner='sourav664', repo_name='swiggy-delivery-time-prediction', mlflow=True)\n"
      ]
    },
    {
      "cell_type": "code",
      "execution_count": 3,
      "metadata": {
        "id": "-b9c26rHX8eJ"
      },
      "outputs": [],
      "source": [
        "import mlflow"
      ]
    },
    {
      "cell_type": "code",
      "execution_count": 4,
      "metadata": {
        "id": "on4HXpL1X84_"
      },
      "outputs": [],
      "source": [
        "# set the tracking server\n",
        "\n",
        "mlflow.set_tracking_uri(\"https://dagshub.com/sourav664/swiggy-delivery-time-prediction.mlflow\")"
      ]
    },
    {
      "cell_type": "code",
      "execution_count": 5,
      "metadata": {
        "colab": {
          "base_uri": "https://localhost:8080/"
        },
        "id": "_MfNt_r6X_T7",
        "outputId": "2b6d7428-3640-4530-c7e4-09dab753d7da"
      },
      "outputs": [
        {
          "name": "stderr",
          "output_type": "stream",
          "text": [
            "2025/03/21 16:41:44 INFO mlflow.tracking.fluent: Experiment with name 'Exp 2 - Model Selection' does not exist. Creating a new experiment.\n"
          ]
        },
        {
          "data": {
            "text/plain": [
              "<Experiment: artifact_location='mlflow-artifacts:/4e26262c28e8439b9a692857f3d6832c', creation_time=1742555504600, experiment_id='1', last_update_time=1742555504600, lifecycle_stage='active', name='Exp 2 - Model Selection', tags={}>"
            ]
          },
          "execution_count": 5,
          "metadata": {},
          "output_type": "execute_result"
        }
      ],
      "source": [
        "# mlflow experiment\n",
        "\n",
        "mlflow.set_experiment(\"Exp 2 - Model Selection\")"
      ]
    },
    {
      "cell_type": "code",
      "execution_count": 6,
      "metadata": {
        "id": "r7eob7mfjxgl"
      },
      "outputs": [],
      "source": [
        "from sklearn import set_config\n",
        "\n",
        "set_config(transform_output=\"pandas\")"
      ]
    },
    {
      "cell_type": "markdown",
      "metadata": {
        "id": "1vFGURsDVtnH"
      },
      "source": [
        "# Load the Data"
      ]
    },
    {
      "cell_type": "code",
      "execution_count": 7,
      "metadata": {
        "colab": {
          "base_uri": "https://localhost:8080/",
          "height": 461
        },
        "id": "BVMYEJ2OYjRW",
        "outputId": "ad7a826d-d12a-4e4a-ccf5-a61bc5a65512"
      },
      "outputs": [
        {
          "data": {
            "text/html": [
              "<div>\n",
              "<style scoped>\n",
              "    .dataframe tbody tr th:only-of-type {\n",
              "        vertical-align: middle;\n",
              "    }\n",
              "\n",
              "    .dataframe tbody tr th {\n",
              "        vertical-align: top;\n",
              "    }\n",
              "\n",
              "    .dataframe thead th {\n",
              "        text-align: right;\n",
              "    }\n",
              "</style>\n",
              "<table border=\"1\" class=\"dataframe\">\n",
              "  <thead>\n",
              "    <tr style=\"text-align: right;\">\n",
              "      <th></th>\n",
              "      <th>rider_id</th>\n",
              "      <th>age</th>\n",
              "      <th>ratings</th>\n",
              "      <th>restaurant_latitude</th>\n",
              "      <th>restaurant_longitude</th>\n",
              "      <th>delivery_latitude</th>\n",
              "      <th>delivery_longitude</th>\n",
              "      <th>order_date</th>\n",
              "      <th>weather</th>\n",
              "      <th>traffic</th>\n",
              "      <th>...</th>\n",
              "      <th>city_name</th>\n",
              "      <th>order_day</th>\n",
              "      <th>order_month</th>\n",
              "      <th>order_day_of_week</th>\n",
              "      <th>is_weekend</th>\n",
              "      <th>pickup_time_minutes</th>\n",
              "      <th>order_time_hour</th>\n",
              "      <th>order_time_of_day</th>\n",
              "      <th>distance</th>\n",
              "      <th>distance_type</th>\n",
              "    </tr>\n",
              "  </thead>\n",
              "  <tbody>\n",
              "    <tr>\n",
              "      <th>0</th>\n",
              "      <td>INDORES13DEL02</td>\n",
              "      <td>37.0</td>\n",
              "      <td>4.9</td>\n",
              "      <td>22.745049</td>\n",
              "      <td>75.892471</td>\n",
              "      <td>22.765049</td>\n",
              "      <td>75.912471</td>\n",
              "      <td>2022-03-19</td>\n",
              "      <td>sunny</td>\n",
              "      <td>high</td>\n",
              "      <td>...</td>\n",
              "      <td>INDO</td>\n",
              "      <td>19</td>\n",
              "      <td>3</td>\n",
              "      <td>saturday</td>\n",
              "      <td>1</td>\n",
              "      <td>15.0</td>\n",
              "      <td>11.0</td>\n",
              "      <td>morning</td>\n",
              "      <td>3.025149</td>\n",
              "      <td>short</td>\n",
              "    </tr>\n",
              "    <tr>\n",
              "      <th>1</th>\n",
              "      <td>BANGRES18DEL02</td>\n",
              "      <td>34.0</td>\n",
              "      <td>4.5</td>\n",
              "      <td>12.913041</td>\n",
              "      <td>77.683237</td>\n",
              "      <td>13.043041</td>\n",
              "      <td>77.813237</td>\n",
              "      <td>2022-03-25</td>\n",
              "      <td>stormy</td>\n",
              "      <td>jam</td>\n",
              "      <td>...</td>\n",
              "      <td>BANG</td>\n",
              "      <td>25</td>\n",
              "      <td>3</td>\n",
              "      <td>friday</td>\n",
              "      <td>0</td>\n",
              "      <td>5.0</td>\n",
              "      <td>19.0</td>\n",
              "      <td>evening</td>\n",
              "      <td>20.183530</td>\n",
              "      <td>very_long</td>\n",
              "    </tr>\n",
              "    <tr>\n",
              "      <th>2</th>\n",
              "      <td>BANGRES19DEL01</td>\n",
              "      <td>23.0</td>\n",
              "      <td>4.4</td>\n",
              "      <td>12.914264</td>\n",
              "      <td>77.678400</td>\n",
              "      <td>12.924264</td>\n",
              "      <td>77.688400</td>\n",
              "      <td>2022-03-19</td>\n",
              "      <td>sandstorms</td>\n",
              "      <td>low</td>\n",
              "      <td>...</td>\n",
              "      <td>BANG</td>\n",
              "      <td>19</td>\n",
              "      <td>3</td>\n",
              "      <td>saturday</td>\n",
              "      <td>1</td>\n",
              "      <td>15.0</td>\n",
              "      <td>8.0</td>\n",
              "      <td>morning</td>\n",
              "      <td>1.552758</td>\n",
              "      <td>short</td>\n",
              "    </tr>\n",
              "    <tr>\n",
              "      <th>3</th>\n",
              "      <td>COIMBRES13DEL02</td>\n",
              "      <td>38.0</td>\n",
              "      <td>4.7</td>\n",
              "      <td>11.003669</td>\n",
              "      <td>76.976494</td>\n",
              "      <td>11.053669</td>\n",
              "      <td>77.026494</td>\n",
              "      <td>2022-04-05</td>\n",
              "      <td>sunny</td>\n",
              "      <td>medium</td>\n",
              "      <td>...</td>\n",
              "      <td>COIMB</td>\n",
              "      <td>5</td>\n",
              "      <td>4</td>\n",
              "      <td>tuesday</td>\n",
              "      <td>0</td>\n",
              "      <td>10.0</td>\n",
              "      <td>18.0</td>\n",
              "      <td>evening</td>\n",
              "      <td>7.790401</td>\n",
              "      <td>medium</td>\n",
              "    </tr>\n",
              "    <tr>\n",
              "      <th>4</th>\n",
              "      <td>CHENRES12DEL01</td>\n",
              "      <td>32.0</td>\n",
              "      <td>4.6</td>\n",
              "      <td>12.972793</td>\n",
              "      <td>80.249982</td>\n",
              "      <td>13.012793</td>\n",
              "      <td>80.289982</td>\n",
              "      <td>2022-03-26</td>\n",
              "      <td>cloudy</td>\n",
              "      <td>high</td>\n",
              "      <td>...</td>\n",
              "      <td>CHEN</td>\n",
              "      <td>26</td>\n",
              "      <td>3</td>\n",
              "      <td>saturday</td>\n",
              "      <td>1</td>\n",
              "      <td>15.0</td>\n",
              "      <td>13.0</td>\n",
              "      <td>afternoon</td>\n",
              "      <td>6.210138</td>\n",
              "      <td>medium</td>\n",
              "    </tr>\n",
              "    <tr>\n",
              "      <th>...</th>\n",
              "      <td>...</td>\n",
              "      <td>...</td>\n",
              "      <td>...</td>\n",
              "      <td>...</td>\n",
              "      <td>...</td>\n",
              "      <td>...</td>\n",
              "      <td>...</td>\n",
              "      <td>...</td>\n",
              "      <td>...</td>\n",
              "      <td>...</td>\n",
              "      <td>...</td>\n",
              "      <td>...</td>\n",
              "      <td>...</td>\n",
              "      <td>...</td>\n",
              "      <td>...</td>\n",
              "      <td>...</td>\n",
              "      <td>...</td>\n",
              "      <td>...</td>\n",
              "      <td>...</td>\n",
              "      <td>...</td>\n",
              "      <td>...</td>\n",
              "    </tr>\n",
              "    <tr>\n",
              "      <th>45497</th>\n",
              "      <td>JAPRES04DEL01</td>\n",
              "      <td>30.0</td>\n",
              "      <td>4.8</td>\n",
              "      <td>26.902328</td>\n",
              "      <td>75.794257</td>\n",
              "      <td>26.912328</td>\n",
              "      <td>75.804257</td>\n",
              "      <td>2022-03-24</td>\n",
              "      <td>windy</td>\n",
              "      <td>high</td>\n",
              "      <td>...</td>\n",
              "      <td>JAP</td>\n",
              "      <td>24</td>\n",
              "      <td>3</td>\n",
              "      <td>thursday</td>\n",
              "      <td>0</td>\n",
              "      <td>10.0</td>\n",
              "      <td>11.0</td>\n",
              "      <td>morning</td>\n",
              "      <td>1.489846</td>\n",
              "      <td>short</td>\n",
              "    </tr>\n",
              "    <tr>\n",
              "      <th>45498</th>\n",
              "      <td>AGRRES16DEL01</td>\n",
              "      <td>21.0</td>\n",
              "      <td>4.6</td>\n",
              "      <td>NaN</td>\n",
              "      <td>NaN</td>\n",
              "      <td>NaN</td>\n",
              "      <td>NaN</td>\n",
              "      <td>2022-02-16</td>\n",
              "      <td>windy</td>\n",
              "      <td>jam</td>\n",
              "      <td>...</td>\n",
              "      <td>AGR</td>\n",
              "      <td>16</td>\n",
              "      <td>2</td>\n",
              "      <td>wednesday</td>\n",
              "      <td>0</td>\n",
              "      <td>15.0</td>\n",
              "      <td>19.0</td>\n",
              "      <td>evening</td>\n",
              "      <td>NaN</td>\n",
              "      <td>NaN</td>\n",
              "    </tr>\n",
              "    <tr>\n",
              "      <th>45499</th>\n",
              "      <td>CHENRES08DEL03</td>\n",
              "      <td>30.0</td>\n",
              "      <td>4.9</td>\n",
              "      <td>13.022394</td>\n",
              "      <td>80.242439</td>\n",
              "      <td>13.052394</td>\n",
              "      <td>80.272439</td>\n",
              "      <td>2022-03-11</td>\n",
              "      <td>cloudy</td>\n",
              "      <td>low</td>\n",
              "      <td>...</td>\n",
              "      <td>CHEN</td>\n",
              "      <td>11</td>\n",
              "      <td>3</td>\n",
              "      <td>friday</td>\n",
              "      <td>0</td>\n",
              "      <td>15.0</td>\n",
              "      <td>23.0</td>\n",
              "      <td>night</td>\n",
              "      <td>4.657195</td>\n",
              "      <td>short</td>\n",
              "    </tr>\n",
              "    <tr>\n",
              "      <th>45500</th>\n",
              "      <td>COIMBRES11DEL01</td>\n",
              "      <td>20.0</td>\n",
              "      <td>4.7</td>\n",
              "      <td>11.001753</td>\n",
              "      <td>76.986241</td>\n",
              "      <td>11.041753</td>\n",
              "      <td>77.026241</td>\n",
              "      <td>2022-03-07</td>\n",
              "      <td>cloudy</td>\n",
              "      <td>high</td>\n",
              "      <td>...</td>\n",
              "      <td>COIMB</td>\n",
              "      <td>7</td>\n",
              "      <td>3</td>\n",
              "      <td>monday</td>\n",
              "      <td>0</td>\n",
              "      <td>5.0</td>\n",
              "      <td>13.0</td>\n",
              "      <td>afternoon</td>\n",
              "      <td>6.232393</td>\n",
              "      <td>medium</td>\n",
              "    </tr>\n",
              "    <tr>\n",
              "      <th>45501</th>\n",
              "      <td>RANCHIRES09DEL02</td>\n",
              "      <td>23.0</td>\n",
              "      <td>4.9</td>\n",
              "      <td>23.351058</td>\n",
              "      <td>85.325731</td>\n",
              "      <td>23.431058</td>\n",
              "      <td>85.405731</td>\n",
              "      <td>2022-03-02</td>\n",
              "      <td>fog</td>\n",
              "      <td>medium</td>\n",
              "      <td>...</td>\n",
              "      <td>RANCHI</td>\n",
              "      <td>2</td>\n",
              "      <td>3</td>\n",
              "      <td>wednesday</td>\n",
              "      <td>0</td>\n",
              "      <td>5.0</td>\n",
              "      <td>17.0</td>\n",
              "      <td>evening</td>\n",
              "      <td>12.074396</td>\n",
              "      <td>long</td>\n",
              "    </tr>\n",
              "  </tbody>\n",
              "</table>\n",
              "<p>45502 rows × 27 columns</p>\n",
              "</div>"
            ],
            "text/plain": [
              "                rider_id   age  ratings  restaurant_latitude  \\\n",
              "0        INDORES13DEL02   37.0      4.9            22.745049   \n",
              "1        BANGRES18DEL02   34.0      4.5            12.913041   \n",
              "2        BANGRES19DEL01   23.0      4.4            12.914264   \n",
              "3       COIMBRES13DEL02   38.0      4.7            11.003669   \n",
              "4        CHENRES12DEL01   32.0      4.6            12.972793   \n",
              "...                  ...   ...      ...                  ...   \n",
              "45497     JAPRES04DEL01   30.0      4.8            26.902328   \n",
              "45498     AGRRES16DEL01   21.0      4.6                  NaN   \n",
              "45499    CHENRES08DEL03   30.0      4.9            13.022394   \n",
              "45500   COIMBRES11DEL01   20.0      4.7            11.001753   \n",
              "45501  RANCHIRES09DEL02   23.0      4.9            23.351058   \n",
              "\n",
              "       restaurant_longitude  delivery_latitude  delivery_longitude  \\\n",
              "0                 75.892471          22.765049           75.912471   \n",
              "1                 77.683237          13.043041           77.813237   \n",
              "2                 77.678400          12.924264           77.688400   \n",
              "3                 76.976494          11.053669           77.026494   \n",
              "4                 80.249982          13.012793           80.289982   \n",
              "...                     ...                ...                 ...   \n",
              "45497             75.794257          26.912328           75.804257   \n",
              "45498                   NaN                NaN                 NaN   \n",
              "45499             80.242439          13.052394           80.272439   \n",
              "45500             76.986241          11.041753           77.026241   \n",
              "45501             85.325731          23.431058           85.405731   \n",
              "\n",
              "       order_date     weather traffic  ...  city_name order_day order_month  \\\n",
              "0      2022-03-19       sunny    high  ...       INDO        19           3   \n",
              "1      2022-03-25      stormy     jam  ...       BANG        25           3   \n",
              "2      2022-03-19  sandstorms     low  ...       BANG        19           3   \n",
              "3      2022-04-05       sunny  medium  ...      COIMB         5           4   \n",
              "4      2022-03-26      cloudy    high  ...       CHEN        26           3   \n",
              "...           ...         ...     ...  ...        ...       ...         ...   \n",
              "45497  2022-03-24       windy    high  ...        JAP        24           3   \n",
              "45498  2022-02-16       windy     jam  ...        AGR        16           2   \n",
              "45499  2022-03-11      cloudy     low  ...       CHEN        11           3   \n",
              "45500  2022-03-07      cloudy    high  ...      COIMB         7           3   \n",
              "45501  2022-03-02         fog  medium  ...     RANCHI         2           3   \n",
              "\n",
              "       order_day_of_week is_weekend pickup_time_minutes  order_time_hour  \\\n",
              "0               saturday          1                15.0             11.0   \n",
              "1                 friday          0                 5.0             19.0   \n",
              "2               saturday          1                15.0              8.0   \n",
              "3                tuesday          0                10.0             18.0   \n",
              "4               saturday          1                15.0             13.0   \n",
              "...                  ...        ...                 ...              ...   \n",
              "45497           thursday          0                10.0             11.0   \n",
              "45498          wednesday          0                15.0             19.0   \n",
              "45499             friday          0                15.0             23.0   \n",
              "45500             monday          0                 5.0             13.0   \n",
              "45501          wednesday          0                 5.0             17.0   \n",
              "\n",
              "      order_time_of_day   distance  distance_type  \n",
              "0               morning   3.025149          short  \n",
              "1               evening  20.183530      very_long  \n",
              "2               morning   1.552758          short  \n",
              "3               evening   7.790401         medium  \n",
              "4             afternoon   6.210138         medium  \n",
              "...                 ...        ...            ...  \n",
              "45497           morning   1.489846          short  \n",
              "45498           evening        NaN            NaN  \n",
              "45499             night   4.657195          short  \n",
              "45500         afternoon   6.232393         medium  \n",
              "45501           evening  12.074396           long  \n",
              "\n",
              "[45502 rows x 27 columns]"
            ]
          },
          "execution_count": 7,
          "metadata": {},
          "output_type": "execute_result"
        }
      ],
      "source": [
        "# load the data\n",
        "\n",
        "df = pd.read_csv('swiggy_cleaned.csv')\n",
        "\n",
        "df"
      ]
    },
    {
      "cell_type": "code",
      "execution_count": 8,
      "metadata": {
        "colab": {
          "base_uri": "https://localhost:8080/"
        },
        "id": "06VhmH7Lb4xz",
        "outputId": "af060c2b-9af8-43a3-d610-4af74ae57c1c"
      },
      "outputs": [
        {
          "data": {
            "text/plain": [
              "Index(['rider_id', 'age', 'ratings', 'restaurant_latitude',\n",
              "       'restaurant_longitude', 'delivery_latitude', 'delivery_longitude',\n",
              "       'order_date', 'weather', 'traffic', 'vehicle_condition',\n",
              "       'type_of_order', 'type_of_vehicle', 'multiple_deliveries', 'festival',\n",
              "       'city_type', 'time_taken', 'city_name', 'order_day', 'order_month',\n",
              "       'order_day_of_week', 'is_weekend', 'pickup_time_minutes',\n",
              "       'order_time_hour', 'order_time_of_day', 'distance', 'distance_type'],\n",
              "      dtype='object')"
            ]
          },
          "execution_count": 8,
          "metadata": {},
          "output_type": "execute_result"
        }
      ],
      "source": [
        "df.columns"
      ]
    },
    {
      "cell_type": "code",
      "execution_count": 9,
      "metadata": {
        "colab": {
          "base_uri": "https://localhost:8080/",
          "height": 444
        },
        "id": "R-UYeFPobyeh",
        "outputId": "f9692213-ed3e-4c45-9b8f-9efb969c3b0b"
      },
      "outputs": [
        {
          "data": {
            "text/html": [
              "<div>\n",
              "<style scoped>\n",
              "    .dataframe tbody tr th:only-of-type {\n",
              "        vertical-align: middle;\n",
              "    }\n",
              "\n",
              "    .dataframe tbody tr th {\n",
              "        vertical-align: top;\n",
              "    }\n",
              "\n",
              "    .dataframe thead th {\n",
              "        text-align: right;\n",
              "    }\n",
              "</style>\n",
              "<table border=\"1\" class=\"dataframe\">\n",
              "  <thead>\n",
              "    <tr style=\"text-align: right;\">\n",
              "      <th></th>\n",
              "      <th>age</th>\n",
              "      <th>ratings</th>\n",
              "      <th>weather</th>\n",
              "      <th>traffic</th>\n",
              "      <th>vehicle_condition</th>\n",
              "      <th>type_of_order</th>\n",
              "      <th>type_of_vehicle</th>\n",
              "      <th>multiple_deliveries</th>\n",
              "      <th>festival</th>\n",
              "      <th>city_type</th>\n",
              "      <th>time_taken</th>\n",
              "      <th>is_weekend</th>\n",
              "      <th>pickup_time_minutes</th>\n",
              "      <th>order_time_of_day</th>\n",
              "      <th>distance</th>\n",
              "      <th>distance_type</th>\n",
              "    </tr>\n",
              "  </thead>\n",
              "  <tbody>\n",
              "    <tr>\n",
              "      <th>0</th>\n",
              "      <td>37.0</td>\n",
              "      <td>4.9</td>\n",
              "      <td>sunny</td>\n",
              "      <td>high</td>\n",
              "      <td>2</td>\n",
              "      <td>snack</td>\n",
              "      <td>motorcycle</td>\n",
              "      <td>0.0</td>\n",
              "      <td>no</td>\n",
              "      <td>urban</td>\n",
              "      <td>24</td>\n",
              "      <td>1</td>\n",
              "      <td>15.0</td>\n",
              "      <td>morning</td>\n",
              "      <td>3.025149</td>\n",
              "      <td>short</td>\n",
              "    </tr>\n",
              "    <tr>\n",
              "      <th>1</th>\n",
              "      <td>34.0</td>\n",
              "      <td>4.5</td>\n",
              "      <td>stormy</td>\n",
              "      <td>jam</td>\n",
              "      <td>2</td>\n",
              "      <td>snack</td>\n",
              "      <td>scooter</td>\n",
              "      <td>1.0</td>\n",
              "      <td>no</td>\n",
              "      <td>metropolitian</td>\n",
              "      <td>33</td>\n",
              "      <td>0</td>\n",
              "      <td>5.0</td>\n",
              "      <td>evening</td>\n",
              "      <td>20.183530</td>\n",
              "      <td>very_long</td>\n",
              "    </tr>\n",
              "    <tr>\n",
              "      <th>2</th>\n",
              "      <td>23.0</td>\n",
              "      <td>4.4</td>\n",
              "      <td>sandstorms</td>\n",
              "      <td>low</td>\n",
              "      <td>0</td>\n",
              "      <td>drinks</td>\n",
              "      <td>motorcycle</td>\n",
              "      <td>1.0</td>\n",
              "      <td>no</td>\n",
              "      <td>urban</td>\n",
              "      <td>26</td>\n",
              "      <td>1</td>\n",
              "      <td>15.0</td>\n",
              "      <td>morning</td>\n",
              "      <td>1.552758</td>\n",
              "      <td>short</td>\n",
              "    </tr>\n",
              "    <tr>\n",
              "      <th>3</th>\n",
              "      <td>38.0</td>\n",
              "      <td>4.7</td>\n",
              "      <td>sunny</td>\n",
              "      <td>medium</td>\n",
              "      <td>0</td>\n",
              "      <td>buffet</td>\n",
              "      <td>motorcycle</td>\n",
              "      <td>1.0</td>\n",
              "      <td>no</td>\n",
              "      <td>metropolitian</td>\n",
              "      <td>21</td>\n",
              "      <td>0</td>\n",
              "      <td>10.0</td>\n",
              "      <td>evening</td>\n",
              "      <td>7.790401</td>\n",
              "      <td>medium</td>\n",
              "    </tr>\n",
              "    <tr>\n",
              "      <th>4</th>\n",
              "      <td>32.0</td>\n",
              "      <td>4.6</td>\n",
              "      <td>cloudy</td>\n",
              "      <td>high</td>\n",
              "      <td>1</td>\n",
              "      <td>snack</td>\n",
              "      <td>scooter</td>\n",
              "      <td>1.0</td>\n",
              "      <td>no</td>\n",
              "      <td>metropolitian</td>\n",
              "      <td>30</td>\n",
              "      <td>1</td>\n",
              "      <td>15.0</td>\n",
              "      <td>afternoon</td>\n",
              "      <td>6.210138</td>\n",
              "      <td>medium</td>\n",
              "    </tr>\n",
              "    <tr>\n",
              "      <th>...</th>\n",
              "      <td>...</td>\n",
              "      <td>...</td>\n",
              "      <td>...</td>\n",
              "      <td>...</td>\n",
              "      <td>...</td>\n",
              "      <td>...</td>\n",
              "      <td>...</td>\n",
              "      <td>...</td>\n",
              "      <td>...</td>\n",
              "      <td>...</td>\n",
              "      <td>...</td>\n",
              "      <td>...</td>\n",
              "      <td>...</td>\n",
              "      <td>...</td>\n",
              "      <td>...</td>\n",
              "      <td>...</td>\n",
              "    </tr>\n",
              "    <tr>\n",
              "      <th>45497</th>\n",
              "      <td>30.0</td>\n",
              "      <td>4.8</td>\n",
              "      <td>windy</td>\n",
              "      <td>high</td>\n",
              "      <td>1</td>\n",
              "      <td>meal</td>\n",
              "      <td>motorcycle</td>\n",
              "      <td>0.0</td>\n",
              "      <td>no</td>\n",
              "      <td>metropolitian</td>\n",
              "      <td>32</td>\n",
              "      <td>0</td>\n",
              "      <td>10.0</td>\n",
              "      <td>morning</td>\n",
              "      <td>1.489846</td>\n",
              "      <td>short</td>\n",
              "    </tr>\n",
              "    <tr>\n",
              "      <th>45498</th>\n",
              "      <td>21.0</td>\n",
              "      <td>4.6</td>\n",
              "      <td>windy</td>\n",
              "      <td>jam</td>\n",
              "      <td>0</td>\n",
              "      <td>buffet</td>\n",
              "      <td>motorcycle</td>\n",
              "      <td>1.0</td>\n",
              "      <td>no</td>\n",
              "      <td>metropolitian</td>\n",
              "      <td>36</td>\n",
              "      <td>0</td>\n",
              "      <td>15.0</td>\n",
              "      <td>evening</td>\n",
              "      <td>NaN</td>\n",
              "      <td>NaN</td>\n",
              "    </tr>\n",
              "    <tr>\n",
              "      <th>45499</th>\n",
              "      <td>30.0</td>\n",
              "      <td>4.9</td>\n",
              "      <td>cloudy</td>\n",
              "      <td>low</td>\n",
              "      <td>1</td>\n",
              "      <td>drinks</td>\n",
              "      <td>scooter</td>\n",
              "      <td>0.0</td>\n",
              "      <td>no</td>\n",
              "      <td>metropolitian</td>\n",
              "      <td>16</td>\n",
              "      <td>0</td>\n",
              "      <td>15.0</td>\n",
              "      <td>night</td>\n",
              "      <td>4.657195</td>\n",
              "      <td>short</td>\n",
              "    </tr>\n",
              "    <tr>\n",
              "      <th>45500</th>\n",
              "      <td>20.0</td>\n",
              "      <td>4.7</td>\n",
              "      <td>cloudy</td>\n",
              "      <td>high</td>\n",
              "      <td>0</td>\n",
              "      <td>snack</td>\n",
              "      <td>motorcycle</td>\n",
              "      <td>1.0</td>\n",
              "      <td>no</td>\n",
              "      <td>metropolitian</td>\n",
              "      <td>26</td>\n",
              "      <td>0</td>\n",
              "      <td>5.0</td>\n",
              "      <td>afternoon</td>\n",
              "      <td>6.232393</td>\n",
              "      <td>medium</td>\n",
              "    </tr>\n",
              "    <tr>\n",
              "      <th>45501</th>\n",
              "      <td>23.0</td>\n",
              "      <td>4.9</td>\n",
              "      <td>fog</td>\n",
              "      <td>medium</td>\n",
              "      <td>2</td>\n",
              "      <td>snack</td>\n",
              "      <td>scooter</td>\n",
              "      <td>1.0</td>\n",
              "      <td>no</td>\n",
              "      <td>metropolitian</td>\n",
              "      <td>36</td>\n",
              "      <td>0</td>\n",
              "      <td>5.0</td>\n",
              "      <td>evening</td>\n",
              "      <td>12.074396</td>\n",
              "      <td>long</td>\n",
              "    </tr>\n",
              "  </tbody>\n",
              "</table>\n",
              "<p>45502 rows × 16 columns</p>\n",
              "</div>"
            ],
            "text/plain": [
              "        age  ratings     weather traffic  vehicle_condition type_of_order  \\\n",
              "0      37.0      4.9       sunny    high                  2         snack   \n",
              "1      34.0      4.5      stormy     jam                  2         snack   \n",
              "2      23.0      4.4  sandstorms     low                  0        drinks   \n",
              "3      38.0      4.7       sunny  medium                  0        buffet   \n",
              "4      32.0      4.6      cloudy    high                  1         snack   \n",
              "...     ...      ...         ...     ...                ...           ...   \n",
              "45497  30.0      4.8       windy    high                  1          meal   \n",
              "45498  21.0      4.6       windy     jam                  0        buffet   \n",
              "45499  30.0      4.9      cloudy     low                  1        drinks   \n",
              "45500  20.0      4.7      cloudy    high                  0         snack   \n",
              "45501  23.0      4.9         fog  medium                  2         snack   \n",
              "\n",
              "      type_of_vehicle  multiple_deliveries festival      city_type  \\\n",
              "0          motorcycle                  0.0       no          urban   \n",
              "1             scooter                  1.0       no  metropolitian   \n",
              "2          motorcycle                  1.0       no          urban   \n",
              "3          motorcycle                  1.0       no  metropolitian   \n",
              "4             scooter                  1.0       no  metropolitian   \n",
              "...               ...                  ...      ...            ...   \n",
              "45497      motorcycle                  0.0       no  metropolitian   \n",
              "45498      motorcycle                  1.0       no  metropolitian   \n",
              "45499         scooter                  0.0       no  metropolitian   \n",
              "45500      motorcycle                  1.0       no  metropolitian   \n",
              "45501         scooter                  1.0       no  metropolitian   \n",
              "\n",
              "       time_taken  is_weekend  pickup_time_minutes order_time_of_day  \\\n",
              "0              24           1                 15.0           morning   \n",
              "1              33           0                  5.0           evening   \n",
              "2              26           1                 15.0           morning   \n",
              "3              21           0                 10.0           evening   \n",
              "4              30           1                 15.0         afternoon   \n",
              "...           ...         ...                  ...               ...   \n",
              "45497          32           0                 10.0           morning   \n",
              "45498          36           0                 15.0           evening   \n",
              "45499          16           0                 15.0             night   \n",
              "45500          26           0                  5.0         afternoon   \n",
              "45501          36           0                  5.0           evening   \n",
              "\n",
              "        distance distance_type  \n",
              "0       3.025149         short  \n",
              "1      20.183530     very_long  \n",
              "2       1.552758         short  \n",
              "3       7.790401        medium  \n",
              "4       6.210138        medium  \n",
              "...          ...           ...  \n",
              "45497   1.489846         short  \n",
              "45498        NaN           NaN  \n",
              "45499   4.657195         short  \n",
              "45500   6.232393        medium  \n",
              "45501  12.074396          long  \n",
              "\n",
              "[45502 rows x 16 columns]"
            ]
          },
          "execution_count": 9,
          "metadata": {},
          "output_type": "execute_result"
        }
      ],
      "source": [
        "# drop columns not required for model input\n",
        "\n",
        "columns_to_drop =  ['rider_id',\n",
        "                    'restaurant_latitude',\n",
        "                    'restaurant_longitude',\n",
        "                    'delivery_latitude',\n",
        "                    'delivery_longitude',\n",
        "                    'order_date',\n",
        "                    \"order_time_hour\",\n",
        "                    \"order_day\",\n",
        "                    \"city_name\",\n",
        "                    \"order_day_of_week\",\n",
        "                    \"order_month\"]\n",
        "\n",
        "df.drop(columns=columns_to_drop, inplace=True)\n",
        "\n",
        "df"
      ]
    },
    {
      "cell_type": "code",
      "execution_count": 10,
      "metadata": {
        "colab": {
          "base_uri": "https://localhost:8080/",
          "height": 586
        },
        "id": "IiOq4IO6cX4q",
        "outputId": "b4698040-762e-4d88-ebd9-393d74880308"
      },
      "outputs": [
        {
          "data": {
            "text/plain": [
              "age                    1854\n",
              "ratings                1908\n",
              "weather                 525\n",
              "traffic                 510\n",
              "vehicle_condition         0\n",
              "type_of_order             0\n",
              "type_of_vehicle           0\n",
              "multiple_deliveries     993\n",
              "festival                228\n",
              "city_type              1198\n",
              "time_taken                0\n",
              "is_weekend                0\n",
              "pickup_time_minutes    1640\n",
              "order_time_of_day         0\n",
              "distance               3630\n",
              "distance_type          3630\n",
              "dtype: int64"
            ]
          },
          "execution_count": 10,
          "metadata": {},
          "output_type": "execute_result"
        }
      ],
      "source": [
        "# check for missing values\n",
        "\n",
        "df.isna().sum()"
      ]
    },
    {
      "cell_type": "code",
      "execution_count": 11,
      "metadata": {
        "colab": {
          "base_uri": "https://localhost:8080/"
        },
        "id": "iHMDE9Mdcxno",
        "outputId": "15cab23b-891a-4233-a8ca-ddcbb4b923aa"
      },
      "outputs": [
        {
          "data": {
            "text/plain": [
              "0"
            ]
          },
          "execution_count": 11,
          "metadata": {},
          "output_type": "execute_result"
        }
      ],
      "source": [
        "# check for duplicates\n",
        "\n",
        "df.duplicated().sum()"
      ]
    },
    {
      "cell_type": "code",
      "execution_count": 12,
      "metadata": {
        "colab": {
          "base_uri": "https://localhost:8080/",
          "height": 630
        },
        "id": "Q7bSLKIEc5-E",
        "outputId": "c763bdaa-a6ec-4b57-998c-79a7ef8afbee"
      },
      "outputs": [
        {
          "data": {
            "text/plain": [
              "<Axes: >"
            ]
          },
          "execution_count": 12,
          "metadata": {},
          "output_type": "execute_result"
        },
        {
          "data": {
            "image/png": "[encoded data removed]",
            "text/plain": [
              "<Figure size 2500x1000 with 2 Axes>"
            ]
          },
          "metadata": {},
          "output_type": "display_data"
        }
      ],
      "source": [
        "import missingno as msno\n",
        "\n",
        "msno.matrix(df)"
      ]
    },
    {
      "cell_type": "code",
      "execution_count": 13,
      "metadata": {
        "colab": {
          "base_uri": "https://localhost:8080/"
        },
        "id": "eAWElUOCi4Zk",
        "outputId": "63a8b91f-e733-4097-e7a1-e785163d372b"
      },
      "outputs": [
        {
          "data": {
            "text/plain": [
              "Index(['age', 'ratings', 'weather', 'traffic', 'multiple_deliveries',\n",
              "       'festival', 'city_type', 'pickup_time_minutes', 'distance',\n",
              "       'distance_type'],\n",
              "      dtype='object')"
            ]
          },
          "execution_count": 13,
          "metadata": {},
          "output_type": "execute_result"
        }
      ],
      "source": [
        "# columns that have missing values\n",
        "\n",
        "missing_cols = (\n",
        "                    df\n",
        "                    .isna()\n",
        "                    .any(axis=0)\n",
        "                    .loc[lambda x: x]\n",
        "                    .index\n",
        "                )\n",
        "\n",
        "missing_cols"
      ]
    },
    {
      "cell_type": "markdown",
      "metadata": {
        "id": "A5BZQeJgkJAz"
      },
      "source": [
        "# Drop Missing values"
      ]
    },
    {
      "cell_type": "code",
      "execution_count": 14,
      "metadata": {
        "id": "lo0g_AwrRelP"
      },
      "outputs": [],
      "source": [
        "temp_df = df.copy().dropna()"
      ]
    },
    {
      "cell_type": "code",
      "execution_count": 15,
      "metadata": {
        "colab": {
          "base_uri": "https://localhost:8080/",
          "height": 444
        },
        "id": "usqGURjWRelQ",
        "outputId": "ee2b41d2-5cbb-405b-b616-9a3caa0eddb9"
      },
      "outputs": [
        {
          "data": {
            "text/html": [
              "<div>\n",
              "<style scoped>\n",
              "    .dataframe tbody tr th:only-of-type {\n",
              "        vertical-align: middle;\n",
              "    }\n",
              "\n",
              "    .dataframe tbody tr th {\n",
              "        vertical-align: top;\n",
              "    }\n",
              "\n",
              "    .dataframe thead th {\n",
              "        text-align: right;\n",
              "    }\n",
              "</style>\n",
              "<table border=\"1\" class=\"dataframe\">\n",
              "  <thead>\n",
              "    <tr style=\"text-align: right;\">\n",
              "      <th></th>\n",
              "      <th>age</th>\n",
              "      <th>ratings</th>\n",
              "      <th>weather</th>\n",
              "      <th>traffic</th>\n",
              "      <th>vehicle_condition</th>\n",
              "      <th>type_of_order</th>\n",
              "      <th>type_of_vehicle</th>\n",
              "      <th>multiple_deliveries</th>\n",
              "      <th>festival</th>\n",
              "      <th>city_type</th>\n",
              "      <th>is_weekend</th>\n",
              "      <th>pickup_time_minutes</th>\n",
              "      <th>order_time_of_day</th>\n",
              "      <th>distance</th>\n",
              "      <th>distance_type</th>\n",
              "    </tr>\n",
              "  </thead>\n",
              "  <tbody>\n",
              "    <tr>\n",
              "      <th>0</th>\n",
              "      <td>37.0</td>\n",
              "      <td>4.9</td>\n",
              "      <td>sunny</td>\n",
              "      <td>high</td>\n",
              "      <td>2</td>\n",
              "      <td>snack</td>\n",
              "      <td>motorcycle</td>\n",
              "      <td>0.0</td>\n",
              "      <td>no</td>\n",
              "      <td>urban</td>\n",
              "      <td>1</td>\n",
              "      <td>15.0</td>\n",
              "      <td>morning</td>\n",
              "      <td>3.025149</td>\n",
              "      <td>short</td>\n",
              "    </tr>\n",
              "    <tr>\n",
              "      <th>1</th>\n",
              "      <td>34.0</td>\n",
              "      <td>4.5</td>\n",
              "      <td>stormy</td>\n",
              "      <td>jam</td>\n",
              "      <td>2</td>\n",
              "      <td>snack</td>\n",
              "      <td>scooter</td>\n",
              "      <td>1.0</td>\n",
              "      <td>no</td>\n",
              "      <td>metropolitian</td>\n",
              "      <td>0</td>\n",
              "      <td>5.0</td>\n",
              "      <td>evening</td>\n",
              "      <td>20.183530</td>\n",
              "      <td>very_long</td>\n",
              "    </tr>\n",
              "    <tr>\n",
              "      <th>2</th>\n",
              "      <td>23.0</td>\n",
              "      <td>4.4</td>\n",
              "      <td>sandstorms</td>\n",
              "      <td>low</td>\n",
              "      <td>0</td>\n",
              "      <td>drinks</td>\n",
              "      <td>motorcycle</td>\n",
              "      <td>1.0</td>\n",
              "      <td>no</td>\n",
              "      <td>urban</td>\n",
              "      <td>1</td>\n",
              "      <td>15.0</td>\n",
              "      <td>morning</td>\n",
              "      <td>1.552758</td>\n",
              "      <td>short</td>\n",
              "    </tr>\n",
              "    <tr>\n",
              "      <th>3</th>\n",
              "      <td>38.0</td>\n",
              "      <td>4.7</td>\n",
              "      <td>sunny</td>\n",
              "      <td>medium</td>\n",
              "      <td>0</td>\n",
              "      <td>buffet</td>\n",
              "      <td>motorcycle</td>\n",
              "      <td>1.0</td>\n",
              "      <td>no</td>\n",
              "      <td>metropolitian</td>\n",
              "      <td>0</td>\n",
              "      <td>10.0</td>\n",
              "      <td>evening</td>\n",
              "      <td>7.790401</td>\n",
              "      <td>medium</td>\n",
              "    </tr>\n",
              "    <tr>\n",
              "      <th>4</th>\n",
              "      <td>32.0</td>\n",
              "      <td>4.6</td>\n",
              "      <td>cloudy</td>\n",
              "      <td>high</td>\n",
              "      <td>1</td>\n",
              "      <td>snack</td>\n",
              "      <td>scooter</td>\n",
              "      <td>1.0</td>\n",
              "      <td>no</td>\n",
              "      <td>metropolitian</td>\n",
              "      <td>1</td>\n",
              "      <td>15.0</td>\n",
              "      <td>afternoon</td>\n",
              "      <td>6.210138</td>\n",
              "      <td>medium</td>\n",
              "    </tr>\n",
              "    <tr>\n",
              "      <th>...</th>\n",
              "      <td>...</td>\n",
              "      <td>...</td>\n",
              "      <td>...</td>\n",
              "      <td>...</td>\n",
              "      <td>...</td>\n",
              "      <td>...</td>\n",
              "      <td>...</td>\n",
              "      <td>...</td>\n",
              "      <td>...</td>\n",
              "      <td>...</td>\n",
              "      <td>...</td>\n",
              "      <td>...</td>\n",
              "      <td>...</td>\n",
              "      <td>...</td>\n",
              "      <td>...</td>\n",
              "    </tr>\n",
              "    <tr>\n",
              "      <th>45496</th>\n",
              "      <td>35.0</td>\n",
              "      <td>4.2</td>\n",
              "      <td>windy</td>\n",
              "      <td>jam</td>\n",
              "      <td>2</td>\n",
              "      <td>drinks</td>\n",
              "      <td>motorcycle</td>\n",
              "      <td>1.0</td>\n",
              "      <td>no</td>\n",
              "      <td>metropolitian</td>\n",
              "      <td>0</td>\n",
              "      <td>10.0</td>\n",
              "      <td>night</td>\n",
              "      <td>16.600272</td>\n",
              "      <td>very_long</td>\n",
              "    </tr>\n",
              "    <tr>\n",
              "      <th>45497</th>\n",
              "      <td>30.0</td>\n",
              "      <td>4.8</td>\n",
              "      <td>windy</td>\n",
              "      <td>high</td>\n",
              "      <td>1</td>\n",
              "      <td>meal</td>\n",
              "      <td>motorcycle</td>\n",
              "      <td>0.0</td>\n",
              "      <td>no</td>\n",
              "      <td>metropolitian</td>\n",
              "      <td>0</td>\n",
              "      <td>10.0</td>\n",
              "      <td>morning</td>\n",
              "      <td>1.489846</td>\n",
              "      <td>short</td>\n",
              "    </tr>\n",
              "    <tr>\n",
              "      <th>45499</th>\n",
              "      <td>30.0</td>\n",
              "      <td>4.9</td>\n",
              "      <td>cloudy</td>\n",
              "      <td>low</td>\n",
              "      <td>1</td>\n",
              "      <td>drinks</td>\n",
              "      <td>scooter</td>\n",
              "      <td>0.0</td>\n",
              "      <td>no</td>\n",
              "      <td>metropolitian</td>\n",
              "      <td>0</td>\n",
              "      <td>15.0</td>\n",
              "      <td>night</td>\n",
              "      <td>4.657195</td>\n",
              "      <td>short</td>\n",
              "    </tr>\n",
              "    <tr>\n",
              "      <th>45500</th>\n",
              "      <td>20.0</td>\n",
              "      <td>4.7</td>\n",
              "      <td>cloudy</td>\n",
              "      <td>high</td>\n",
              "      <td>0</td>\n",
              "      <td>snack</td>\n",
              "      <td>motorcycle</td>\n",
              "      <td>1.0</td>\n",
              "      <td>no</td>\n",
              "      <td>metropolitian</td>\n",
              "      <td>0</td>\n",
              "      <td>5.0</td>\n",
              "      <td>afternoon</td>\n",
              "      <td>6.232393</td>\n",
              "      <td>medium</td>\n",
              "    </tr>\n",
              "    <tr>\n",
              "      <th>45501</th>\n",
              "      <td>23.0</td>\n",
              "      <td>4.9</td>\n",
              "      <td>fog</td>\n",
              "      <td>medium</td>\n",
              "      <td>2</td>\n",
              "      <td>snack</td>\n",
              "      <td>scooter</td>\n",
              "      <td>1.0</td>\n",
              "      <td>no</td>\n",
              "      <td>metropolitian</td>\n",
              "      <td>0</td>\n",
              "      <td>5.0</td>\n",
              "      <td>evening</td>\n",
              "      <td>12.074396</td>\n",
              "      <td>long</td>\n",
              "    </tr>\n",
              "  </tbody>\n",
              "</table>\n",
              "<p>38064 rows × 15 columns</p>\n",
              "</div>"
            ],
            "text/plain": [
              "        age  ratings     weather traffic  vehicle_condition type_of_order  \\\n",
              "0      37.0      4.9       sunny    high                  2         snack   \n",
              "1      34.0      4.5      stormy     jam                  2         snack   \n",
              "2      23.0      4.4  sandstorms     low                  0        drinks   \n",
              "3      38.0      4.7       sunny  medium                  0        buffet   \n",
              "4      32.0      4.6      cloudy    high                  1         snack   \n",
              "...     ...      ...         ...     ...                ...           ...   \n",
              "45496  35.0      4.2       windy     jam                  2        drinks   \n",
              "45497  30.0      4.8       windy    high                  1          meal   \n",
              "45499  30.0      4.9      cloudy     low                  1        drinks   \n",
              "45500  20.0      4.7      cloudy    high                  0         snack   \n",
              "45501  23.0      4.9         fog  medium                  2         snack   \n",
              "\n",
              "      type_of_vehicle  multiple_deliveries festival      city_type  \\\n",
              "0          motorcycle                  0.0       no          urban   \n",
              "1             scooter                  1.0       no  metropolitian   \n",
              "2          motorcycle                  1.0       no          urban   \n",
              "3          motorcycle                  1.0       no  metropolitian   \n",
              "4             scooter                  1.0       no  metropolitian   \n",
              "...               ...                  ...      ...            ...   \n",
              "45496      motorcycle                  1.0       no  metropolitian   \n",
              "45497      motorcycle                  0.0       no  metropolitian   \n",
              "45499         scooter                  0.0       no  metropolitian   \n",
              "45500      motorcycle                  1.0       no  metropolitian   \n",
              "45501         scooter                  1.0       no  metropolitian   \n",
              "\n",
              "       is_weekend  pickup_time_minutes order_time_of_day   distance  \\\n",
              "0               1                 15.0           morning   3.025149   \n",
              "1               0                  5.0           evening  20.183530   \n",
              "2               1                 15.0           morning   1.552758   \n",
              "3               0                 10.0           evening   7.790401   \n",
              "4               1                 15.0         afternoon   6.210138   \n",
              "...           ...                  ...               ...        ...   \n",
              "45496           0                 10.0             night  16.600272   \n",
              "45497           0                 10.0           morning   1.489846   \n",
              "45499           0                 15.0             night   4.657195   \n",
              "45500           0                  5.0         afternoon   6.232393   \n",
              "45501           0                  5.0           evening  12.074396   \n",
              "\n",
              "      distance_type  \n",
              "0             short  \n",
              "1         very_long  \n",
              "2             short  \n",
              "3            medium  \n",
              "4            medium  \n",
              "...             ...  \n",
              "45496     very_long  \n",
              "45497         short  \n",
              "45499         short  \n",
              "45500        medium  \n",
              "45501          long  \n",
              "\n",
              "[38064 rows x 15 columns]"
            ]
          },
          "execution_count": 15,
          "metadata": {},
          "output_type": "execute_result"
        }
      ],
      "source": [
        "# split into X and y\n",
        "\n",
        "X = temp_df.drop(columns='time_taken')\n",
        "y = temp_df['time_taken']\n",
        "\n",
        "X"
      ]
    },
    {
      "cell_type": "code",
      "execution_count": 16,
      "metadata": {
        "id": "UcJAkX63RelS"
      },
      "outputs": [],
      "source": [
        "# train test split\n",
        "\n",
        "X_train, X_test, y_train, y_test = train_test_split(X,y,test_size=0.2,random_state=42)"
      ]
    },
    {
      "cell_type": "code",
      "execution_count": 17,
      "metadata": {
        "colab": {
          "base_uri": "https://localhost:8080/"
        },
        "id": "uL9NQizbRelT",
        "outputId": "c702e073-abdd-40e6-9efe-a8b27bcf8576"
      },
      "outputs": [
        {
          "name": "stdout",
          "output_type": "stream",
          "text": [
            "The size of train data is (30451, 15)\n",
            "The shape of test data is (7613, 15)\n"
          ]
        }
      ],
      "source": [
        "print(\"The size of train data is\",X_train.shape)\n",
        "print(\"The shape of test data is\",X_test.shape)"
      ]
    },
    {
      "cell_type": "code",
      "execution_count": 18,
      "metadata": {
        "colab": {
          "base_uri": "https://localhost:8080/",
          "height": 554
        },
        "id": "DJzsaTRmR7XJ",
        "outputId": "fe8d8efc-17fe-4fc4-94c9-f7e3a5f37385"
      },
      "outputs": [
        {
          "data": {
            "text/plain": [
              "age                    0\n",
              "ratings                0\n",
              "weather                0\n",
              "traffic                0\n",
              "vehicle_condition      0\n",
              "type_of_order          0\n",
              "type_of_vehicle        0\n",
              "multiple_deliveries    0\n",
              "festival               0\n",
              "city_type              0\n",
              "is_weekend             0\n",
              "pickup_time_minutes    0\n",
              "order_time_of_day      0\n",
              "distance               0\n",
              "distance_type          0\n",
              "dtype: int64"
            ]
          },
          "execution_count": 18,
          "metadata": {},
          "output_type": "execute_result"
        }
      ],
      "source": [
        "# missing values in train data\n",
        "\n",
        "X_train.isna().sum()"
      ]
    },
    {
      "cell_type": "code",
      "execution_count": 19,
      "metadata": {
        "id": "6FSRQQo_RelT"
      },
      "outputs": [],
      "source": [
        "# transform target column\n",
        "\n",
        "pt = PowerTransformer()\n",
        "\n",
        "y_train_pt = pt.fit_transform(y_train.values.reshape(-1,1))\n",
        "y_test_pt = pt.transform(y_test.values.reshape(-1,1))"
      ]
    },
    {
      "cell_type": "code",
      "execution_count": 20,
      "metadata": {
        "colab": {
          "base_uri": "https://localhost:8080/"
        },
        "id": "TWPzIQCUj_74",
        "outputId": "0746142a-dbbc-43e7-d330-9e52d6e4f62a"
      },
      "outputs": [
        {
          "data": {
            "text/plain": [
              "Index(['age', 'ratings', 'weather', 'traffic', 'multiple_deliveries',\n",
              "       'festival', 'city_type', 'pickup_time_minutes', 'distance',\n",
              "       'distance_type'],\n",
              "      dtype='object')"
            ]
          },
          "execution_count": 20,
          "metadata": {},
          "output_type": "execute_result"
        }
      ],
      "source": [
        "missing_cols"
      ]
    },
    {
      "cell_type": "code",
      "execution_count": 21,
      "metadata": {
        "colab": {
          "base_uri": "https://localhost:8080/"
        },
        "id": "SaXhVBXJu6mO",
        "outputId": "380eb4a1-e421-4df8-8a84-e70a0bc46048"
      },
      "outputs": [
        {
          "data": {
            "text/plain": [
              "0.0"
            ]
          },
          "execution_count": 21,
          "metadata": {},
          "output_type": "execute_result"
        }
      ],
      "source": [
        "# percentage of rows in data having missing values\n",
        "\n",
        "(\n",
        "    X_train\n",
        "    .isna()\n",
        "    .any(axis=1)\n",
        "    .mean()\n",
        "    .round(2) * 100\n",
        ")\n"
      ]
    },
    {
      "cell_type": "markdown",
      "metadata": {
        "id": "QgGmD3bUeZNu"
      },
      "source": [
        "# Pre Processing Pipeline"
      ]
    },
    {
      "cell_type": "code",
      "execution_count": 22,
      "metadata": {
        "id": "84BqkPZdMlq8"
      },
      "outputs": [],
      "source": [
        "num_cols = [\"age\",\"ratings\",\"pickup_time_minutes\",\"distance\"]\n",
        "\n",
        "nominal_cat_cols = ['weather',\n",
        "                    'type_of_order',\n",
        "                    'type_of_vehicle',\n",
        "                    \"festival\",\n",
        "                    \"city_type\",\n",
        "                    \"is_weekend\",\n",
        "                    \"order_time_of_day\"]\n",
        "\n",
        "ordinal_cat_cols = [\"traffic\",\"distance_type\"]"
      ]
    },
    {
      "cell_type": "code",
      "execution_count": 23,
      "metadata": {
        "colab": {
          "base_uri": "https://localhost:8080/"
        },
        "id": "fPXnF6NUlGRB",
        "outputId": "0167852c-20c4-4ecd-dde1-737796c60942"
      },
      "outputs": [
        {
          "data": {
            "text/plain": [
              "['weather',\n",
              " 'type_of_order',\n",
              " 'type_of_vehicle',\n",
              " 'festival',\n",
              " 'city_type',\n",
              " 'is_weekend',\n",
              " 'order_time_of_day']"
            ]
          },
          "execution_count": 23,
          "metadata": {},
          "output_type": "execute_result"
        }
      ],
      "source": [
        "nominal_cat_cols"
      ]
    },
    {
      "cell_type": "code",
      "execution_count": 24,
      "metadata": {
        "colab": {
          "base_uri": "https://localhost:8080/",
          "height": 554
        },
        "id": "oUYxye7koxEk",
        "outputId": "af70a8e8-9f73-4349-b433-875c7873ed81"
      },
      "outputs": [
        {
          "data": {
            "text/plain": [
              "age                    0\n",
              "ratings                0\n",
              "weather                0\n",
              "traffic                0\n",
              "vehicle_condition      0\n",
              "type_of_order          0\n",
              "type_of_vehicle        0\n",
              "multiple_deliveries    0\n",
              "festival               0\n",
              "city_type              0\n",
              "is_weekend             0\n",
              "pickup_time_minutes    0\n",
              "order_time_of_day      0\n",
              "distance               0\n",
              "distance_type          0\n",
              "dtype: int64"
            ]
          },
          "execution_count": 24,
          "metadata": {},
          "output_type": "execute_result"
        }
      ],
      "source": [
        "X_train.isna().sum()"
      ]
    },
    {
      "cell_type": "code",
      "execution_count": null,
      "metadata": {
        "id": "pBUR-5tyeY2H"
      },
      "outputs": [],
      "source": [
        "# # features to fill values with mode\n",
        "\n",
        "# features_to_fill_mode = ['multiple_deliveries','festival','city_type']\n",
        "# features_to_fill_missing = [col for col in nominal_cat_cols if col not in features_to_fill_mode]\n",
        "\n",
        "# features_to_fill_missing"
      ]
    },
    {
      "cell_type": "code",
      "execution_count": null,
      "metadata": {
        "id": "259ezcJQeY8T"
      },
      "outputs": [],
      "source": [
        "# # simple imputer to fill categorical vars with mode\n",
        "\n",
        "# simple_imputer = ColumnTransformer(transformers=[\n",
        "#     (\"mode_imputer\",SimpleImputer(strategy=\"most_frequent\",add_indicator=True),features_to_fill_mode),\n",
        "#     (\"missing_imputer\",SimpleImputer(strategy=\"constant\",fill_value=\"missing\",add_indicator=True),features_to_fill_missing)\n",
        "# ],remainder=\"passthrough\",n_jobs=-1,force_int_remainder_cols=False,verbose_feature_names_out=False)\n",
        "\n",
        "# simple_imputer"
      ]
    },
    {
      "cell_type": "code",
      "execution_count": null,
      "metadata": {
        "id": "YERItBkNguCy"
      },
      "outputs": [],
      "source": [
        "# simple_imputer.fit_transform(X_train)"
      ]
    },
    {
      "cell_type": "code",
      "execution_count": null,
      "metadata": {
        "id": "64qFA5LOomEX"
      },
      "outputs": [],
      "source": [
        "# simple_imputer.fit_transform(X_train).isna().sum()"
      ]
    },
    {
      "cell_type": "code",
      "execution_count": null,
      "metadata": {
        "id": "3m4pvr89eYvo"
      },
      "outputs": [],
      "source": [
        "# knn imputer\n",
        "\n",
        "# knn_imputer = KNNImputer(n_neighbors=5)"
      ]
    },
    {
      "cell_type": "code",
      "execution_count": 25,
      "metadata": {
        "id": "CxotCZQykGzV"
      },
      "outputs": [],
      "source": [
        "# do basic preprocessing\n",
        "\n",
        "num_cols = [\"age\",\"ratings\",\"pickup_time_minutes\",\"distance\"]\n",
        "\n",
        "nominal_cat_cols = ['weather','type_of_order',\n",
        "                    'type_of_vehicle',\"festival\",\n",
        "                    \"city_type\",\n",
        "                    \"is_weekend\",\n",
        "                    \"order_time_of_day\"]\n",
        "\n",
        "ordinal_cat_cols = [\"traffic\",\"distance_type\"]"
      ]
    },
    {
      "cell_type": "code",
      "execution_count": 26,
      "metadata": {
        "id": "1vXEw79MkGzW"
      },
      "outputs": [],
      "source": [
        "# generate order for ordinal encoding\n",
        "\n",
        "traffic_order = [\"low\",\"medium\",\"high\",\"jam\"]\n",
        "\n",
        "distance_type_order = [\"short\",\"medium\",\"long\",\"very_long\"]"
      ]
    },
    {
      "cell_type": "code",
      "execution_count": 27,
      "metadata": {
        "colab": {
          "base_uri": "https://localhost:8080/"
        },
        "id": "Zdqxf1Kinfde",
        "outputId": "c866c15a-3055-4bc9-a9e3-ccc985b38746"
      },
      "outputs": [
        {
          "name": "stdout",
          "output_type": "stream",
          "text": [
            "traffic ['jam' 'low' 'medium' 'high']\n",
            "distance_type ['short' 'very_long' 'long' 'medium']\n"
          ]
        }
      ],
      "source": [
        "# unique categories the ordinal columns\n",
        "\n",
        "for col in ordinal_cat_cols:\n",
        "    print(col,X_train[col].unique())"
      ]
    },
    {
      "cell_type": "code",
      "execution_count": 28,
      "metadata": {
        "colab": {
          "base_uri": "https://localhost:8080/",
          "height": 136
        },
        "id": "IkSOLqvBkGzW",
        "outputId": "98c18e0d-c4e1-4f55-d9ff-88d49fca0ea9"
      },
      "outputs": [
        {
          "data": {
            "text/html": [
              "<style>#sk-container-id-1 {\n",
              "  /* Definition of color scheme common for light and dark mode */\n",
              "  --sklearn-color-text: black;\n",
              "  --sklearn-color-line: gray;\n",
              "  /* Definition of color scheme for unfitted estimators */\n",
              "  --sklearn-color-unfitted-level-0: #fff5e6;\n",
              "  --sklearn-color-unfitted-level-1: #f6e4d2;\n",
              "  --sklearn-color-unfitted-level-2: #ffe0b3;\n",
              "  --sklearn-color-unfitted-level-3: chocolate;\n",
              "  /* Definition of color scheme for fitted estimators */\n",
              "  --sklearn-color-fitted-level-0: #f0f8ff;\n",
              "  --sklearn-color-fitted-level-1: #d4ebff;\n",
              "  --sklearn-color-fitted-level-2: #b3dbfd;\n",
              "  --sklearn-color-fitted-level-3: cornflowerblue;\n",
              "\n",
              "  /* Specific color for light theme */\n",
              "  --sklearn-color-text-on-default-background: var(--sg-text-color, var(--theme-code-foreground, var(--jp-content-font-color1, black)));\n",
              "  --sklearn-color-background: var(--sg-background-color, var(--theme-background, var(--jp-layout-color0, white)));\n",
              "  --sklearn-color-border-box: var(--sg-text-color, var(--theme-code-foreground, var(--jp-content-font-color1, black)));\n",
              "  --sklearn-color-icon: #696969;\n",
              "\n",
              "  @media (prefers-color-scheme: dark) {\n",
              "    /* Redefinition of color scheme for dark theme */\n",
              "    --sklearn-color-text-on-default-background: var(--sg-text-color, var(--theme-code-foreground, var(--jp-content-font-color1, white)));\n",
              "    --sklearn-color-background: var(--sg-background-color, var(--theme-background, var(--jp-layout-color0, #111)));\n",
              "    --sklearn-color-border-box: var(--sg-text-color, var(--theme-code-foreground, var(--jp-content-font-color1, white)));\n",
              "    --sklearn-color-icon: #878787;\n",
              "  }\n",
              "}\n",
              "\n",
              "#sk-container-id-1 {\n",
              "  color: var(--sklearn-color-text);\n",
              "}\n",
              "\n",
              "#sk-container-id-1 pre {\n",
              "  padding: 0;\n",
              "}\n",
              "\n",
              "#sk-container-id-1 input.sk-hidden--visually {\n",
              "  border: 0;\n",
              "  clip: rect(1px 1px 1px 1px);\n",
              "  clip: rect(1px, 1px, 1px, 1px);\n",
              "  height: 1px;\n",
              "  margin: -1px;\n",
              "  overflow: hidden;\n",
              "  padding: 0;\n",
              "  position: absolute;\n",
              "  width: 1px;\n",
              "}\n",
              "\n",
              "#sk-container-id-1 div.sk-dashed-wrapped {\n",
              "  border: 1px dashed var(--sklearn-color-line);\n",
              "  margin: 0 0.4em 0.5em 0.4em;\n",
              "  box-sizing: border-box;\n",
              "  padding-bottom: 0.4em;\n",
              "  background-color: var(--sklearn-color-background);\n",
              "}\n",
              "\n",
              "#sk-container-id-1 div.sk-container {\n",
              "  /* jupyter's `normalize.less` sets `[hidden] { display: none; }`\n",
              "     but bootstrap.min.css set `[hidden] { display: none !important; }`\n",
              "     so we also need the `!important` here to be able to override the\n",
              "     default hidden behavior on the sphinx rendered scikit-learn.org.\n",
              "     See: https://github.com/scikit-learn/scikit-learn/issues/21755 */\n",
              "  display: inline-block !important;\n",
              "  position: relative;\n",
              "}\n",
              "\n",
              "#sk-container-id-1 div.sk-text-repr-fallback {\n",
              "  display: none;\n",
              "}\n",
              "\n",
              "div.sk-parallel-item,\n",
              "div.sk-serial,\n",
              "div.sk-item {\n",
              "  /* draw centered vertical line to link estimators */\n",
              "  background-image: linear-gradient(var(--sklearn-color-text-on-default-background), var(--sklearn-color-text-on-default-background));\n",
              "  background-size: 2px 100%;\n",
              "  background-repeat: no-repeat;\n",
              "  background-position: center center;\n",
              "}\n",
              "\n",
              "/* Parallel-specific style estimator block */\n",
              "\n",
              "#sk-container-id-1 div.sk-parallel-item::after {\n",
              "  content: \"\";\n",
              "  width: 100%;\n",
              "  border-bottom: 2px solid var(--sklearn-color-text-on-default-background);\n",
              "  flex-grow: 1;\n",
              "}\n",
              "\n",
              "#sk-container-id-1 div.sk-parallel {\n",
              "  display: flex;\n",
              "  align-items: stretch;\n",
              "  justify-content: center;\n",
              "  background-color: var(--sklearn-color-background);\n",
              "  position: relative;\n",
              "}\n",
              "\n",
              "#sk-container-id-1 div.sk-parallel-item {\n",
              "  display: flex;\n",
              "  flex-direction: column;\n",
              "}\n",
              "\n",
              "#sk-container-id-1 div.sk-parallel-item:first-child::after {\n",
              "  align-self: flex-end;\n",
              "  width: 50%;\n",
              "}\n",
              "\n",
              "#sk-container-id-1 div.sk-parallel-item:last-child::after {\n",
              "  align-self: flex-start;\n",
              "  width: 50%;\n",
              "}\n",
              "\n",
              "#sk-container-id-1 div.sk-parallel-item:only-child::after {\n",
              "  width: 0;\n",
              "}\n",
              "\n",
              "/* Serial-specific style estimator block */\n",
              "\n",
              "#sk-container-id-1 div.sk-serial {\n",
              "  display: flex;\n",
              "  flex-direction: column;\n",
              "  align-items: center;\n",
              "  background-color: var(--sklearn-color-background);\n",
              "  padding-right: 1em;\n",
              "  padding-left: 1em;\n",
              "}\n",
              "\n",
              "\n",
              "/* Toggleable style: style used for estimator/Pipeline/ColumnTransformer box that is\n",
              "clickable and can be expanded/collapsed.\n",
              "- Pipeline and ColumnTransformer use this feature and define the default style\n",
              "- Estimators will overwrite some part of the style using the `sk-estimator` class\n",
              "*/\n",
              "\n",
              "/* Pipeline and ColumnTransformer style (default) */\n",
              "\n",
              "#sk-container-id-1 div.sk-toggleable {\n",
              "  /* Default theme specific background. It is overwritten whether we have a\n",
              "  specific estimator or a Pipeline/ColumnTransformer */\n",
              "  background-color: var(--sklearn-color-background);\n",
              "}\n",
              "\n",
              "/* Toggleable label */\n",
              "#sk-container-id-1 label.sk-toggleable__label {\n",
              "  cursor: pointer;\n",
              "  display: block;\n",
              "  width: 100%;\n",
              "  margin-bottom: 0;\n",
              "  padding: 0.5em;\n",
              "  box-sizing: border-box;\n",
              "  text-align: center;\n",
              "}\n",
              "\n",
              "#sk-container-id-1 label.sk-toggleable__label-arrow:before {\n",
              "  /* Arrow on the left of the label */\n",
              "  content: \"▸\";\n",
              "  float: left;\n",
              "  margin-right: 0.25em;\n",
              "  color: var(--sklearn-color-icon);\n",
              "}\n",
              "\n",
              "#sk-container-id-1 label.sk-toggleable__label-arrow:hover:before {\n",
              "  color: var(--sklearn-color-text);\n",
              "}\n",
              "\n",
              "/* Toggleable content - dropdown */\n",
              "\n",
              "#sk-container-id-1 div.sk-toggleable__content {\n",
              "  max-height: 0;\n",
              "  max-width: 0;\n",
              "  overflow: hidden;\n",
              "  text-align: left;\n",
              "  /* unfitted */\n",
              "  background-color: var(--sklearn-color-unfitted-level-0);\n",
              "}\n",
              "\n",
              "#sk-container-id-1 div.sk-toggleable__content.fitted {\n",
              "  /* fitted */\n",
              "  background-color: var(--sklearn-color-fitted-level-0);\n",
              "}\n",
              "\n",
              "#sk-container-id-1 div.sk-toggleable__content pre {\n",
              "  margin: 0.2em;\n",
              "  border-radius: 0.25em;\n",
              "  color: var(--sklearn-color-text);\n",
              "  /* unfitted */\n",
              "  background-color: var(--sklearn-color-unfitted-level-0);\n",
              "}\n",
              "\n",
              "#sk-container-id-1 div.sk-toggleable__content.fitted pre {\n",
              "  /* unfitted */\n",
              "  background-color: var(--sklearn-color-fitted-level-0);\n",
              "}\n",
              "\n",
              "#sk-container-id-1 input.sk-toggleable__control:checked~div.sk-toggleable__content {\n",
              "  /* Expand drop-down */\n",
              "  max-height: 200px;\n",
              "  max-width: 100%;\n",
              "  overflow: auto;\n",
              "}\n",
              "\n",
              "#sk-container-id-1 input.sk-toggleable__control:checked~label.sk-toggleable__label-arrow:before {\n",
              "  content: \"▾\";\n",
              "}\n",
              "\n",
              "/* Pipeline/ColumnTransformer-specific style */\n",
              "\n",
              "#sk-container-id-1 div.sk-label input.sk-toggleable__control:checked~label.sk-toggleable__label {\n",
              "  color: var(--sklearn-color-text);\n",
              "  background-color: var(--sklearn-color-unfitted-level-2);\n",
              "}\n",
              "\n",
              "#sk-container-id-1 div.sk-label.fitted input.sk-toggleable__control:checked~label.sk-toggleable__label {\n",
              "  background-color: var(--sklearn-color-fitted-level-2);\n",
              "}\n",
              "\n",
              "/* Estimator-specific style */\n",
              "\n",
              "/* Colorize estimator box */\n",
              "#sk-container-id-1 div.sk-estimator input.sk-toggleable__control:checked~label.sk-toggleable__label {\n",
              "  /* unfitted */\n",
              "  background-color: var(--sklearn-color-unfitted-level-2);\n",
              "}\n",
              "\n",
              "#sk-container-id-1 div.sk-estimator.fitted input.sk-toggleable__control:checked~label.sk-toggleable__label {\n",
              "  /* fitted */\n",
              "  background-color: var(--sklearn-color-fitted-level-2);\n",
              "}\n",
              "\n",
              "#sk-container-id-1 div.sk-label label.sk-toggleable__label,\n",
              "#sk-container-id-1 div.sk-label label {\n",
              "  /* The background is the default theme color */\n",
              "  color: var(--sklearn-color-text-on-default-background);\n",
              "}\n",
              "\n",
              "/* On hover, darken the color of the background */\n",
              "#sk-container-id-1 div.sk-label:hover label.sk-toggleable__label {\n",
              "  color: var(--sklearn-color-text);\n",
              "  background-color: var(--sklearn-color-unfitted-level-2);\n",
              "}\n",
              "\n",
              "/* Label box, darken color on hover, fitted */\n",
              "#sk-container-id-1 div.sk-label.fitted:hover label.sk-toggleable__label.fitted {\n",
              "  color: var(--sklearn-color-text);\n",
              "  background-color: var(--sklearn-color-fitted-level-2);\n",
              "}\n",
              "\n",
              "/* Estimator label */\n",
              "\n",
              "#sk-container-id-1 div.sk-label label {\n",
              "  font-family: monospace;\n",
              "  font-weight: bold;\n",
              "  display: inline-block;\n",
              "  line-height: 1.2em;\n",
              "}\n",
              "\n",
              "#sk-container-id-1 div.sk-label-container {\n",
              "  text-align: center;\n",
              "}\n",
              "\n",
              "/* Estimator-specific */\n",
              "#sk-container-id-1 div.sk-estimator {\n",
              "  font-family: monospace;\n",
              "  border: 1px dotted var(--sklearn-color-border-box);\n",
              "  border-radius: 0.25em;\n",
              "  box-sizing: border-box;\n",
              "  margin-bottom: 0.5em;\n",
              "  /* unfitted */\n",
              "  background-color: var(--sklearn-color-unfitted-level-0);\n",
              "}\n",
              "\n",
              "#sk-container-id-1 div.sk-estimator.fitted {\n",
              "  /* fitted */\n",
              "  background-color: var(--sklearn-color-fitted-level-0);\n",
              "}\n",
              "\n",
              "/* on hover */\n",
              "#sk-container-id-1 div.sk-estimator:hover {\n",
              "  /* unfitted */\n",
              "  background-color: var(--sklearn-color-unfitted-level-2);\n",
              "}\n",
              "\n",
              "#sk-container-id-1 div.sk-estimator.fitted:hover {\n",
              "  /* fitted */\n",
              "  background-color: var(--sklearn-color-fitted-level-2);\n",
              "}\n",
              "\n",
              "/* Specification for estimator info (e.g. \"i\" and \"?\") */\n",
              "\n",
              "/* Common style for \"i\" and \"?\" */\n",
              "\n",
              ".sk-estimator-doc-link,\n",
              "a:link.sk-estimator-doc-link,\n",
              "a:visited.sk-estimator-doc-link {\n",
              "  float: right;\n",
              "  font-size: smaller;\n",
              "  line-height: 1em;\n",
              "  font-family: monospace;\n",
              "  background-color: var(--sklearn-color-background);\n",
              "  border-radius: 1em;\n",
              "  height: 1em;\n",
              "  width: 1em;\n",
              "  text-decoration: none !important;\n",
              "  margin-left: 1ex;\n",
              "  /* unfitted */\n",
              "  border: var(--sklearn-color-unfitted-level-1) 1pt solid;\n",
              "  color: var(--sklearn-color-unfitted-level-1);\n",
              "}\n",
              "\n",
              ".sk-estimator-doc-link.fitted,\n",
              "a:link.sk-estimator-doc-link.fitted,\n",
              "a:visited.sk-estimator-doc-link.fitted {\n",
              "  /* fitted */\n",
              "  border: var(--sklearn-color-fitted-level-1) 1pt solid;\n",
              "  color: var(--sklearn-color-fitted-level-1);\n",
              "}\n",
              "\n",
              "/* On hover */\n",
              "div.sk-estimator:hover .sk-estimator-doc-link:hover,\n",
              ".sk-estimator-doc-link:hover,\n",
              "div.sk-label-container:hover .sk-estimator-doc-link:hover,\n",
              ".sk-estimator-doc-link:hover {\n",
              "  /* unfitted */\n",
              "  background-color: var(--sklearn-color-unfitted-level-3);\n",
              "  color: var(--sklearn-color-background);\n",
              "  text-decoration: none;\n",
              "}\n",
              "\n",
              "div.sk-estimator.fitted:hover .sk-estimator-doc-link.fitted:hover,\n",
              ".sk-estimator-doc-link.fitted:hover,\n",
              "div.sk-label-container:hover .sk-estimator-doc-link.fitted:hover,\n",
              ".sk-estimator-doc-link.fitted:hover {\n",
              "  /* fitted */\n",
              "  background-color: var(--sklearn-color-fitted-level-3);\n",
              "  color: var(--sklearn-color-background);\n",
              "  text-decoration: none;\n",
              "}\n",
              "\n",
              "/* Span, style for the box shown on hovering the info icon */\n",
              ".sk-estimator-doc-link span {\n",
              "  display: none;\n",
              "  z-index: 9999;\n",
              "  position: relative;\n",
              "  font-weight: normal;\n",
              "  right: .2ex;\n",
              "  padding: .5ex;\n",
              "  margin: .5ex;\n",
              "  width: min-content;\n",
              "  min-width: 20ex;\n",
              "  max-width: 50ex;\n",
              "  color: var(--sklearn-color-text);\n",
              "  box-shadow: 2pt 2pt 4pt #999;\n",
              "  /* unfitted */\n",
              "  background: var(--sklearn-color-unfitted-level-0);\n",
              "  border: .5pt solid var(--sklearn-color-unfitted-level-3);\n",
              "}\n",
              "\n",
              ".sk-estimator-doc-link.fitted span {\n",
              "  /* fitted */\n",
              "  background: var(--sklearn-color-fitted-level-0);\n",
              "  border: var(--sklearn-color-fitted-level-3);\n",
              "}\n",
              "\n",
              ".sk-estimator-doc-link:hover span {\n",
              "  display: block;\n",
              "}\n",
              "\n",
              "/* \"?\"-specific style due to the `<a>` HTML tag */\n",
              "\n",
              "#sk-container-id-1 a.estimator_doc_link {\n",
              "  float: right;\n",
              "  font-size: 1rem;\n",
              "  line-height: 1em;\n",
              "  font-family: monospace;\n",
              "  background-color: var(--sklearn-color-background);\n",
              "  border-radius: 1rem;\n",
              "  height: 1rem;\n",
              "  width: 1rem;\n",
              "  text-decoration: none;\n",
              "  /* unfitted */\n",
              "  color: var(--sklearn-color-unfitted-level-1);\n",
              "  border: var(--sklearn-color-unfitted-level-1) 1pt solid;\n",
              "}\n",
              "\n",
              "#sk-container-id-1 a.estimator_doc_link.fitted {\n",
              "  /* fitted */\n",
              "  border: var(--sklearn-color-fitted-level-1) 1pt solid;\n",
              "  color: var(--sklearn-color-fitted-level-1);\n",
              "}\n",
              "\n",
              "/* On hover */\n",
              "#sk-container-id-1 a.estimator_doc_link:hover {\n",
              "  /* unfitted */\n",
              "  background-color: var(--sklearn-color-unfitted-level-3);\n",
              "  color: var(--sklearn-color-background);\n",
              "  text-decoration: none;\n",
              "}\n",
              "\n",
              "#sk-container-id-1 a.estimator_doc_link.fitted:hover {\n",
              "  /* fitted */\n",
              "  background-color: var(--sklearn-color-fitted-level-3);\n",
              "}\n",
              "</style><div id=\"sk-container-id-1\" class=\"sk-top-container\"><div class=\"sk-text-repr-fallback\"><pre>ColumnTransformer(force_int_remainder_cols=False, n_jobs=-1,\n",
              "                  remainder=&#x27;passthrough&#x27;,\n",
              "                  transformers=[(&#x27;scale&#x27;, MinMaxScaler(),\n",
              "                                 [&#x27;age&#x27;, &#x27;ratings&#x27;, &#x27;pickup_time_minutes&#x27;,\n",
              "                                  &#x27;distance&#x27;]),\n",
              "                                (&#x27;nominal_encode&#x27;,\n",
              "                                 OneHotEncoder(drop=&#x27;first&#x27;,\n",
              "                                               handle_unknown=&#x27;ignore&#x27;,\n",
              "                                               sparse_output=False),\n",
              "                                 [&#x27;weather&#x27;, &#x27;type_of_order&#x27;, &#x27;type_of_vehicle&#x27;,\n",
              "                                  &#x27;festival&#x27;, &#x27;city_type&#x27;, &#x27;is_weekend&#x27;,\n",
              "                                  &#x27;order_time_of_day&#x27;]),\n",
              "                                (&#x27;ordinal_encode&#x27;,\n",
              "                                 OrdinalEncoder(categories=[[&#x27;low&#x27;, &#x27;medium&#x27;,\n",
              "                                                             &#x27;high&#x27;, &#x27;jam&#x27;],\n",
              "                                                            [&#x27;short&#x27;, &#x27;medium&#x27;,\n",
              "                                                             &#x27;long&#x27;,\n",
              "                                                             &#x27;very_long&#x27;]],\n",
              "                                                encoded_missing_value=-999,\n",
              "                                                handle_unknown=&#x27;use_encoded_value&#x27;,\n",
              "                                                unknown_value=-1),\n",
              "                                 [&#x27;traffic&#x27;, &#x27;distance_type&#x27;])],\n",
              "                  verbose_feature_names_out=False)</pre><b>In a Jupyter environment, please rerun this cell to show the HTML representation or trust the notebook. <br />On GitHub, the HTML representation is unable to render, please try loading this page with nbviewer.org.</b></div><div class=\"sk-container\" hidden><div class=\"sk-item sk-dashed-wrapped\"><div class=\"sk-label-container\"><div class=\"sk-label  sk-toggleable\"><input class=\"sk-toggleable__control sk-hidden--visually\" id=\"sk-estimator-id-1\" type=\"checkbox\" ><label for=\"sk-estimator-id-1\" class=\"sk-toggleable__label  sk-toggleable__label-arrow \">&nbsp;&nbsp;ColumnTransformer<a class=\"sk-estimator-doc-link \" rel=\"noreferrer\" target=\"_blank\" href=\"https://scikit-learn.org/1.5/modules/generated/sklearn.compose.ColumnTransformer.html\">?<span>Documentation for ColumnTransformer</span></a><span class=\"sk-estimator-doc-link \">i<span>Not fitted</span></span></label><div class=\"sk-toggleable__content \"><pre>ColumnTransformer(force_int_remainder_cols=False, n_jobs=-1,\n",
              "                  remainder=&#x27;passthrough&#x27;,\n",
              "                  transformers=[(&#x27;scale&#x27;, MinMaxScaler(),\n",
              "                                 [&#x27;age&#x27;, &#x27;ratings&#x27;, &#x27;pickup_time_minutes&#x27;,\n",
              "                                  &#x27;distance&#x27;]),\n",
              "                                (&#x27;nominal_encode&#x27;,\n",
              "                                 OneHotEncoder(drop=&#x27;first&#x27;,\n",
              "                                               handle_unknown=&#x27;ignore&#x27;,\n",
              "                                               sparse_output=False),\n",
              "                                 [&#x27;weather&#x27;, &#x27;type_of_order&#x27;, &#x27;type_of_vehicle&#x27;,\n",
              "                                  &#x27;festival&#x27;, &#x27;city_type&#x27;, &#x27;is_weekend&#x27;,\n",
              "                                  &#x27;order_time_of_day&#x27;]),\n",
              "                                (&#x27;ordinal_encode&#x27;,\n",
              "                                 OrdinalEncoder(categories=[[&#x27;low&#x27;, &#x27;medium&#x27;,\n",
              "                                                             &#x27;high&#x27;, &#x27;jam&#x27;],\n",
              "                                                            [&#x27;short&#x27;, &#x27;medium&#x27;,\n",
              "                                                             &#x27;long&#x27;,\n",
              "                                                             &#x27;very_long&#x27;]],\n",
              "                                                encoded_missing_value=-999,\n",
              "                                                handle_unknown=&#x27;use_encoded_value&#x27;,\n",
              "                                                unknown_value=-1),\n",
              "                                 [&#x27;traffic&#x27;, &#x27;distance_type&#x27;])],\n",
              "                  verbose_feature_names_out=False)</pre></div> </div></div><div class=\"sk-parallel\"><div class=\"sk-parallel-item\"><div class=\"sk-item\"><div class=\"sk-label-container\"><div class=\"sk-label  sk-toggleable\"><input class=\"sk-toggleable__control sk-hidden--visually\" id=\"sk-estimator-id-2\" type=\"checkbox\" ><label for=\"sk-estimator-id-2\" class=\"sk-toggleable__label  sk-toggleable__label-arrow \">scale</label><div class=\"sk-toggleable__content \"><pre>[&#x27;age&#x27;, &#x27;ratings&#x27;, &#x27;pickup_time_minutes&#x27;, &#x27;distance&#x27;]</pre></div> </div></div><div class=\"sk-serial\"><div class=\"sk-item\"><div class=\"sk-estimator  sk-toggleable\"><input class=\"sk-toggleable__control sk-hidden--visually\" id=\"sk-estimator-id-3\" type=\"checkbox\" ><label for=\"sk-estimator-id-3\" class=\"sk-toggleable__label  sk-toggleable__label-arrow \">&nbsp;MinMaxScaler<a class=\"sk-estimator-doc-link \" rel=\"noreferrer\" target=\"_blank\" href=\"https://scikit-learn.org/1.5/modules/generated/sklearn.preprocessing.MinMaxScaler.html\">?<span>Documentation for MinMaxScaler</span></a></label><div class=\"sk-toggleable__content \"><pre>MinMaxScaler()</pre></div> </div></div></div></div></div><div class=\"sk-parallel-item\"><div class=\"sk-item\"><div class=\"sk-label-container\"><div class=\"sk-label  sk-toggleable\"><input class=\"sk-toggleable__control sk-hidden--visually\" id=\"sk-estimator-id-4\" type=\"checkbox\" ><label for=\"sk-estimator-id-4\" class=\"sk-toggleable__label  sk-toggleable__label-arrow \">nominal_encode</label><div class=\"sk-toggleable__content \"><pre>[&#x27;weather&#x27;, &#x27;type_of_order&#x27;, &#x27;type_of_vehicle&#x27;, &#x27;festival&#x27;, &#x27;city_type&#x27;, &#x27;is_weekend&#x27;, &#x27;order_time_of_day&#x27;]</pre></div> </div></div><div class=\"sk-serial\"><div class=\"sk-item\"><div class=\"sk-estimator  sk-toggleable\"><input class=\"sk-toggleable__control sk-hidden--visually\" id=\"sk-estimator-id-5\" type=\"checkbox\" ><label for=\"sk-estimator-id-5\" class=\"sk-toggleable__label  sk-toggleable__label-arrow \">&nbsp;OneHotEncoder<a class=\"sk-estimator-doc-link \" rel=\"noreferrer\" target=\"_blank\" href=\"https://scikit-learn.org/1.5/modules/generated/sklearn.preprocessing.OneHotEncoder.html\">?<span>Documentation for OneHotEncoder</span></a></label><div class=\"sk-toggleable__content \"><pre>OneHotEncoder(drop=&#x27;first&#x27;, handle_unknown=&#x27;ignore&#x27;, sparse_output=False)</pre></div> </div></div></div></div></div><div class=\"sk-parallel-item\"><div class=\"sk-item\"><div class=\"sk-label-container\"><div class=\"sk-label  sk-toggleable\"><input class=\"sk-toggleable__control sk-hidden--visually\" id=\"sk-estimator-id-6\" type=\"checkbox\" ><label for=\"sk-estimator-id-6\" class=\"sk-toggleable__label  sk-toggleable__label-arrow \">ordinal_encode</label><div class=\"sk-toggleable__content \"><pre>[&#x27;traffic&#x27;, &#x27;distance_type&#x27;]</pre></div> </div></div><div class=\"sk-serial\"><div class=\"sk-item\"><div class=\"sk-estimator  sk-toggleable\"><input class=\"sk-toggleable__control sk-hidden--visually\" id=\"sk-estimator-id-7\" type=\"checkbox\" ><label for=\"sk-estimator-id-7\" class=\"sk-toggleable__label  sk-toggleable__label-arrow \">&nbsp;OrdinalEncoder<a class=\"sk-estimator-doc-link \" rel=\"noreferrer\" target=\"_blank\" href=\"https://scikit-learn.org/1.5/modules/generated/sklearn.preprocessing.OrdinalEncoder.html\">?<span>Documentation for OrdinalEncoder</span></a></label><div class=\"sk-toggleable__content \"><pre>OrdinalEncoder(categories=[[&#x27;low&#x27;, &#x27;medium&#x27;, &#x27;high&#x27;, &#x27;jam&#x27;],\n",
              "                           [&#x27;short&#x27;, &#x27;medium&#x27;, &#x27;long&#x27;, &#x27;very_long&#x27;]],\n",
              "               encoded_missing_value=-999, handle_unknown=&#x27;use_encoded_value&#x27;,\n",
              "               unknown_value=-1)</pre></div> </div></div></div></div></div><div class=\"sk-parallel-item\"><div class=\"sk-item\"><div class=\"sk-label-container\"><div class=\"sk-label  sk-toggleable\"><input class=\"sk-toggleable__control sk-hidden--visually\" id=\"sk-estimator-id-8\" type=\"checkbox\" ><label for=\"sk-estimator-id-8\" class=\"sk-toggleable__label  sk-toggleable__label-arrow \">remainder</label><div class=\"sk-toggleable__content \"><pre></pre></div> </div></div><div class=\"sk-serial\"><div class=\"sk-item\"><div class=\"sk-estimator  sk-toggleable\"><input class=\"sk-toggleable__control sk-hidden--visually\" id=\"sk-estimator-id-9\" type=\"checkbox\" ><label for=\"sk-estimator-id-9\" class=\"sk-toggleable__label  sk-toggleable__label-arrow \">passthrough</label><div class=\"sk-toggleable__content \"><pre>passthrough</pre></div> </div></div></div></div></div></div></div></div></div>"
            ],
            "text/plain": [
              "ColumnTransformer(force_int_remainder_cols=False, n_jobs=-1,\n",
              "                  remainder='passthrough',\n",
              "                  transformers=[('scale', MinMaxScaler(),\n",
              "                                 ['age', 'ratings', 'pickup_time_minutes',\n",
              "                                  'distance']),\n",
              "                                ('nominal_encode',\n",
              "                                 OneHotEncoder(drop='first',\n",
              "                                               handle_unknown='ignore',\n",
              "                                               sparse_output=False),\n",
              "                                 ['weather', 'type_of_order', 'type_of_vehicle',\n",
              "                                  'festival', 'city_type', 'is_weekend',\n",
              "                                  'order_time_of_day']),\n",
              "                                ('ordinal_encode',\n",
              "                                 OrdinalEncoder(categories=[['low', 'medium',\n",
              "                                                             'high', 'jam'],\n",
              "                                                            ['short', 'medium',\n",
              "                                                             'long',\n",
              "                                                             'very_long']],\n",
              "                                                encoded_missing_value=-999,\n",
              "                                                handle_unknown='use_encoded_value',\n",
              "                                                unknown_value=-1),\n",
              "                                 ['traffic', 'distance_type'])],\n",
              "                  verbose_feature_names_out=False)"
            ]
          },
          "execution_count": 28,
          "metadata": {},
          "output_type": "execute_result"
        }
      ],
      "source": [
        "# build a preprocessor\n",
        "\n",
        "preprocessor = ColumnTransformer(transformers=[\n",
        "    (\"scale\", MinMaxScaler(), num_cols),\n",
        "    (\"nominal_encode\", OneHotEncoder(drop=\"first\",handle_unknown=\"ignore\",\n",
        "                                     sparse_output=False), nominal_cat_cols),\n",
        "    (\"ordinal_encode\", OrdinalEncoder(categories=[traffic_order,distance_type_order],\n",
        "                                      encoded_missing_value=-999,\n",
        "                                      handle_unknown=\"use_encoded_value\",\n",
        "                                      unknown_value=-1), ordinal_cat_cols)\n",
        "],remainder=\"passthrough\",n_jobs=-1,force_int_remainder_cols=False,verbose_feature_names_out=False)\n",
        "\n",
        "\n",
        "preprocessor"
      ]
    },
    {
      "cell_type": "code",
      "execution_count": 29,
      "metadata": {
        "colab": {
          "base_uri": "https://localhost:8080/",
          "height": 181
        },
        "id": "n7uZVB6seYc_",
        "outputId": "b5809c9d-94fb-46ca-97ca-9d025072b044"
      },
      "outputs": [
        {
          "data": {
            "text/html": [
              "<style>#sk-container-id-2 {\n",
              "  /* Definition of color scheme common for light and dark mode */\n",
              "  --sklearn-color-text: black;\n",
              "  --sklearn-color-line: gray;\n",
              "  /* Definition of color scheme for unfitted estimators */\n",
              "  --sklearn-color-unfitted-level-0: #fff5e6;\n",
              "  --sklearn-color-unfitted-level-1: #f6e4d2;\n",
              "  --sklearn-color-unfitted-level-2: #ffe0b3;\n",
              "  --sklearn-color-unfitted-level-3: chocolate;\n",
              "  /* Definition of color scheme for fitted estimators */\n",
              "  --sklearn-color-fitted-level-0: #f0f8ff;\n",
              "  --sklearn-color-fitted-level-1: #d4ebff;\n",
              "  --sklearn-color-fitted-level-2: #b3dbfd;\n",
              "  --sklearn-color-fitted-level-3: cornflowerblue;\n",
              "\n",
              "  /* Specific color for light theme */\n",
              "  --sklearn-color-text-on-default-background: var(--sg-text-color, var(--theme-code-foreground, var(--jp-content-font-color1, black)));\n",
              "  --sklearn-color-background: var(--sg-background-color, var(--theme-background, var(--jp-layout-color0, white)));\n",
              "  --sklearn-color-border-box: var(--sg-text-color, var(--theme-code-foreground, var(--jp-content-font-color1, black)));\n",
              "  --sklearn-color-icon: #696969;\n",
              "\n",
              "  @media (prefers-color-scheme: dark) {\n",
              "    /* Redefinition of color scheme for dark theme */\n",
              "    --sklearn-color-text-on-default-background: var(--sg-text-color, var(--theme-code-foreground, var(--jp-content-font-color1, white)));\n",
              "    --sklearn-color-background: var(--sg-background-color, var(--theme-background, var(--jp-layout-color0, #111)));\n",
              "    --sklearn-color-border-box: var(--sg-text-color, var(--theme-code-foreground, var(--jp-content-font-color1, white)));\n",
              "    --sklearn-color-icon: #878787;\n",
              "  }\n",
              "}\n",
              "\n",
              "#sk-container-id-2 {\n",
              "  color: var(--sklearn-color-text);\n",
              "}\n",
              "\n",
              "#sk-container-id-2 pre {\n",
              "  padding: 0;\n",
              "}\n",
              "\n",
              "#sk-container-id-2 input.sk-hidden--visually {\n",
              "  border: 0;\n",
              "  clip: rect(1px 1px 1px 1px);\n",
              "  clip: rect(1px, 1px, 1px, 1px);\n",
              "  height: 1px;\n",
              "  margin: -1px;\n",
              "  overflow: hidden;\n",
              "  padding: 0;\n",
              "  position: absolute;\n",
              "  width: 1px;\n",
              "}\n",
              "\n",
              "#sk-container-id-2 div.sk-dashed-wrapped {\n",
              "  border: 1px dashed var(--sklearn-color-line);\n",
              "  margin: 0 0.4em 0.5em 0.4em;\n",
              "  box-sizing: border-box;\n",
              "  padding-bottom: 0.4em;\n",
              "  background-color: var(--sklearn-color-background);\n",
              "}\n",
              "\n",
              "#sk-container-id-2 div.sk-container {\n",
              "  /* jupyter's `normalize.less` sets `[hidden] { display: none; }`\n",
              "     but bootstrap.min.css set `[hidden] { display: none !important; }`\n",
              "     so we also need the `!important` here to be able to override the\n",
              "     default hidden behavior on the sphinx rendered scikit-learn.org.\n",
              "     See: https://github.com/scikit-learn/scikit-learn/issues/21755 */\n",
              "  display: inline-block !important;\n",
              "  position: relative;\n",
              "}\n",
              "\n",
              "#sk-container-id-2 div.sk-text-repr-fallback {\n",
              "  display: none;\n",
              "}\n",
              "\n",
              "div.sk-parallel-item,\n",
              "div.sk-serial,\n",
              "div.sk-item {\n",
              "  /* draw centered vertical line to link estimators */\n",
              "  background-image: linear-gradient(var(--sklearn-color-text-on-default-background), var(--sklearn-color-text-on-default-background));\n",
              "  background-size: 2px 100%;\n",
              "  background-repeat: no-repeat;\n",
              "  background-position: center center;\n",
              "}\n",
              "\n",
              "/* Parallel-specific style estimator block */\n",
              "\n",
              "#sk-container-id-2 div.sk-parallel-item::after {\n",
              "  content: \"\";\n",
              "  width: 100%;\n",
              "  border-bottom: 2px solid var(--sklearn-color-text-on-default-background);\n",
              "  flex-grow: 1;\n",
              "}\n",
              "\n",
              "#sk-container-id-2 div.sk-parallel {\n",
              "  display: flex;\n",
              "  align-items: stretch;\n",
              "  justify-content: center;\n",
              "  background-color: var(--sklearn-color-background);\n",
              "  position: relative;\n",
              "}\n",
              "\n",
              "#sk-container-id-2 div.sk-parallel-item {\n",
              "  display: flex;\n",
              "  flex-direction: column;\n",
              "}\n",
              "\n",
              "#sk-container-id-2 div.sk-parallel-item:first-child::after {\n",
              "  align-self: flex-end;\n",
              "  width: 50%;\n",
              "}\n",
              "\n",
              "#sk-container-id-2 div.sk-parallel-item:last-child::after {\n",
              "  align-self: flex-start;\n",
              "  width: 50%;\n",
              "}\n",
              "\n",
              "#sk-container-id-2 div.sk-parallel-item:only-child::after {\n",
              "  width: 0;\n",
              "}\n",
              "\n",
              "/* Serial-specific style estimator block */\n",
              "\n",
              "#sk-container-id-2 div.sk-serial {\n",
              "  display: flex;\n",
              "  flex-direction: column;\n",
              "  align-items: center;\n",
              "  background-color: var(--sklearn-color-background);\n",
              "  padding-right: 1em;\n",
              "  padding-left: 1em;\n",
              "}\n",
              "\n",
              "\n",
              "/* Toggleable style: style used for estimator/Pipeline/ColumnTransformer box that is\n",
              "clickable and can be expanded/collapsed.\n",
              "- Pipeline and ColumnTransformer use this feature and define the default style\n",
              "- Estimators will overwrite some part of the style using the `sk-estimator` class\n",
              "*/\n",
              "\n",
              "/* Pipeline and ColumnTransformer style (default) */\n",
              "\n",
              "#sk-container-id-2 div.sk-toggleable {\n",
              "  /* Default theme specific background. It is overwritten whether we have a\n",
              "  specific estimator or a Pipeline/ColumnTransformer */\n",
              "  background-color: var(--sklearn-color-background);\n",
              "}\n",
              "\n",
              "/* Toggleable label */\n",
              "#sk-container-id-2 label.sk-toggleable__label {\n",
              "  cursor: pointer;\n",
              "  display: block;\n",
              "  width: 100%;\n",
              "  margin-bottom: 0;\n",
              "  padding: 0.5em;\n",
              "  box-sizing: border-box;\n",
              "  text-align: center;\n",
              "}\n",
              "\n",
              "#sk-container-id-2 label.sk-toggleable__label-arrow:before {\n",
              "  /* Arrow on the left of the label */\n",
              "  content: \"▸\";\n",
              "  float: left;\n",
              "  margin-right: 0.25em;\n",
              "  color: var(--sklearn-color-icon);\n",
              "}\n",
              "\n",
              "#sk-container-id-2 label.sk-toggleable__label-arrow:hover:before {\n",
              "  color: var(--sklearn-color-text);\n",
              "}\n",
              "\n",
              "/* Toggleable content - dropdown */\n",
              "\n",
              "#sk-container-id-2 div.sk-toggleable__content {\n",
              "  max-height: 0;\n",
              "  max-width: 0;\n",
              "  overflow: hidden;\n",
              "  text-align: left;\n",
              "  /* unfitted */\n",
              "  background-color: var(--sklearn-color-unfitted-level-0);\n",
              "}\n",
              "\n",
              "#sk-container-id-2 div.sk-toggleable__content.fitted {\n",
              "  /* fitted */\n",
              "  background-color: var(--sklearn-color-fitted-level-0);\n",
              "}\n",
              "\n",
              "#sk-container-id-2 div.sk-toggleable__content pre {\n",
              "  margin: 0.2em;\n",
              "  border-radius: 0.25em;\n",
              "  color: var(--sklearn-color-text);\n",
              "  /* unfitted */\n",
              "  background-color: var(--sklearn-color-unfitted-level-0);\n",
              "}\n",
              "\n",
              "#sk-container-id-2 div.sk-toggleable__content.fitted pre {\n",
              "  /* unfitted */\n",
              "  background-color: var(--sklearn-color-fitted-level-0);\n",
              "}\n",
              "\n",
              "#sk-container-id-2 input.sk-toggleable__control:checked~div.sk-toggleable__content {\n",
              "  /* Expand drop-down */\n",
              "  max-height: 200px;\n",
              "  max-width: 100%;\n",
              "  overflow: auto;\n",
              "}\n",
              "\n",
              "#sk-container-id-2 input.sk-toggleable__control:checked~label.sk-toggleable__label-arrow:before {\n",
              "  content: \"▾\";\n",
              "}\n",
              "\n",
              "/* Pipeline/ColumnTransformer-specific style */\n",
              "\n",
              "#sk-container-id-2 div.sk-label input.sk-toggleable__control:checked~label.sk-toggleable__label {\n",
              "  color: var(--sklearn-color-text);\n",
              "  background-color: var(--sklearn-color-unfitted-level-2);\n",
              "}\n",
              "\n",
              "#sk-container-id-2 div.sk-label.fitted input.sk-toggleable__control:checked~label.sk-toggleable__label {\n",
              "  background-color: var(--sklearn-color-fitted-level-2);\n",
              "}\n",
              "\n",
              "/* Estimator-specific style */\n",
              "\n",
              "/* Colorize estimator box */\n",
              "#sk-container-id-2 div.sk-estimator input.sk-toggleable__control:checked~label.sk-toggleable__label {\n",
              "  /* unfitted */\n",
              "  background-color: var(--sklearn-color-unfitted-level-2);\n",
              "}\n",
              "\n",
              "#sk-container-id-2 div.sk-estimator.fitted input.sk-toggleable__control:checked~label.sk-toggleable__label {\n",
              "  /* fitted */\n",
              "  background-color: var(--sklearn-color-fitted-level-2);\n",
              "}\n",
              "\n",
              "#sk-container-id-2 div.sk-label label.sk-toggleable__label,\n",
              "#sk-container-id-2 div.sk-label label {\n",
              "  /* The background is the default theme color */\n",
              "  color: var(--sklearn-color-text-on-default-background);\n",
              "}\n",
              "\n",
              "/* On hover, darken the color of the background */\n",
              "#sk-container-id-2 div.sk-label:hover label.sk-toggleable__label {\n",
              "  color: var(--sklearn-color-text);\n",
              "  background-color: var(--sklearn-color-unfitted-level-2);\n",
              "}\n",
              "\n",
              "/* Label box, darken color on hover, fitted */\n",
              "#sk-container-id-2 div.sk-label.fitted:hover label.sk-toggleable__label.fitted {\n",
              "  color: var(--sklearn-color-text);\n",
              "  background-color: var(--sklearn-color-fitted-level-2);\n",
              "}\n",
              "\n",
              "/* Estimator label */\n",
              "\n",
              "#sk-container-id-2 div.sk-label label {\n",
              "  font-family: monospace;\n",
              "  font-weight: bold;\n",
              "  display: inline-block;\n",
              "  line-height: 1.2em;\n",
              "}\n",
              "\n",
              "#sk-container-id-2 div.sk-label-container {\n",
              "  text-align: center;\n",
              "}\n",
              "\n",
              "/* Estimator-specific */\n",
              "#sk-container-id-2 div.sk-estimator {\n",
              "  font-family: monospace;\n",
              "  border: 1px dotted var(--sklearn-color-border-box);\n",
              "  border-radius: 0.25em;\n",
              "  box-sizing: border-box;\n",
              "  margin-bottom: 0.5em;\n",
              "  /* unfitted */\n",
              "  background-color: var(--sklearn-color-unfitted-level-0);\n",
              "}\n",
              "\n",
              "#sk-container-id-2 div.sk-estimator.fitted {\n",
              "  /* fitted */\n",
              "  background-color: var(--sklearn-color-fitted-level-0);\n",
              "}\n",
              "\n",
              "/* on hover */\n",
              "#sk-container-id-2 div.sk-estimator:hover {\n",
              "  /* unfitted */\n",
              "  background-color: var(--sklearn-color-unfitted-level-2);\n",
              "}\n",
              "\n",
              "#sk-container-id-2 div.sk-estimator.fitted:hover {\n",
              "  /* fitted */\n",
              "  background-color: var(--sklearn-color-fitted-level-2);\n",
              "}\n",
              "\n",
              "/* Specification for estimator info (e.g. \"i\" and \"?\") */\n",
              "\n",
              "/* Common style for \"i\" and \"?\" */\n",
              "\n",
              ".sk-estimator-doc-link,\n",
              "a:link.sk-estimator-doc-link,\n",
              "a:visited.sk-estimator-doc-link {\n",
              "  float: right;\n",
              "  font-size: smaller;\n",
              "  line-height: 1em;\n",
              "  font-family: monospace;\n",
              "  background-color: var(--sklearn-color-background);\n",
              "  border-radius: 1em;\n",
              "  height: 1em;\n",
              "  width: 1em;\n",
              "  text-decoration: none !important;\n",
              "  margin-left: 1ex;\n",
              "  /* unfitted */\n",
              "  border: var(--sklearn-color-unfitted-level-1) 1pt solid;\n",
              "  color: var(--sklearn-color-unfitted-level-1);\n",
              "}\n",
              "\n",
              ".sk-estimator-doc-link.fitted,\n",
              "a:link.sk-estimator-doc-link.fitted,\n",
              "a:visited.sk-estimator-doc-link.fitted {\n",
              "  /* fitted */\n",
              "  border: var(--sklearn-color-fitted-level-1) 1pt solid;\n",
              "  color: var(--sklearn-color-fitted-level-1);\n",
              "}\n",
              "\n",
              "/* On hover */\n",
              "div.sk-estimator:hover .sk-estimator-doc-link:hover,\n",
              ".sk-estimator-doc-link:hover,\n",
              "div.sk-label-container:hover .sk-estimator-doc-link:hover,\n",
              ".sk-estimator-doc-link:hover {\n",
              "  /* unfitted */\n",
              "  background-color: var(--sklearn-color-unfitted-level-3);\n",
              "  color: var(--sklearn-color-background);\n",
              "  text-decoration: none;\n",
              "}\n",
              "\n",
              "div.sk-estimator.fitted:hover .sk-estimator-doc-link.fitted:hover,\n",
              ".sk-estimator-doc-link.fitted:hover,\n",
              "div.sk-label-container:hover .sk-estimator-doc-link.fitted:hover,\n",
              ".sk-estimator-doc-link.fitted:hover {\n",
              "  /* fitted */\n",
              "  background-color: var(--sklearn-color-fitted-level-3);\n",
              "  color: var(--sklearn-color-background);\n",
              "  text-decoration: none;\n",
              "}\n",
              "\n",
              "/* Span, style for the box shown on hovering the info icon */\n",
              ".sk-estimator-doc-link span {\n",
              "  display: none;\n",
              "  z-index: 9999;\n",
              "  position: relative;\n",
              "  font-weight: normal;\n",
              "  right: .2ex;\n",
              "  padding: .5ex;\n",
              "  margin: .5ex;\n",
              "  width: min-content;\n",
              "  min-width: 20ex;\n",
              "  max-width: 50ex;\n",
              "  color: var(--sklearn-color-text);\n",
              "  box-shadow: 2pt 2pt 4pt #999;\n",
              "  /* unfitted */\n",
              "  background: var(--sklearn-color-unfitted-level-0);\n",
              "  border: .5pt solid var(--sklearn-color-unfitted-level-3);\n",
              "}\n",
              "\n",
              ".sk-estimator-doc-link.fitted span {\n",
              "  /* fitted */\n",
              "  background: var(--sklearn-color-fitted-level-0);\n",
              "  border: var(--sklearn-color-fitted-level-3);\n",
              "}\n",
              "\n",
              ".sk-estimator-doc-link:hover span {\n",
              "  display: block;\n",
              "}\n",
              "\n",
              "/* \"?\"-specific style due to the `<a>` HTML tag */\n",
              "\n",
              "#sk-container-id-2 a.estimator_doc_link {\n",
              "  float: right;\n",
              "  font-size: 1rem;\n",
              "  line-height: 1em;\n",
              "  font-family: monospace;\n",
              "  background-color: var(--sklearn-color-background);\n",
              "  border-radius: 1rem;\n",
              "  height: 1rem;\n",
              "  width: 1rem;\n",
              "  text-decoration: none;\n",
              "  /* unfitted */\n",
              "  color: var(--sklearn-color-unfitted-level-1);\n",
              "  border: var(--sklearn-color-unfitted-level-1) 1pt solid;\n",
              "}\n",
              "\n",
              "#sk-container-id-2 a.estimator_doc_link.fitted {\n",
              "  /* fitted */\n",
              "  border: var(--sklearn-color-fitted-level-1) 1pt solid;\n",
              "  color: var(--sklearn-color-fitted-level-1);\n",
              "}\n",
              "\n",
              "/* On hover */\n",
              "#sk-container-id-2 a.estimator_doc_link:hover {\n",
              "  /* unfitted */\n",
              "  background-color: var(--sklearn-color-unfitted-level-3);\n",
              "  color: var(--sklearn-color-background);\n",
              "  text-decoration: none;\n",
              "}\n",
              "\n",
              "#sk-container-id-2 a.estimator_doc_link.fitted:hover {\n",
              "  /* fitted */\n",
              "  background-color: var(--sklearn-color-fitted-level-3);\n",
              "}\n",
              "</style><div id=\"sk-container-id-2\" class=\"sk-top-container\"><div class=\"sk-text-repr-fallback\"><pre>Pipeline(steps=[(&#x27;preprocess&#x27;,\n",
              "                 ColumnTransformer(force_int_remainder_cols=False, n_jobs=-1,\n",
              "                                   remainder=&#x27;passthrough&#x27;,\n",
              "                                   transformers=[(&#x27;scale&#x27;, MinMaxScaler(),\n",
              "                                                  [&#x27;age&#x27;, &#x27;ratings&#x27;,\n",
              "                                                   &#x27;pickup_time_minutes&#x27;,\n",
              "                                                   &#x27;distance&#x27;]),\n",
              "                                                 (&#x27;nominal_encode&#x27;,\n",
              "                                                  OneHotEncoder(drop=&#x27;first&#x27;,\n",
              "                                                                handle_unknown=&#x27;ignore&#x27;,\n",
              "                                                                sparse_output=False),\n",
              "                                                  [&#x27;weather&#x27;, &#x27;type_of_order&#x27;,\n",
              "                                                   &#x27;type_of_vehicle&#x27;,\n",
              "                                                   &#x27;festival&#x27;, &#x27;city_type&#x27;,\n",
              "                                                   &#x27;is_weekend&#x27;,\n",
              "                                                   &#x27;order_time_of_day&#x27;]),\n",
              "                                                 (&#x27;ordinal_encode&#x27;,\n",
              "                                                  OrdinalEncoder(categories=[[&#x27;low&#x27;,\n",
              "                                                                              &#x27;medium&#x27;,\n",
              "                                                                              &#x27;high&#x27;,\n",
              "                                                                              &#x27;jam&#x27;],\n",
              "                                                                             [&#x27;short&#x27;,\n",
              "                                                                              &#x27;medium&#x27;,\n",
              "                                                                              &#x27;long&#x27;,\n",
              "                                                                              &#x27;very_long&#x27;]],\n",
              "                                                                 encoded_missing_value=-999,\n",
              "                                                                 handle_unknown=&#x27;use_encoded_value&#x27;,\n",
              "                                                                 unknown_value=-1),\n",
              "                                                  [&#x27;traffic&#x27;,\n",
              "                                                   &#x27;distance_type&#x27;])],\n",
              "                                   verbose_feature_names_out=False))])</pre><b>In a Jupyter environment, please rerun this cell to show the HTML representation or trust the notebook. <br />On GitHub, the HTML representation is unable to render, please try loading this page with nbviewer.org.</b></div><div class=\"sk-container\" hidden><div class=\"sk-item sk-dashed-wrapped\"><div class=\"sk-label-container\"><div class=\"sk-label  sk-toggleable\"><input class=\"sk-toggleable__control sk-hidden--visually\" id=\"sk-estimator-id-10\" type=\"checkbox\" ><label for=\"sk-estimator-id-10\" class=\"sk-toggleable__label  sk-toggleable__label-arrow \">&nbsp;&nbsp;Pipeline<a class=\"sk-estimator-doc-link \" rel=\"noreferrer\" target=\"_blank\" href=\"https://scikit-learn.org/1.5/modules/generated/sklearn.pipeline.Pipeline.html\">?<span>Documentation for Pipeline</span></a><span class=\"sk-estimator-doc-link \">i<span>Not fitted</span></span></label><div class=\"sk-toggleable__content \"><pre>Pipeline(steps=[(&#x27;preprocess&#x27;,\n",
              "                 ColumnTransformer(force_int_remainder_cols=False, n_jobs=-1,\n",
              "                                   remainder=&#x27;passthrough&#x27;,\n",
              "                                   transformers=[(&#x27;scale&#x27;, MinMaxScaler(),\n",
              "                                                  [&#x27;age&#x27;, &#x27;ratings&#x27;,\n",
              "                                                   &#x27;pickup_time_minutes&#x27;,\n",
              "                                                   &#x27;distance&#x27;]),\n",
              "                                                 (&#x27;nominal_encode&#x27;,\n",
              "                                                  OneHotEncoder(drop=&#x27;first&#x27;,\n",
              "                                                                handle_unknown=&#x27;ignore&#x27;,\n",
              "                                                                sparse_output=False),\n",
              "                                                  [&#x27;weather&#x27;, &#x27;type_of_order&#x27;,\n",
              "                                                   &#x27;type_of_vehicle&#x27;,\n",
              "                                                   &#x27;festival&#x27;, &#x27;city_type&#x27;,\n",
              "                                                   &#x27;is_weekend&#x27;,\n",
              "                                                   &#x27;order_time_of_day&#x27;]),\n",
              "                                                 (&#x27;ordinal_encode&#x27;,\n",
              "                                                  OrdinalEncoder(categories=[[&#x27;low&#x27;,\n",
              "                                                                              &#x27;medium&#x27;,\n",
              "                                                                              &#x27;high&#x27;,\n",
              "                                                                              &#x27;jam&#x27;],\n",
              "                                                                             [&#x27;short&#x27;,\n",
              "                                                                              &#x27;medium&#x27;,\n",
              "                                                                              &#x27;long&#x27;,\n",
              "                                                                              &#x27;very_long&#x27;]],\n",
              "                                                                 encoded_missing_value=-999,\n",
              "                                                                 handle_unknown=&#x27;use_encoded_value&#x27;,\n",
              "                                                                 unknown_value=-1),\n",
              "                                                  [&#x27;traffic&#x27;,\n",
              "                                                   &#x27;distance_type&#x27;])],\n",
              "                                   verbose_feature_names_out=False))])</pre></div> </div></div><div class=\"sk-serial\"><div class=\"sk-item sk-dashed-wrapped\"><div class=\"sk-label-container\"><div class=\"sk-label  sk-toggleable\"><input class=\"sk-toggleable__control sk-hidden--visually\" id=\"sk-estimator-id-11\" type=\"checkbox\" ><label for=\"sk-estimator-id-11\" class=\"sk-toggleable__label  sk-toggleable__label-arrow \">&nbsp;preprocess: ColumnTransformer<a class=\"sk-estimator-doc-link \" rel=\"noreferrer\" target=\"_blank\" href=\"https://scikit-learn.org/1.5/modules/generated/sklearn.compose.ColumnTransformer.html\">?<span>Documentation for preprocess: ColumnTransformer</span></a></label><div class=\"sk-toggleable__content \"><pre>ColumnTransformer(force_int_remainder_cols=False, n_jobs=-1,\n",
              "                  remainder=&#x27;passthrough&#x27;,\n",
              "                  transformers=[(&#x27;scale&#x27;, MinMaxScaler(),\n",
              "                                 [&#x27;age&#x27;, &#x27;ratings&#x27;, &#x27;pickup_time_minutes&#x27;,\n",
              "                                  &#x27;distance&#x27;]),\n",
              "                                (&#x27;nominal_encode&#x27;,\n",
              "                                 OneHotEncoder(drop=&#x27;first&#x27;,\n",
              "                                               handle_unknown=&#x27;ignore&#x27;,\n",
              "                                               sparse_output=False),\n",
              "                                 [&#x27;weather&#x27;, &#x27;type_of_order&#x27;, &#x27;type_of_vehicle&#x27;,\n",
              "                                  &#x27;festival&#x27;, &#x27;city_type&#x27;, &#x27;is_weekend&#x27;,\n",
              "                                  &#x27;order_time_of_day&#x27;]),\n",
              "                                (&#x27;ordinal_encode&#x27;,\n",
              "                                 OrdinalEncoder(categories=[[&#x27;low&#x27;, &#x27;medium&#x27;,\n",
              "                                                             &#x27;high&#x27;, &#x27;jam&#x27;],\n",
              "                                                            [&#x27;short&#x27;, &#x27;medium&#x27;,\n",
              "                                                             &#x27;long&#x27;,\n",
              "                                                             &#x27;very_long&#x27;]],\n",
              "                                                encoded_missing_value=-999,\n",
              "                                                handle_unknown=&#x27;use_encoded_value&#x27;,\n",
              "                                                unknown_value=-1),\n",
              "                                 [&#x27;traffic&#x27;, &#x27;distance_type&#x27;])],\n",
              "                  verbose_feature_names_out=False)</pre></div> </div></div><div class=\"sk-parallel\"><div class=\"sk-parallel-item\"><div class=\"sk-item\"><div class=\"sk-label-container\"><div class=\"sk-label  sk-toggleable\"><input class=\"sk-toggleable__control sk-hidden--visually\" id=\"sk-estimator-id-12\" type=\"checkbox\" ><label for=\"sk-estimator-id-12\" class=\"sk-toggleable__label  sk-toggleable__label-arrow \">scale</label><div class=\"sk-toggleable__content \"><pre>[&#x27;age&#x27;, &#x27;ratings&#x27;, &#x27;pickup_time_minutes&#x27;, &#x27;distance&#x27;]</pre></div> </div></div><div class=\"sk-serial\"><div class=\"sk-item\"><div class=\"sk-estimator  sk-toggleable\"><input class=\"sk-toggleable__control sk-hidden--visually\" id=\"sk-estimator-id-13\" type=\"checkbox\" ><label for=\"sk-estimator-id-13\" class=\"sk-toggleable__label  sk-toggleable__label-arrow \">&nbsp;MinMaxScaler<a class=\"sk-estimator-doc-link \" rel=\"noreferrer\" target=\"_blank\" href=\"https://scikit-learn.org/1.5/modules/generated/sklearn.preprocessing.MinMaxScaler.html\">?<span>Documentation for MinMaxScaler</span></a></label><div class=\"sk-toggleable__content \"><pre>MinMaxScaler()</pre></div> </div></div></div></div></div><div class=\"sk-parallel-item\"><div class=\"sk-item\"><div class=\"sk-label-container\"><div class=\"sk-label  sk-toggleable\"><input class=\"sk-toggleable__control sk-hidden--visually\" id=\"sk-estimator-id-14\" type=\"checkbox\" ><label for=\"sk-estimator-id-14\" class=\"sk-toggleable__label  sk-toggleable__label-arrow \">nominal_encode</label><div class=\"sk-toggleable__content \"><pre>[&#x27;weather&#x27;, &#x27;type_of_order&#x27;, &#x27;type_of_vehicle&#x27;, &#x27;festival&#x27;, &#x27;city_type&#x27;, &#x27;is_weekend&#x27;, &#x27;order_time_of_day&#x27;]</pre></div> </div></div><div class=\"sk-serial\"><div class=\"sk-item\"><div class=\"sk-estimator  sk-toggleable\"><input class=\"sk-toggleable__control sk-hidden--visually\" id=\"sk-estimator-id-15\" type=\"checkbox\" ><label for=\"sk-estimator-id-15\" class=\"sk-toggleable__label  sk-toggleable__label-arrow \">&nbsp;OneHotEncoder<a class=\"sk-estimator-doc-link \" rel=\"noreferrer\" target=\"_blank\" href=\"https://scikit-learn.org/1.5/modules/generated/sklearn.preprocessing.OneHotEncoder.html\">?<span>Documentation for OneHotEncoder</span></a></label><div class=\"sk-toggleable__content \"><pre>OneHotEncoder(drop=&#x27;first&#x27;, handle_unknown=&#x27;ignore&#x27;, sparse_output=False)</pre></div> </div></div></div></div></div><div class=\"sk-parallel-item\"><div class=\"sk-item\"><div class=\"sk-label-container\"><div class=\"sk-label  sk-toggleable\"><input class=\"sk-toggleable__control sk-hidden--visually\" id=\"sk-estimator-id-16\" type=\"checkbox\" ><label for=\"sk-estimator-id-16\" class=\"sk-toggleable__label  sk-toggleable__label-arrow \">ordinal_encode</label><div class=\"sk-toggleable__content \"><pre>[&#x27;traffic&#x27;, &#x27;distance_type&#x27;]</pre></div> </div></div><div class=\"sk-serial\"><div class=\"sk-item\"><div class=\"sk-estimator  sk-toggleable\"><input class=\"sk-toggleable__control sk-hidden--visually\" id=\"sk-estimator-id-17\" type=\"checkbox\" ><label for=\"sk-estimator-id-17\" class=\"sk-toggleable__label  sk-toggleable__label-arrow \">&nbsp;OrdinalEncoder<a class=\"sk-estimator-doc-link \" rel=\"noreferrer\" target=\"_blank\" href=\"https://scikit-learn.org/1.5/modules/generated/sklearn.preprocessing.OrdinalEncoder.html\">?<span>Documentation for OrdinalEncoder</span></a></label><div class=\"sk-toggleable__content \"><pre>OrdinalEncoder(categories=[[&#x27;low&#x27;, &#x27;medium&#x27;, &#x27;high&#x27;, &#x27;jam&#x27;],\n",
              "                           [&#x27;short&#x27;, &#x27;medium&#x27;, &#x27;long&#x27;, &#x27;very_long&#x27;]],\n",
              "               encoded_missing_value=-999, handle_unknown=&#x27;use_encoded_value&#x27;,\n",
              "               unknown_value=-1)</pre></div> </div></div></div></div></div><div class=\"sk-parallel-item\"><div class=\"sk-item\"><div class=\"sk-label-container\"><div class=\"sk-label  sk-toggleable\"><input class=\"sk-toggleable__control sk-hidden--visually\" id=\"sk-estimator-id-18\" type=\"checkbox\" ><label for=\"sk-estimator-id-18\" class=\"sk-toggleable__label  sk-toggleable__label-arrow \">remainder</label><div class=\"sk-toggleable__content \"><pre></pre></div> </div></div><div class=\"sk-serial\"><div class=\"sk-item\"><div class=\"sk-estimator  sk-toggleable\"><input class=\"sk-toggleable__control sk-hidden--visually\" id=\"sk-estimator-id-19\" type=\"checkbox\" ><label for=\"sk-estimator-id-19\" class=\"sk-toggleable__label  sk-toggleable__label-arrow \">passthrough</label><div class=\"sk-toggleable__content \"><pre>passthrough</pre></div> </div></div></div></div></div></div></div></div></div></div></div>"
            ],
            "text/plain": [
              "Pipeline(steps=[('preprocess',\n",
              "                 ColumnTransformer(force_int_remainder_cols=False, n_jobs=-1,\n",
              "                                   remainder='passthrough',\n",
              "                                   transformers=[('scale', MinMaxScaler(),\n",
              "                                                  ['age', 'ratings',\n",
              "                                                   'pickup_time_minutes',\n",
              "                                                   'distance']),\n",
              "                                                 ('nominal_encode',\n",
              "                                                  OneHotEncoder(drop='first',\n",
              "                                                                handle_unknown='ignore',\n",
              "                                                                sparse_output=False),\n",
              "                                                  ['weather', 'type_of_order',\n",
              "                                                   'type_of_vehicle',\n",
              "                                                   'festival', 'city_type',\n",
              "                                                   'is_weekend',\n",
              "                                                   'order_time_of_day']),\n",
              "                                                 ('ordinal_encode',\n",
              "                                                  OrdinalEncoder(categories=[['low',\n",
              "                                                                              'medium',\n",
              "                                                                              'high',\n",
              "                                                                              'jam'],\n",
              "                                                                             ['short',\n",
              "                                                                              'medium',\n",
              "                                                                              'long',\n",
              "                                                                              'very_long']],\n",
              "                                                                 encoded_missing_value=-999,\n",
              "                                                                 handle_unknown='use_encoded_value',\n",
              "                                                                 unknown_value=-1),\n",
              "                                                  ['traffic',\n",
              "                                                   'distance_type'])],\n",
              "                                   verbose_feature_names_out=False))])"
            ]
          },
          "execution_count": 29,
          "metadata": {},
          "output_type": "execute_result"
        }
      ],
      "source": [
        "# build the pipeline\n",
        "\n",
        "processing_pipeline = Pipeline(steps=[\n",
        "                                # (\"simple_imputer\",simple_imputer),\n",
        "                                (\"preprocess\",preprocessor)\n",
        "                                # (\"knn_imputer\",knn_imputer)\n",
        "                            ])\n",
        "\n",
        "processing_pipeline"
      ]
    },
    {
      "cell_type": "code",
      "execution_count": 30,
      "metadata": {
        "id": "tVRPCAe3NXfL"
      },
      "outputs": [],
      "source": [
        "# do data preprocessing\n",
        "\n",
        "X_train_trans = processing_pipeline.fit_transform(X_train)\n",
        "\n",
        "X_test_trans = processing_pipeline.transform(X_test)"
      ]
    },
    {
      "cell_type": "code",
      "execution_count": 31,
      "metadata": {
        "colab": {
          "base_uri": "https://localhost:8080/",
          "height": 461
        },
        "id": "l2-_1Nsa6aVO",
        "outputId": "74c536a8-4686-4d2d-c48e-62bfb217295d"
      },
      "outputs": [
        {
          "data": {
            "text/html": [
              "<div>\n",
              "<style scoped>\n",
              "    .dataframe tbody tr th:only-of-type {\n",
              "        vertical-align: middle;\n",
              "    }\n",
              "\n",
              "    .dataframe tbody tr th {\n",
              "        vertical-align: top;\n",
              "    }\n",
              "\n",
              "    .dataframe thead th {\n",
              "        text-align: right;\n",
              "    }\n",
              "</style>\n",
              "<table border=\"1\" class=\"dataframe\">\n",
              "  <thead>\n",
              "    <tr style=\"text-align: right;\">\n",
              "      <th></th>\n",
              "      <th>age</th>\n",
              "      <th>ratings</th>\n",
              "      <th>pickup_time_minutes</th>\n",
              "      <th>distance</th>\n",
              "      <th>weather_fog</th>\n",
              "      <th>weather_sandstorms</th>\n",
              "      <th>weather_stormy</th>\n",
              "      <th>weather_sunny</th>\n",
              "      <th>weather_windy</th>\n",
              "      <th>type_of_order_drinks</th>\n",
              "      <th>...</th>\n",
              "      <th>city_type_urban</th>\n",
              "      <th>is_weekend_1</th>\n",
              "      <th>order_time_of_day_afternoon</th>\n",
              "      <th>order_time_of_day_evening</th>\n",
              "      <th>order_time_of_day_morning</th>\n",
              "      <th>order_time_of_day_night</th>\n",
              "      <th>traffic</th>\n",
              "      <th>distance_type</th>\n",
              "      <th>vehicle_condition</th>\n",
              "      <th>multiple_deliveries</th>\n",
              "    </tr>\n",
              "  </thead>\n",
              "  <tbody>\n",
              "    <tr>\n",
              "      <th>24939</th>\n",
              "      <td>0.052632</td>\n",
              "      <td>0.80</td>\n",
              "      <td>0.5</td>\n",
              "      <td>0.163629</td>\n",
              "      <td>0.0</td>\n",
              "      <td>0.0</td>\n",
              "      <td>1.0</td>\n",
              "      <td>0.0</td>\n",
              "      <td>0.0</td>\n",
              "      <td>1.0</td>\n",
              "      <td>...</td>\n",
              "      <td>1.0</td>\n",
              "      <td>0.0</td>\n",
              "      <td>0.0</td>\n",
              "      <td>1.0</td>\n",
              "      <td>0.0</td>\n",
              "      <td>0.0</td>\n",
              "      <td>3.0</td>\n",
              "      <td>0.0</td>\n",
              "      <td>1</td>\n",
              "      <td>0.0</td>\n",
              "    </tr>\n",
              "    <tr>\n",
              "      <th>9439</th>\n",
              "      <td>0.526316</td>\n",
              "      <td>0.96</td>\n",
              "      <td>1.0</td>\n",
              "      <td>0.157036</td>\n",
              "      <td>0.0</td>\n",
              "      <td>0.0</td>\n",
              "      <td>0.0</td>\n",
              "      <td>0.0</td>\n",
              "      <td>1.0</td>\n",
              "      <td>1.0</td>\n",
              "      <td>...</td>\n",
              "      <td>0.0</td>\n",
              "      <td>0.0</td>\n",
              "      <td>0.0</td>\n",
              "      <td>0.0</td>\n",
              "      <td>0.0</td>\n",
              "      <td>1.0</td>\n",
              "      <td>3.0</td>\n",
              "      <td>0.0</td>\n",
              "      <td>2</td>\n",
              "      <td>1.0</td>\n",
              "    </tr>\n",
              "    <tr>\n",
              "      <th>18409</th>\n",
              "      <td>0.631579</td>\n",
              "      <td>1.00</td>\n",
              "      <td>0.0</td>\n",
              "      <td>0.160160</td>\n",
              "      <td>1.0</td>\n",
              "      <td>0.0</td>\n",
              "      <td>0.0</td>\n",
              "      <td>0.0</td>\n",
              "      <td>0.0</td>\n",
              "      <td>0.0</td>\n",
              "      <td>...</td>\n",
              "      <td>1.0</td>\n",
              "      <td>1.0</td>\n",
              "      <td>0.0</td>\n",
              "      <td>0.0</td>\n",
              "      <td>0.0</td>\n",
              "      <td>1.0</td>\n",
              "      <td>3.0</td>\n",
              "      <td>0.0</td>\n",
              "      <td>2</td>\n",
              "      <td>2.0</td>\n",
              "    </tr>\n",
              "    <tr>\n",
              "      <th>15267</th>\n",
              "      <td>0.789474</td>\n",
              "      <td>0.96</td>\n",
              "      <td>0.5</td>\n",
              "      <td>0.003145</td>\n",
              "      <td>1.0</td>\n",
              "      <td>0.0</td>\n",
              "      <td>0.0</td>\n",
              "      <td>0.0</td>\n",
              "      <td>0.0</td>\n",
              "      <td>0.0</td>\n",
              "      <td>...</td>\n",
              "      <td>0.0</td>\n",
              "      <td>0.0</td>\n",
              "      <td>0.0</td>\n",
              "      <td>0.0</td>\n",
              "      <td>1.0</td>\n",
              "      <td>0.0</td>\n",
              "      <td>0.0</td>\n",
              "      <td>0.0</td>\n",
              "      <td>2</td>\n",
              "      <td>0.0</td>\n",
              "    </tr>\n",
              "    <tr>\n",
              "      <th>43924</th>\n",
              "      <td>0.157895</td>\n",
              "      <td>0.88</td>\n",
              "      <td>0.5</td>\n",
              "      <td>0.084651</td>\n",
              "      <td>0.0</td>\n",
              "      <td>0.0</td>\n",
              "      <td>0.0</td>\n",
              "      <td>0.0</td>\n",
              "      <td>0.0</td>\n",
              "      <td>0.0</td>\n",
              "      <td>...</td>\n",
              "      <td>0.0</td>\n",
              "      <td>0.0</td>\n",
              "      <td>0.0</td>\n",
              "      <td>0.0</td>\n",
              "      <td>1.0</td>\n",
              "      <td>0.0</td>\n",
              "      <td>0.0</td>\n",
              "      <td>0.0</td>\n",
              "      <td>2</td>\n",
              "      <td>1.0</td>\n",
              "    </tr>\n",
              "    <tr>\n",
              "      <th>...</th>\n",
              "      <td>...</td>\n",
              "      <td>...</td>\n",
              "      <td>...</td>\n",
              "      <td>...</td>\n",
              "      <td>...</td>\n",
              "      <td>...</td>\n",
              "      <td>...</td>\n",
              "      <td>...</td>\n",
              "      <td>...</td>\n",
              "      <td>...</td>\n",
              "      <td>...</td>\n",
              "      <td>...</td>\n",
              "      <td>...</td>\n",
              "      <td>...</td>\n",
              "      <td>...</td>\n",
              "      <td>...</td>\n",
              "      <td>...</td>\n",
              "      <td>...</td>\n",
              "      <td>...</td>\n",
              "      <td>...</td>\n",
              "      <td>...</td>\n",
              "    </tr>\n",
              "    <tr>\n",
              "      <th>20042</th>\n",
              "      <td>0.368421</td>\n",
              "      <td>0.88</td>\n",
              "      <td>1.0</td>\n",
              "      <td>0.621266</td>\n",
              "      <td>0.0</td>\n",
              "      <td>1.0</td>\n",
              "      <td>0.0</td>\n",
              "      <td>0.0</td>\n",
              "      <td>0.0</td>\n",
              "      <td>0.0</td>\n",
              "      <td>...</td>\n",
              "      <td>1.0</td>\n",
              "      <td>1.0</td>\n",
              "      <td>0.0</td>\n",
              "      <td>1.0</td>\n",
              "      <td>0.0</td>\n",
              "      <td>0.0</td>\n",
              "      <td>1.0</td>\n",
              "      <td>2.0</td>\n",
              "      <td>2</td>\n",
              "      <td>1.0</td>\n",
              "    </tr>\n",
              "    <tr>\n",
              "      <th>7521</th>\n",
              "      <td>0.842105</td>\n",
              "      <td>0.88</td>\n",
              "      <td>0.0</td>\n",
              "      <td>0.788907</td>\n",
              "      <td>0.0</td>\n",
              "      <td>0.0</td>\n",
              "      <td>1.0</td>\n",
              "      <td>0.0</td>\n",
              "      <td>0.0</td>\n",
              "      <td>0.0</td>\n",
              "      <td>...</td>\n",
              "      <td>0.0</td>\n",
              "      <td>1.0</td>\n",
              "      <td>0.0</td>\n",
              "      <td>0.0</td>\n",
              "      <td>0.0</td>\n",
              "      <td>1.0</td>\n",
              "      <td>3.0</td>\n",
              "      <td>3.0</td>\n",
              "      <td>0</td>\n",
              "      <td>1.0</td>\n",
              "    </tr>\n",
              "    <tr>\n",
              "      <th>13483</th>\n",
              "      <td>0.736842</td>\n",
              "      <td>0.92</td>\n",
              "      <td>0.5</td>\n",
              "      <td>0.154044</td>\n",
              "      <td>0.0</td>\n",
              "      <td>0.0</td>\n",
              "      <td>0.0</td>\n",
              "      <td>0.0</td>\n",
              "      <td>0.0</td>\n",
              "      <td>1.0</td>\n",
              "      <td>...</td>\n",
              "      <td>0.0</td>\n",
              "      <td>0.0</td>\n",
              "      <td>0.0</td>\n",
              "      <td>0.0</td>\n",
              "      <td>0.0</td>\n",
              "      <td>1.0</td>\n",
              "      <td>0.0</td>\n",
              "      <td>0.0</td>\n",
              "      <td>2</td>\n",
              "      <td>1.0</td>\n",
              "    </tr>\n",
              "    <tr>\n",
              "      <th>1038</th>\n",
              "      <td>0.368421</td>\n",
              "      <td>0.92</td>\n",
              "      <td>0.5</td>\n",
              "      <td>0.992901</td>\n",
              "      <td>0.0</td>\n",
              "      <td>0.0</td>\n",
              "      <td>1.0</td>\n",
              "      <td>0.0</td>\n",
              "      <td>0.0</td>\n",
              "      <td>0.0</td>\n",
              "      <td>...</td>\n",
              "      <td>0.0</td>\n",
              "      <td>0.0</td>\n",
              "      <td>0.0</td>\n",
              "      <td>0.0</td>\n",
              "      <td>0.0</td>\n",
              "      <td>1.0</td>\n",
              "      <td>0.0</td>\n",
              "      <td>3.0</td>\n",
              "      <td>2</td>\n",
              "      <td>1.0</td>\n",
              "    </tr>\n",
              "    <tr>\n",
              "      <th>18803</th>\n",
              "      <td>0.736842</td>\n",
              "      <td>0.64</td>\n",
              "      <td>0.0</td>\n",
              "      <td>0.470459</td>\n",
              "      <td>0.0</td>\n",
              "      <td>1.0</td>\n",
              "      <td>0.0</td>\n",
              "      <td>0.0</td>\n",
              "      <td>0.0</td>\n",
              "      <td>0.0</td>\n",
              "      <td>...</td>\n",
              "      <td>0.0</td>\n",
              "      <td>1.0</td>\n",
              "      <td>0.0</td>\n",
              "      <td>0.0</td>\n",
              "      <td>0.0</td>\n",
              "      <td>1.0</td>\n",
              "      <td>3.0</td>\n",
              "      <td>2.0</td>\n",
              "      <td>0</td>\n",
              "      <td>1.0</td>\n",
              "    </tr>\n",
              "  </tbody>\n",
              "</table>\n",
              "<p>30451 rows × 26 columns</p>\n",
              "</div>"
            ],
            "text/plain": [
              "            age  ratings  pickup_time_minutes  distance  weather_fog  \\\n",
              "24939  0.052632     0.80                  0.5  0.163629          0.0   \n",
              "9439   0.526316     0.96                  1.0  0.157036          0.0   \n",
              "18409  0.631579     1.00                  0.0  0.160160          1.0   \n",
              "15267  0.789474     0.96                  0.5  0.003145          1.0   \n",
              "43924  0.157895     0.88                  0.5  0.084651          0.0   \n",
              "...         ...      ...                  ...       ...          ...   \n",
              "20042  0.368421     0.88                  1.0  0.621266          0.0   \n",
              "7521   0.842105     0.88                  0.0  0.788907          0.0   \n",
              "13483  0.736842     0.92                  0.5  0.154044          0.0   \n",
              "1038   0.368421     0.92                  0.5  0.992901          0.0   \n",
              "18803  0.736842     0.64                  0.0  0.470459          0.0   \n",
              "\n",
              "       weather_sandstorms  weather_stormy  weather_sunny  weather_windy  \\\n",
              "24939                 0.0             1.0            0.0            0.0   \n",
              "9439                  0.0             0.0            0.0            1.0   \n",
              "18409                 0.0             0.0            0.0            0.0   \n",
              "15267                 0.0             0.0            0.0            0.0   \n",
              "43924                 0.0             0.0            0.0            0.0   \n",
              "...                   ...             ...            ...            ...   \n",
              "20042                 1.0             0.0            0.0            0.0   \n",
              "7521                  0.0             1.0            0.0            0.0   \n",
              "13483                 0.0             0.0            0.0            0.0   \n",
              "1038                  0.0             1.0            0.0            0.0   \n",
              "18803                 1.0             0.0            0.0            0.0   \n",
              "\n",
              "       type_of_order_drinks  ...  city_type_urban  is_weekend_1  \\\n",
              "24939                   1.0  ...              1.0           0.0   \n",
              "9439                    1.0  ...              0.0           0.0   \n",
              "18409                   0.0  ...              1.0           1.0   \n",
              "15267                   0.0  ...              0.0           0.0   \n",
              "43924                   0.0  ...              0.0           0.0   \n",
              "...                     ...  ...              ...           ...   \n",
              "20042                   0.0  ...              1.0           1.0   \n",
              "7521                    0.0  ...              0.0           1.0   \n",
              "13483                   1.0  ...              0.0           0.0   \n",
              "1038                    0.0  ...              0.0           0.0   \n",
              "18803                   0.0  ...              0.0           1.0   \n",
              "\n",
              "       order_time_of_day_afternoon  order_time_of_day_evening  \\\n",
              "24939                          0.0                        1.0   \n",
              "9439                           0.0                        0.0   \n",
              "18409                          0.0                        0.0   \n",
              "15267                          0.0                        0.0   \n",
              "43924                          0.0                        0.0   \n",
              "...                            ...                        ...   \n",
              "20042                          0.0                        1.0   \n",
              "7521                           0.0                        0.0   \n",
              "13483                          0.0                        0.0   \n",
              "1038                           0.0                        0.0   \n",
              "18803                          0.0                        0.0   \n",
              "\n",
              "       order_time_of_day_morning  order_time_of_day_night  traffic  \\\n",
              "24939                        0.0                      0.0      3.0   \n",
              "9439                         0.0                      1.0      3.0   \n",
              "18409                        0.0                      1.0      3.0   \n",
              "15267                        1.0                      0.0      0.0   \n",
              "43924                        1.0                      0.0      0.0   \n",
              "...                          ...                      ...      ...   \n",
              "20042                        0.0                      0.0      1.0   \n",
              "7521                         0.0                      1.0      3.0   \n",
              "13483                        0.0                      1.0      0.0   \n",
              "1038                         0.0                      1.0      0.0   \n",
              "18803                        0.0                      1.0      3.0   \n",
              "\n",
              "       distance_type  vehicle_condition  multiple_deliveries  \n",
              "24939            0.0                  1                  0.0  \n",
              "9439             0.0                  2                  1.0  \n",
              "18409            0.0                  2                  2.0  \n",
              "15267            0.0                  2                  0.0  \n",
              "43924            0.0                  2                  1.0  \n",
              "...              ...                ...                  ...  \n",
              "20042            2.0                  2                  1.0  \n",
              "7521             3.0                  0                  1.0  \n",
              "13483            0.0                  2                  1.0  \n",
              "1038             3.0                  2                  1.0  \n",
              "18803            2.0                  0                  1.0  \n",
              "\n",
              "[30451 rows x 26 columns]"
            ]
          },
          "execution_count": 31,
          "metadata": {},
          "output_type": "execute_result"
        }
      ],
      "source": [
        "X_train_trans"
      ]
    },
    {
      "cell_type": "code",
      "execution_count": null,
      "metadata": {
        "colab": {
          "base_uri": "https://localhost:8080/"
        },
        "id": "jR-p4ReDqiqE",
        "outputId": "422623dd-ce91-4856-f390-8577cfae74ad"
      },
      "outputs": [
        {
          "name": "stdout",
          "output_type": "stream",
          "text": [
            "Requirement already satisfied: optuna in /usr/local/lib/python3.10/dist-packages (4.1.0)\n",
            "Requirement already satisfied: alembic>=1.5.0 in /usr/local/lib/python3.10/dist-packages (from optuna) (1.14.0)\n",
            "Requirement already satisfied: colorlog in /usr/local/lib/python3.10/dist-packages (from optuna) (6.9.0)\n",
            "Requirement already satisfied: numpy in /usr/local/lib/python3.10/dist-packages (from optuna) (1.26.4)\n",
            "Requirement already satisfied: packaging>=20.0 in /usr/local/lib/python3.10/dist-packages (from optuna) (24.2)\n",
            "Requirement already satisfied: sqlalchemy>=1.4.2 in /usr/local/lib/python3.10/dist-packages (from optuna) (2.0.36)\n",
            "Requirement already satisfied: tqdm in /usr/local/lib/python3.10/dist-packages (from optuna) (4.66.6)\n",
            "Requirement already satisfied: PyYAML in /usr/local/lib/python3.10/dist-packages (from optuna) (6.0.2)\n",
            "Requirement already satisfied: Mako in /usr/local/lib/python3.10/dist-packages (from alembic>=1.5.0->optuna) (1.3.6)\n",
            "Requirement already satisfied: typing-extensions>=4 in /usr/local/lib/python3.10/dist-packages (from alembic>=1.5.0->optuna) (4.12.2)\n",
            "Requirement already satisfied: greenlet!=0.4.17 in /usr/local/lib/python3.10/dist-packages (from sqlalchemy>=1.4.2->optuna) (3.1.1)\n",
            "Requirement already satisfied: MarkupSafe>=0.9.2 in /usr/local/lib/python3.10/dist-packages (from Mako->alembic>=1.5.0->optuna) (3.0.2)\n"
          ]
        }
      ],
      "source": [
        "%pip install optuna"
      ]
    },
    {
      "cell_type": "code",
      "execution_count": 32,
      "metadata": {
        "id": "vvAmK7Wfq8rV"
      },
      "outputs": [],
      "source": [
        "from sklearn.ensemble import RandomForestRegressor, GradientBoostingRegressor\n",
        "from sklearn.neighbors import KNeighborsRegressor\n",
        "from sklearn.svm import SVR\n",
        "from xgboost import XGBRegressor\n",
        "from lightgbm import LGBMRegressor\n",
        "import optuna"
      ]
    },
    {
      "cell_type": "code",
      "execution_count": 33,
      "metadata": {
        "id": "7-i3qhXbteRD"
      },
      "outputs": [],
      "source": [
        "from sklearn.metrics import r2_score, mean_absolute_error"
      ]
    },
    {
      "cell_type": "code",
      "execution_count": 34,
      "metadata": {
        "id": "RvZDCzGZrGQK"
      },
      "outputs": [],
      "source": [
        "def objective(trial):\n",
        "    with mlflow.start_run(nested=True):\n",
        "        model_name = trial.suggest_categorical(\"model\",[\"SVM\",\"RF\",\"KNN\",\"GB\",\"XGB\",\"LGBM\"])\n",
        "\n",
        "        if model_name == \"SVM\":\n",
        "            kernel_svm = trial.suggest_categorical(\"kernel_svm\",[\"linear\",\"poly\",\"rbf\"])\n",
        "            if kernel_svm == \"linear\":\n",
        "                c_linear = trial.suggest_float(\"c_linear\",0,10)\n",
        "                model = SVR(C=c_linear,kernel=\"linear\")\n",
        "\n",
        "            elif kernel_svm == \"poly\":\n",
        "                c_poly = trial.suggest_float(\"c_poly\",0,10)\n",
        "                degree_poly = trial.suggest_int(\"degree_poly\",1,5)\n",
        "                model = SVR(C=c_poly,degree=degree_poly,\n",
        "                            kernel=\"poly\")\n",
        "\n",
        "            else:\n",
        "                c_rbf = trial.suggest_float(\"c_rbf\",0,100)\n",
        "                gamma_rbf = trial.suggest_float(\"gamma_rbf\",0,10)\n",
        "                model = SVR(C=c_rbf,gamma=gamma_rbf,\n",
        "                            kernel=\"rbf\")\n",
        "\n",
        "        elif model_name == \"RF\":\n",
        "            n_estimators_rf = trial.suggest_int(\"n_estimators_rf\",10,200)\n",
        "            max_depth_rf = trial.suggest_int(\"max_depth_rf\",2,20)\n",
        "            model = RandomForestRegressor(n_estimators=n_estimators_rf,\n",
        "                                        max_depth=max_depth_rf,\n",
        "                                        random_state=42,\n",
        "                                        n_jobs=-1)\n",
        "\n",
        "        elif model_name == \"GB\":\n",
        "            n_estimators_gb = trial.suggest_int(\"n_estimators_gb\",10,200)\n",
        "            learning_rate_gb = trial.suggest_float(\"learning_rate_gb\",0,1)\n",
        "            max_depth_gb = trial.suggest_int(\"max_depth_gb\",2,20)\n",
        "            model = GradientBoostingRegressor(n_estimators=n_estimators_gb,\n",
        "                                                learning_rate=learning_rate_gb,\n",
        "                                                max_depth=max_depth_gb,\n",
        "                                                random_state=42)\n",
        "\n",
        "        elif model_name == \"KNN\":\n",
        "            n_neighbors_knn = trial.suggest_int(\"n_neighbors_knn\",1,25)\n",
        "            weights_knn = trial.suggest_categorical(\"weights_knn\",[\"uniform\",\"distance\"])\n",
        "            model = KNeighborsRegressor(n_neighbors=n_neighbors_knn,\n",
        "                                        weights=weights_knn,n_jobs=-1)\n",
        "\n",
        "        elif model_name == \"XGB\":\n",
        "            n_estimators_xgb = trial.suggest_int(\"n_estimators_xgb\",10,200)\n",
        "            learning_rate_xgb = trial.suggest_float(\"learning_rate_xgb\",0.1,0.5)\n",
        "            max_depth_xgb = trial.suggest_int(\"max_depth_xgb\",2,20)\n",
        "            model = XGBRegressor(n_estimators=n_estimators_xgb,\n",
        "                                    learning_rate=learning_rate_xgb,\n",
        "                                    max_depth=max_depth_xgb,\n",
        "                                    random_state=42,\n",
        "                                    n_jobs=-1)\n",
        "\n",
        "        elif model_name == \"LGBM\":\n",
        "            n_estimators_lgbm = trial.suggest_int(\"n_estimators_lgbm\",10,200)\n",
        "            learning_rate_lgbm = trial.suggest_float(\"learning_rate_lgbm\",0.1,0.5)\n",
        "            max_depth_lgbm = trial.suggest_int(\"max_depth_lgbm\",2,20)\n",
        "            model = LGBMRegressor(n_estimators=n_estimators_lgbm,\n",
        "                                    learning_rate=learning_rate_lgbm,\n",
        "                                    max_depth=max_depth_lgbm,\n",
        "                                    random_state=42)\n",
        "\n",
        "\n",
        "        # train the model\n",
        "        model.fit(X_train_trans,y_train_pt.values.ravel())\n",
        "\n",
        "        # log model params\n",
        "        mlflow.log_params(model.get_params())\n",
        "\n",
        "        # get the predictions\n",
        "        y_pred_train = model.predict(X_train_trans)\n",
        "        y_pred_test = model.predict(X_test_trans)\n",
        "\n",
        "        # get the actual predictions values\n",
        "        y_pred_train_org = pt.inverse_transform(y_pred_train.reshape(-1,1))\n",
        "        y_pred_test_org = pt.inverse_transform(y_pred_test.reshape(-1,1))\n",
        "\n",
        "        # calculate the error\n",
        "        error = mean_absolute_error(y_test,y_pred_test_org)\n",
        "\n",
        "        # log model_name\n",
        "        mlflow.log_param(\"model\",model_name)\n",
        "\n",
        "        # log error\n",
        "        mlflow.log_metric(\"MAE\",error)\n",
        "\n",
        "        return error"
      ]
    },
    {
      "cell_type": "code",
      "execution_count": 35,
      "metadata": {
        "colab": {
          "base_uri": "https://localhost:8080/",
          "height": 1000
        },
        "id": "yKs32EWWs42v",
        "outputId": "347c4211-d001-4b1e-b2f8-2af7e938ec21"
      },
      "outputs": [
        {
          "name": "stderr",
          "output_type": "stream",
          "text": [
            "[I 2025-03-21 16:47:54,805] A new study created in memory with name: model_selection\n"
          ]
        },
        {
          "name": "stdout",
          "output_type": "stream",
          "text": [
            "🏃 View run unique-bird-160 at: https://dagshub.com/sourav664/swiggy-delivery-time-prediction.mlflow/#/experiments/1/runs/a85549a9bdcc439dad2b6137f4855e39\n",
            "🧪 View experiment at: https://dagshub.com/sourav664/swiggy-delivery-time-prediction.mlflow/#/experiments/1\n"
          ]
        },
        {
          "name": "stderr",
          "output_type": "stream",
          "text": [
            "[I 2025-03-21 16:48:06,357] Trial 0 finished with value: 4.314618875818571 and parameters: {'model': 'KNN', 'n_neighbors_knn': 21, 'weights_knn': 'distance'}. Best is trial 0 with value: 4.314618875818571.\n"
          ]
        },
        {
          "name": "stdout",
          "output_type": "stream",
          "text": [
            "🏃 View run dapper-dolphin-712 at: https://dagshub.com/sourav664/swiggy-delivery-time-prediction.mlflow/#/experiments/1/runs/5c82ab616b6a4134a70126975f7b9f00\n",
            "🧪 View experiment at: https://dagshub.com/sourav664/swiggy-delivery-time-prediction.mlflow/#/experiments/1\n"
          ]
        },
        {
          "name": "stderr",
          "output_type": "stream",
          "text": [
            "[I 2025-03-21 16:48:10,515] Trial 1 finished with value: 3.100002225392994 and parameters: {'model': 'RF', 'n_estimators_rf': 103, 'max_depth_rf': 16}. Best is trial 1 with value: 3.100002225392994.\n"
          ]
        },
        {
          "name": "stdout",
          "output_type": "stream",
          "text": [
            "🏃 View run resilient-bass-88 at: https://dagshub.com/sourav664/swiggy-delivery-time-prediction.mlflow/#/experiments/1/runs/434863c59c124ccd836abec71c87dec5\n",
            "🧪 View experiment at: https://dagshub.com/sourav664/swiggy-delivery-time-prediction.mlflow/#/experiments/1\n",
            "🏃 View run youthful-lark-174 at: https://dagshub.com/sourav664/swiggy-delivery-time-prediction.mlflow/#/experiments/1/runs/c7d3e8684f154e1d89957d761bd7e4c1\n",
            "🧪 View experiment at: https://dagshub.com/sourav664/swiggy-delivery-time-prediction.mlflow/#/experiments/1\n"
          ]
        },
        {
          "name": "stderr",
          "output_type": "stream",
          "text": [
            "[I 2025-03-21 16:48:19,498] Trial 3 finished with value: 4.349450868118368 and parameters: {'model': 'KNN', 'n_neighbors_knn': 11, 'weights_knn': 'uniform'}. Best is trial 1 with value: 3.100002225392994.\n",
            "[I 2025-03-21 16:48:20,504] Trial 6 finished with value: 4.4102676491290005 and parameters: {'model': 'KNN', 'n_neighbors_knn': 5, 'weights_knn': 'distance'}. Best is trial 1 with value: 3.100002225392994.\n"
          ]
        },
        {
          "name": "stdout",
          "output_type": "stream",
          "text": [
            "🏃 View run amusing-koi-979 at: https://dagshub.com/sourav664/swiggy-delivery-time-prediction.mlflow/#/experiments/1/runs/65842882b26940a49eb29e8a9a87944e\n",
            "🧪 View experiment at: https://dagshub.com/sourav664/swiggy-delivery-time-prediction.mlflow/#/experiments/1\n",
            "🏃 View run skittish-yak-328 at: https://dagshub.com/sourav664/swiggy-delivery-time-prediction.mlflow/#/experiments/1/runs/3b5dc61e0c344c28a740d85a1a79d955\n",
            "🧪 View experiment at: https://dagshub.com/sourav664/swiggy-delivery-time-prediction.mlflow/#/experiments/1\n",
            "🏃 View run industrious-croc-622 at: https://dagshub.com/sourav664/swiggy-delivery-time-prediction.mlflow/#/experiments/1/runs/8dd748800d464ffab63aee238803dc0c\n",
            "🧪 View experiment at: https://dagshub.com/sourav664/swiggy-delivery-time-prediction.mlflow/#/experiments/1\n"
          ]
        },
        {
          "name": "stderr",
          "output_type": "stream",
          "text": [
            "[I 2025-03-21 16:48:36,497] Trial 5 finished with value: 3.070899959976105 and parameters: {'model': 'LGBM', 'n_estimators_lgbm': 106, 'learning_rate_lgbm': 0.14569236287415266, 'max_depth_lgbm': 10}. Best is trial 5 with value: 3.070899959976105.\n",
            "[I 2025-03-21 16:48:38,552] Trial 7 finished with value: 3.0774184016330803 and parameters: {'model': 'LGBM', 'n_estimators_lgbm': 161, 'learning_rate_lgbm': 0.10342160786383428, 'max_depth_lgbm': 10}. Best is trial 5 with value: 3.070899959976105.\n"
          ]
        },
        {
          "name": "stdout",
          "output_type": "stream",
          "text": [
            "🏃 View run valuable-duck-431 at: https://dagshub.com/sourav664/swiggy-delivery-time-prediction.mlflow/#/experiments/1/runs/6fecab89b87e4196a5a8fec17b680f5a\n",
            "🧪 View experiment at: https://dagshub.com/sourav664/swiggy-delivery-time-prediction.mlflow/#/experiments/1\n"
          ]
        },
        {
          "name": "stderr",
          "output_type": "stream",
          "text": [
            "[I 2025-03-21 16:48:40,508] Trial 2 finished with value: 3.341980821526068 and parameters: {'model': 'XGB', 'n_estimators_xgb': 109, 'learning_rate_xgb': 0.39777933118751607, 'max_depth_xgb': 17}. Best is trial 5 with value: 3.070899959976105.\n"
          ]
        },
        {
          "name": "stdout",
          "output_type": "stream",
          "text": [
            "🏃 View run whimsical-panda-571 at: https://dagshub.com/sourav664/swiggy-delivery-time-prediction.mlflow/#/experiments/1/runs/14e9cf0026d54b2192f6b298ba7b6f64\n",
            "🧪 View experiment at: https://dagshub.com/sourav664/swiggy-delivery-time-prediction.mlflow/#/experiments/1\n"
          ]
        },
        {
          "name": "stderr",
          "output_type": "stream",
          "text": [
            "[I 2025-03-21 16:48:45,526] Trial 9 finished with value: 3.109925087295712 and parameters: {'model': 'LGBM', 'n_estimators_lgbm': 129, 'learning_rate_lgbm': 0.21879703416877994, 'max_depth_lgbm': 9}. Best is trial 5 with value: 3.070899959976105.\n",
            "[I 2025-03-21 16:48:48,578] Trial 4 finished with value: 3.6474193452844985 and parameters: {'model': 'GB', 'n_estimators_gb': 49, 'learning_rate_gb': 0.3481879107828132, 'max_depth_gb': 20}. Best is trial 5 with value: 3.070899959976105.\n"
          ]
        },
        {
          "name": "stdout",
          "output_type": "stream",
          "text": [
            "🏃 View run clumsy-cat-437 at: https://dagshub.com/sourav664/swiggy-delivery-time-prediction.mlflow/#/experiments/1/runs/82921d2ec3454909bc460685dfc31aa6\n",
            "🧪 View experiment at: https://dagshub.com/sourav664/swiggy-delivery-time-prediction.mlflow/#/experiments/1\n"
          ]
        },
        {
          "name": "stderr",
          "output_type": "stream",
          "text": [
            "[I 2025-03-21 16:48:52,510] Trial 11 finished with value: 4.365333771537043 and parameters: {'model': 'KNN', 'n_neighbors_knn': 8, 'weights_knn': 'uniform'}. Best is trial 5 with value: 3.070899959976105.\n"
          ]
        },
        {
          "name": "stdout",
          "output_type": "stream",
          "text": [
            "🏃 View run caring-cow-267 at: https://dagshub.com/sourav664/swiggy-delivery-time-prediction.mlflow/#/experiments/1/runs/6f55b87d095f4509b1d97953b6b1415e\n",
            "🧪 View experiment at: https://dagshub.com/sourav664/swiggy-delivery-time-prediction.mlflow/#/experiments/1\n"
          ]
        },
        {
          "name": "stderr",
          "output_type": "stream",
          "text": [
            "[I 2025-03-21 16:48:58,539] Trial 12 finished with value: 3.0904900896570253 and parameters: {'model': 'RF', 'n_estimators_rf': 194, 'max_depth_rf': 15}. Best is trial 5 with value: 3.070899959976105.\n"
          ]
        },
        {
          "name": "stdout",
          "output_type": "stream",
          "text": [
            "🏃 View run bright-grouse-216 at: https://dagshub.com/sourav664/swiggy-delivery-time-prediction.mlflow/#/experiments/1/runs/fc4f8f027d4a466a82f80d80f756dc45\n",
            "🧪 View experiment at: https://dagshub.com/sourav664/swiggy-delivery-time-prediction.mlflow/#/experiments/1\n"
          ]
        },
        {
          "name": "stderr",
          "output_type": "stream",
          "text": [
            "[I 2025-03-21 16:50:53,009] Trial 16 finished with value: 3.0930523261680616 and parameters: {'model': 'LGBM', 'n_estimators_lgbm': 71, 'learning_rate_lgbm': 0.10995096675198837, 'max_depth_lgbm': 12}. Best is trial 5 with value: 3.070899959976105.\n"
          ]
        },
        {
          "name": "stdout",
          "output_type": "stream",
          "text": [
            "🏃 View run abrasive-dove-954 at: https://dagshub.com/sourav664/swiggy-delivery-time-prediction.mlflow/#/experiments/1/runs/e8623743fa114727a41c8fcbf5a921a1\n",
            "🧪 View experiment at: https://dagshub.com/sourav664/swiggy-delivery-time-prediction.mlflow/#/experiments/1\n"
          ]
        },
        {
          "name": "stderr",
          "output_type": "stream",
          "text": [
            "[I 2025-03-21 16:51:03,079] Trial 8 finished with value: 4.725846109374858 and parameters: {'model': 'SVM', 'kernel_svm': 'poly', 'c_poly': 4.0914171232307215, 'degree_poly': 1}. Best is trial 5 with value: 3.070899959976105.\n"
          ]
        },
        {
          "name": "stdout",
          "output_type": "stream",
          "text": [
            "🏃 View run mercurial-squid-165 at: https://dagshub.com/sourav664/swiggy-delivery-time-prediction.mlflow/#/experiments/1/runs/38f45e012c714dcdbd99226fb75f910b\n",
            "🧪 View experiment at: https://dagshub.com/sourav664/swiggy-delivery-time-prediction.mlflow/#/experiments/1\n"
          ]
        },
        {
          "name": "stderr",
          "output_type": "stream",
          "text": [
            "[I 2025-03-21 16:52:09,548] Trial 15 finished with value: 3.121628892771731 and parameters: {'model': 'LGBM', 'n_estimators_lgbm': 170, 'learning_rate_lgbm': 0.3268690740109259, 'max_depth_lgbm': 18}. Best is trial 5 with value: 3.070899959976105.\n"
          ]
        },
        {
          "name": "stdout",
          "output_type": "stream",
          "text": [
            "🏃 View run painted-worm-271 at: https://dagshub.com/sourav664/swiggy-delivery-time-prediction.mlflow/#/experiments/1/runs/bbfb09b7b1be4104ac02306bb4eacbe3\n",
            "🧪 View experiment at: https://dagshub.com/sourav664/swiggy-delivery-time-prediction.mlflow/#/experiments/1\n"
          ]
        },
        {
          "name": "stderr",
          "output_type": "stream",
          "text": [
            "[I 2025-03-21 16:52:11,789] Trial 18 finished with value: 3.057125471906443 and parameters: {'model': 'LGBM', 'n_estimators_lgbm': 165, 'learning_rate_lgbm': 0.11551784458085505, 'max_depth_lgbm': 11}. Best is trial 18 with value: 3.057125471906443.\n"
          ]
        },
        {
          "name": "stdout",
          "output_type": "stream",
          "text": [
            "🏃 View run carefree-wasp-688 at: https://dagshub.com/sourav664/swiggy-delivery-time-prediction.mlflow/#/experiments/1/runs/49fa2b8695484fca95a1ec261e9039bf\n",
            "🧪 View experiment at: https://dagshub.com/sourav664/swiggy-delivery-time-prediction.mlflow/#/experiments/1\n"
          ]
        },
        {
          "name": "stderr",
          "output_type": "stream",
          "text": [
            "[I 2025-03-21 16:52:17,326] Trial 22 finished with value: 3.83269559570417 and parameters: {'model': 'LGBM', 'n_estimators_lgbm': 14, 'learning_rate_lgbm': 0.4522239947195206, 'max_depth_lgbm': 3}. Best is trial 18 with value: 3.057125471906443.\n"
          ]
        },
        {
          "name": "stdout",
          "output_type": "stream",
          "text": [
            "🏃 View run traveling-shrike-949 at: https://dagshub.com/sourav664/swiggy-delivery-time-prediction.mlflow/#/experiments/1/runs/5c1c61e1ce3f44f38ac2806a71d33249\n",
            "🧪 View experiment at: https://dagshub.com/sourav664/swiggy-delivery-time-prediction.mlflow/#/experiments/1\n"
          ]
        },
        {
          "name": "stderr",
          "output_type": "stream",
          "text": [
            "[I 2025-03-21 16:52:40,515] Trial 21 finished with value: 3.720712440294781 and parameters: {'model': 'LGBM', 'n_estimators_lgbm': 199, 'learning_rate_lgbm': 0.11739879760115364, 'max_depth_lgbm': 2}. Best is trial 18 with value: 3.057125471906443.\n"
          ]
        },
        {
          "name": "stdout",
          "output_type": "stream",
          "text": [
            "🏃 View run youthful-carp-326 at: https://dagshub.com/sourav664/swiggy-delivery-time-prediction.mlflow/#/experiments/1/runs/7fc2734bc098453ba4737123a4075994\n",
            "🧪 View experiment at: https://dagshub.com/sourav664/swiggy-delivery-time-prediction.mlflow/#/experiments/1\n"
          ]
        },
        {
          "name": "stderr",
          "output_type": "stream",
          "text": [
            "[I 2025-03-21 16:52:56,240] Trial 24 finished with value: 3.596339622499629 and parameters: {'model': 'GB', 'n_estimators_gb': 190, 'learning_rate_gb': 0.9571995787291403, 'max_depth_gb': 2}. Best is trial 18 with value: 3.057125471906443.\n"
          ]
        },
        {
          "name": "stdout",
          "output_type": "stream",
          "text": [
            "🏃 View run rambunctious-wolf-70 at: https://dagshub.com/sourav664/swiggy-delivery-time-prediction.mlflow/#/experiments/1/runs/06bde02e843243328a6937d063540bc6\n",
            "🧪 View experiment at: https://dagshub.com/sourav664/swiggy-delivery-time-prediction.mlflow/#/experiments/1\n"
          ]
        },
        {
          "name": "stderr",
          "output_type": "stream",
          "text": [
            "[I 2025-03-21 16:53:01,245] Trial 25 finished with value: 5.471700393494366 and parameters: {'model': 'XGB', 'n_estimators_xgb': 12, 'learning_rate_xgb': 0.11375914758040256, 'max_depth_xgb': 2}. Best is trial 18 with value: 3.057125471906443.\n"
          ]
        },
        {
          "name": "stdout",
          "output_type": "stream",
          "text": [
            "🏃 View run efficient-moose-695 at: https://dagshub.com/sourav664/swiggy-delivery-time-prediction.mlflow/#/experiments/1/runs/eb4e7c9ec5c249b19fb79b94cf19603d\n",
            "🧪 View experiment at: https://dagshub.com/sourav664/swiggy-delivery-time-prediction.mlflow/#/experiments/1\n"
          ]
        },
        {
          "name": "stderr",
          "output_type": "stream",
          "text": [
            "[I 2025-03-21 16:54:03,920] Trial 20 finished with value: 3.1048827172561584 and parameters: {'model': 'LGBM', 'n_estimators_lgbm': 180, 'learning_rate_lgbm': 0.10283142383755725, 'max_depth_lgbm': 6}. Best is trial 18 with value: 3.057125471906443.\n"
          ]
        },
        {
          "name": "stdout",
          "output_type": "stream",
          "text": [
            "🏃 View run stately-mouse-457 at: https://dagshub.com/sourav664/swiggy-delivery-time-prediction.mlflow/#/experiments/1/runs/139e93c1a71a42e393aff7bf1f52b4c8\n",
            "🧪 View experiment at: https://dagshub.com/sourav664/swiggy-delivery-time-prediction.mlflow/#/experiments/1\n"
          ]
        },
        {
          "name": "stderr",
          "output_type": "stream",
          "text": [
            "[I 2025-03-21 16:54:10,098] Trial 19 finished with value: 3.117837105115405 and parameters: {'model': 'LGBM', 'n_estimators_lgbm': 198, 'learning_rate_lgbm': 0.10736889157662746, 'max_depth_lgbm': 6}. Best is trial 18 with value: 3.057125471906443.\n"
          ]
        },
        {
          "name": "stdout",
          "output_type": "stream",
          "text": [
            "🏃 View run upset-kite-48 at: https://dagshub.com/sourav664/swiggy-delivery-time-prediction.mlflow/#/experiments/1/runs/0c74d27027f34403936dc219088b4d14\n",
            "🧪 View experiment at: https://dagshub.com/sourav664/swiggy-delivery-time-prediction.mlflow/#/experiments/1\n"
          ]
        },
        {
          "name": "stderr",
          "output_type": "stream",
          "text": [
            "[I 2025-03-21 17:02:08,339] Trial 26 finished with value: 4.725964758532641 and parameters: {'model': 'SVM', 'kernel_svm': 'linear', 'c_linear': 1.1060161754238438}. Best is trial 18 with value: 3.057125471906443.\n"
          ]
        },
        {
          "name": "stdout",
          "output_type": "stream",
          "text": [
            "🏃 View run kindly-roo-328 at: https://dagshub.com/sourav664/swiggy-delivery-time-prediction.mlflow/#/experiments/1/runs/29479fc9efc84095a1be0bef7d0bc31e\n",
            "🧪 View experiment at: https://dagshub.com/sourav664/swiggy-delivery-time-prediction.mlflow/#/experiments/1\n"
          ]
        },
        {
          "name": "stderr",
          "output_type": "stream",
          "text": [
            "[I 2025-03-21 17:04:33,736] Trial 29 finished with value: 3.097893803461363 and parameters: {'model': 'LGBM', 'n_estimators_lgbm': 121, 'learning_rate_lgbm': 0.22185545041108212, 'max_depth_lgbm': 13}. Best is trial 18 with value: 3.057125471906443.\n"
          ]
        },
        {
          "name": "stdout",
          "output_type": "stream",
          "text": [
            "🏃 View run gifted-dove-883 at: https://dagshub.com/sourav664/swiggy-delivery-time-prediction.mlflow/#/experiments/1/runs/4704f9d49e6849869b4dd9fd47207d9c\n",
            "🧪 View experiment at: https://dagshub.com/sourav664/swiggy-delivery-time-prediction.mlflow/#/experiments/1\n"
          ]
        },
        {
          "name": "stderr",
          "output_type": "stream",
          "text": [
            "[I 2025-03-21 17:09:26,921] Trial 23 finished with value: 4.7259547747332915 and parameters: {'model': 'SVM', 'kernel_svm': 'linear', 'c_linear': 4.383458449917563}. Best is trial 18 with value: 3.057125471906443.\n"
          ]
        },
        {
          "name": "stdout",
          "output_type": "stream",
          "text": [
            "🏃 View run suave-gnu-22 at: https://dagshub.com/sourav664/swiggy-delivery-time-prediction.mlflow/#/experiments/1/runs/a33774bcc0b740a5bd9d6b82128b2fbe\n",
            "🧪 View experiment at: https://dagshub.com/sourav664/swiggy-delivery-time-prediction.mlflow/#/experiments/1\n"
          ]
        },
        {
          "name": "stderr",
          "output_type": "stream",
          "text": [
            "[I 2025-03-21 17:12:46,496] Trial 17 finished with value: 4.725948999396995 and parameters: {'model': 'SVM', 'kernel_svm': 'linear', 'c_linear': 6.166447259662452}. Best is trial 18 with value: 3.057125471906443.\n"
          ]
        },
        {
          "name": "stdout",
          "output_type": "stream",
          "text": [
            "🏃 View run omniscient-stag-952 at: https://dagshub.com/sourav664/swiggy-delivery-time-prediction.mlflow/#/experiments/1/runs/6c7419f1bfd145369ecb9699ed8eb3db\n",
            "🧪 View experiment at: https://dagshub.com/sourav664/swiggy-delivery-time-prediction.mlflow/#/experiments/1\n"
          ]
        },
        {
          "name": "stderr",
          "output_type": "stream",
          "text": [
            "[I 2025-03-21 17:15:38,940] Trial 10 finished with value: 4.725999914671243 and parameters: {'model': 'SVM', 'kernel_svm': 'linear', 'c_linear': 8.18389273285305}. Best is trial 18 with value: 3.057125471906443.\n"
          ]
        },
        {
          "name": "stdout",
          "output_type": "stream",
          "text": [
            "🏃 View run thoughtful-pug-772 at: https://dagshub.com/sourav664/swiggy-delivery-time-prediction.mlflow/#/experiments/1/runs/33823192358f4e8fb5f79dfadd5b3491\n",
            "🧪 View experiment at: https://dagshub.com/sourav664/swiggy-delivery-time-prediction.mlflow/#/experiments/1\n"
          ]
        },
        {
          "name": "stderr",
          "output_type": "stream",
          "text": [
            "[I 2025-03-21 17:16:53,859] Trial 13 finished with value: 4.725940111942417 and parameters: {'model': 'SVM', 'kernel_svm': 'linear', 'c_linear': 8.430220759905247}. Best is trial 18 with value: 3.057125471906443.\n"
          ]
        },
        {
          "name": "stdout",
          "output_type": "stream",
          "text": [
            "🏃 View run luxuriant-skink-235 at: https://dagshub.com/sourav664/swiggy-delivery-time-prediction.mlflow/#/experiments/1/runs/a21a444d207445508e14eb708d31425f\n",
            "🧪 View experiment at: https://dagshub.com/sourav664/swiggy-delivery-time-prediction.mlflow/#/experiments/1\n"
          ]
        },
        {
          "name": "stderr",
          "output_type": "stream",
          "text": [
            "[I 2025-03-21 17:22:51,188] Trial 27 finished with value: 5.102373748719777 and parameters: {'model': 'SVM', 'kernel_svm': 'rbf', 'c_rbf': 21.84813094224757, 'gamma_rbf': 1.7058998372302159}. Best is trial 18 with value: 3.057125471906443.\n"
          ]
        },
        {
          "name": "stdout",
          "output_type": "stream",
          "text": [
            "🏃 View run delightful-carp-134 at: https://dagshub.com/sourav664/swiggy-delivery-time-prediction.mlflow/#/experiments/1/runs/40315bb44e064f009c783833c4fd0d4e\n",
            "🧪 View experiment at: https://dagshub.com/sourav664/swiggy-delivery-time-prediction.mlflow/#/experiments/1\n"
          ]
        },
        {
          "name": "stderr",
          "output_type": "stream",
          "text": [
            "[I 2025-03-21 17:25:18,419] Trial 28 finished with value: 4.887899714706806 and parameters: {'model': 'SVM', 'kernel_svm': 'rbf', 'c_rbf': 39.602460505253845, 'gamma_rbf': 1.3848195439466715}. Best is trial 18 with value: 3.057125471906443.\n"
          ]
        },
        {
          "name": "stdout",
          "output_type": "stream",
          "text": [
            "🏃 View run sedate-mouse-772 at: https://dagshub.com/sourav664/swiggy-delivery-time-prediction.mlflow/#/experiments/1/runs/dfa9dfa441b248d384e06c712d8c2214\n",
            "🧪 View experiment at: https://dagshub.com/sourav664/swiggy-delivery-time-prediction.mlflow/#/experiments/1\n"
          ]
        },
        {
          "name": "stderr",
          "output_type": "stream",
          "text": [
            "[I 2025-03-21 17:33:33,307] Trial 14 finished with value: 3.729720725203183 and parameters: {'model': 'SVM', 'kernel_svm': 'poly', 'c_poly': 3.770695328577448, 'degree_poly': 4}. Best is trial 18 with value: 3.057125471906443.\n"
          ]
        },
        {
          "name": "stdout",
          "output_type": "stream",
          "text": [
            "🏃 View run Best Model at: https://dagshub.com/sourav664/swiggy-delivery-time-prediction.mlflow/#/experiments/1/runs/a75fc7d14f594b7297283db5bf7f5ecf\n",
            "🧪 View experiment at: https://dagshub.com/sourav664/swiggy-delivery-time-prediction.mlflow/#/experiments/1\n"
          ]
        }
      ],
      "source": [
        "# create optuna study\n",
        "study = optuna.create_study(direction=\"minimize\",study_name=\"model_selection\")\n",
        "\n",
        "with mlflow.start_run(run_name=\"Best Model\") as parent:\n",
        "    # optimize the objective function\n",
        "    study.optimize(objective,n_trials=30,n_jobs=-1)\n",
        "\n",
        "    # log the best parameters\n",
        "    mlflow.log_params(study.best_params)\n",
        "\n",
        "    # log the best score\n",
        "    mlflow.log_metric(\"best_score\",study.best_value)"
      ]
    },
    {
      "cell_type": "code",
      "execution_count": 36,
      "metadata": {
        "colab": {
          "base_uri": "https://localhost:8080/"
        },
        "id": "56OTolVRfzTd",
        "outputId": "1732bcf5-cd0b-4fea-cc4a-d967fa58c2aa"
      },
      "outputs": [
        {
          "data": {
            "text/plain": [
              "3.057125471906443"
            ]
          },
          "execution_count": 36,
          "metadata": {},
          "output_type": "execute_result"
        }
      ],
      "source": [
        "# best score\n",
        "\n",
        "study.best_value"
      ]
    },
    {
      "cell_type": "code",
      "execution_count": 37,
      "metadata": {},
      "outputs": [
        {
          "data": {
            "text/plain": [
              "{'model': 'LGBM',\n",
              " 'n_estimators_lgbm': 165,\n",
              " 'learning_rate_lgbm': 0.11551784458085505,\n",
              " 'max_depth_lgbm': 11}"
            ]
          },
          "execution_count": 37,
          "metadata": {},
          "output_type": "execute_result"
        }
      ],
      "source": [
        "study.best_params"
      ]
    },
    {
      "cell_type": "code",
      "execution_count": 38,
      "metadata": {
        "id": "5RYtbnAdjI--"
      },
      "outputs": [],
      "source": [
        "lgbm_params = {\n",
        "    \"n_estimators\": 165,\n",
        "    \"learning_rate\": 0.11551784458085505,\n",
        "    \"max_depth\": 11\n",
        "}"
      ]
    },
    {
      "cell_type": "code",
      "execution_count": 39,
      "metadata": {
        "colab": {
          "base_uri": "https://localhost:8080/",
          "height": 167
        },
        "id": "ngwQnZSrhtM2",
        "outputId": "ef4e4ab3-2c1e-4b51-8a57-dfc10a099110"
      },
      "outputs": [
        {
          "name": "stdout",
          "output_type": "stream",
          "text": [
            "[LightGBM] [Info] Auto-choosing row-wise multi-threading, the overhead of testing was 0.001516 seconds.\n",
            "You can set `force_row_wise=true` to remove the overhead.\n",
            "And if memory is not enough, you can set `force_col_wise=true`.\n",
            "[LightGBM] [Info] Total Bins 355\n",
            "[LightGBM] [Info] Number of data points in the train set: 30451, number of used features: 26\n",
            "[LightGBM] [Info] Start training from score 0.000000\n"
          ]
        },
        {
          "data": {
            "text/html": [
              "<style>#sk-container-id-3 {\n",
              "  /* Definition of color scheme common for light and dark mode */\n",
              "  --sklearn-color-text: black;\n",
              "  --sklearn-color-line: gray;\n",
              "  /* Definition of color scheme for unfitted estimators */\n",
              "  --sklearn-color-unfitted-level-0: #fff5e6;\n",
              "  --sklearn-color-unfitted-level-1: #f6e4d2;\n",
              "  --sklearn-color-unfitted-level-2: #ffe0b3;\n",
              "  --sklearn-color-unfitted-level-3: chocolate;\n",
              "  /* Definition of color scheme for fitted estimators */\n",
              "  --sklearn-color-fitted-level-0: #f0f8ff;\n",
              "  --sklearn-color-fitted-level-1: #d4ebff;\n",
              "  --sklearn-color-fitted-level-2: #b3dbfd;\n",
              "  --sklearn-color-fitted-level-3: cornflowerblue;\n",
              "\n",
              "  /* Specific color for light theme */\n",
              "  --sklearn-color-text-on-default-background: var(--sg-text-color, var(--theme-code-foreground, var(--jp-content-font-color1, black)));\n",
              "  --sklearn-color-background: var(--sg-background-color, var(--theme-background, var(--jp-layout-color0, white)));\n",
              "  --sklearn-color-border-box: var(--sg-text-color, var(--theme-code-foreground, var(--jp-content-font-color1, black)));\n",
              "  --sklearn-color-icon: #696969;\n",
              "\n",
              "  @media (prefers-color-scheme: dark) {\n",
              "    /* Redefinition of color scheme for dark theme */\n",
              "    --sklearn-color-text-on-default-background: var(--sg-text-color, var(--theme-code-foreground, var(--jp-content-font-color1, white)));\n",
              "    --sklearn-color-background: var(--sg-background-color, var(--theme-background, var(--jp-layout-color0, #111)));\n",
              "    --sklearn-color-border-box: var(--sg-text-color, var(--theme-code-foreground, var(--jp-content-font-color1, white)));\n",
              "    --sklearn-color-icon: #878787;\n",
              "  }\n",
              "}\n",
              "\n",
              "#sk-container-id-3 {\n",
              "  color: var(--sklearn-color-text);\n",
              "}\n",
              "\n",
              "#sk-container-id-3 pre {\n",
              "  padding: 0;\n",
              "}\n",
              "\n",
              "#sk-container-id-3 input.sk-hidden--visually {\n",
              "  border: 0;\n",
              "  clip: rect(1px 1px 1px 1px);\n",
              "  clip: rect(1px, 1px, 1px, 1px);\n",
              "  height: 1px;\n",
              "  margin: -1px;\n",
              "  overflow: hidden;\n",
              "  padding: 0;\n",
              "  position: absolute;\n",
              "  width: 1px;\n",
              "}\n",
              "\n",
              "#sk-container-id-3 div.sk-dashed-wrapped {\n",
              "  border: 1px dashed var(--sklearn-color-line);\n",
              "  margin: 0 0.4em 0.5em 0.4em;\n",
              "  box-sizing: border-box;\n",
              "  padding-bottom: 0.4em;\n",
              "  background-color: var(--sklearn-color-background);\n",
              "}\n",
              "\n",
              "#sk-container-id-3 div.sk-container {\n",
              "  /* jupyter's `normalize.less` sets `[hidden] { display: none; }`\n",
              "     but bootstrap.min.css set `[hidden] { display: none !important; }`\n",
              "     so we also need the `!important` here to be able to override the\n",
              "     default hidden behavior on the sphinx rendered scikit-learn.org.\n",
              "     See: https://github.com/scikit-learn/scikit-learn/issues/21755 */\n",
              "  display: inline-block !important;\n",
              "  position: relative;\n",
              "}\n",
              "\n",
              "#sk-container-id-3 div.sk-text-repr-fallback {\n",
              "  display: none;\n",
              "}\n",
              "\n",
              "div.sk-parallel-item,\n",
              "div.sk-serial,\n",
              "div.sk-item {\n",
              "  /* draw centered vertical line to link estimators */\n",
              "  background-image: linear-gradient(var(--sklearn-color-text-on-default-background), var(--sklearn-color-text-on-default-background));\n",
              "  background-size: 2px 100%;\n",
              "  background-repeat: no-repeat;\n",
              "  background-position: center center;\n",
              "}\n",
              "\n",
              "/* Parallel-specific style estimator block */\n",
              "\n",
              "#sk-container-id-3 div.sk-parallel-item::after {\n",
              "  content: \"\";\n",
              "  width: 100%;\n",
              "  border-bottom: 2px solid var(--sklearn-color-text-on-default-background);\n",
              "  flex-grow: 1;\n",
              "}\n",
              "\n",
              "#sk-container-id-3 div.sk-parallel {\n",
              "  display: flex;\n",
              "  align-items: stretch;\n",
              "  justify-content: center;\n",
              "  background-color: var(--sklearn-color-background);\n",
              "  position: relative;\n",
              "}\n",
              "\n",
              "#sk-container-id-3 div.sk-parallel-item {\n",
              "  display: flex;\n",
              "  flex-direction: column;\n",
              "}\n",
              "\n",
              "#sk-container-id-3 div.sk-parallel-item:first-child::after {\n",
              "  align-self: flex-end;\n",
              "  width: 50%;\n",
              "}\n",
              "\n",
              "#sk-container-id-3 div.sk-parallel-item:last-child::after {\n",
              "  align-self: flex-start;\n",
              "  width: 50%;\n",
              "}\n",
              "\n",
              "#sk-container-id-3 div.sk-parallel-item:only-child::after {\n",
              "  width: 0;\n",
              "}\n",
              "\n",
              "/* Serial-specific style estimator block */\n",
              "\n",
              "#sk-container-id-3 div.sk-serial {\n",
              "  display: flex;\n",
              "  flex-direction: column;\n",
              "  align-items: center;\n",
              "  background-color: var(--sklearn-color-background);\n",
              "  padding-right: 1em;\n",
              "  padding-left: 1em;\n",
              "}\n",
              "\n",
              "\n",
              "/* Toggleable style: style used for estimator/Pipeline/ColumnTransformer box that is\n",
              "clickable and can be expanded/collapsed.\n",
              "- Pipeline and ColumnTransformer use this feature and define the default style\n",
              "- Estimators will overwrite some part of the style using the `sk-estimator` class\n",
              "*/\n",
              "\n",
              "/* Pipeline and ColumnTransformer style (default) */\n",
              "\n",
              "#sk-container-id-3 div.sk-toggleable {\n",
              "  /* Default theme specific background. It is overwritten whether we have a\n",
              "  specific estimator or a Pipeline/ColumnTransformer */\n",
              "  background-color: var(--sklearn-color-background);\n",
              "}\n",
              "\n",
              "/* Toggleable label */\n",
              "#sk-container-id-3 label.sk-toggleable__label {\n",
              "  cursor: pointer;\n",
              "  display: block;\n",
              "  width: 100%;\n",
              "  margin-bottom: 0;\n",
              "  padding: 0.5em;\n",
              "  box-sizing: border-box;\n",
              "  text-align: center;\n",
              "}\n",
              "\n",
              "#sk-container-id-3 label.sk-toggleable__label-arrow:before {\n",
              "  /* Arrow on the left of the label */\n",
              "  content: \"▸\";\n",
              "  float: left;\n",
              "  margin-right: 0.25em;\n",
              "  color: var(--sklearn-color-icon);\n",
              "}\n",
              "\n",
              "#sk-container-id-3 label.sk-toggleable__label-arrow:hover:before {\n",
              "  color: var(--sklearn-color-text);\n",
              "}\n",
              "\n",
              "/* Toggleable content - dropdown */\n",
              "\n",
              "#sk-container-id-3 div.sk-toggleable__content {\n",
              "  max-height: 0;\n",
              "  max-width: 0;\n",
              "  overflow: hidden;\n",
              "  text-align: left;\n",
              "  /* unfitted */\n",
              "  background-color: var(--sklearn-color-unfitted-level-0);\n",
              "}\n",
              "\n",
              "#sk-container-id-3 div.sk-toggleable__content.fitted {\n",
              "  /* fitted */\n",
              "  background-color: var(--sklearn-color-fitted-level-0);\n",
              "}\n",
              "\n",
              "#sk-container-id-3 div.sk-toggleable__content pre {\n",
              "  margin: 0.2em;\n",
              "  border-radius: 0.25em;\n",
              "  color: var(--sklearn-color-text);\n",
              "  /* unfitted */\n",
              "  background-color: var(--sklearn-color-unfitted-level-0);\n",
              "}\n",
              "\n",
              "#sk-container-id-3 div.sk-toggleable__content.fitted pre {\n",
              "  /* unfitted */\n",
              "  background-color: var(--sklearn-color-fitted-level-0);\n",
              "}\n",
              "\n",
              "#sk-container-id-3 input.sk-toggleable__control:checked~div.sk-toggleable__content {\n",
              "  /* Expand drop-down */\n",
              "  max-height: 200px;\n",
              "  max-width: 100%;\n",
              "  overflow: auto;\n",
              "}\n",
              "\n",
              "#sk-container-id-3 input.sk-toggleable__control:checked~label.sk-toggleable__label-arrow:before {\n",
              "  content: \"▾\";\n",
              "}\n",
              "\n",
              "/* Pipeline/ColumnTransformer-specific style */\n",
              "\n",
              "#sk-container-id-3 div.sk-label input.sk-toggleable__control:checked~label.sk-toggleable__label {\n",
              "  color: var(--sklearn-color-text);\n",
              "  background-color: var(--sklearn-color-unfitted-level-2);\n",
              "}\n",
              "\n",
              "#sk-container-id-3 div.sk-label.fitted input.sk-toggleable__control:checked~label.sk-toggleable__label {\n",
              "  background-color: var(--sklearn-color-fitted-level-2);\n",
              "}\n",
              "\n",
              "/* Estimator-specific style */\n",
              "\n",
              "/* Colorize estimator box */\n",
              "#sk-container-id-3 div.sk-estimator input.sk-toggleable__control:checked~label.sk-toggleable__label {\n",
              "  /* unfitted */\n",
              "  background-color: var(--sklearn-color-unfitted-level-2);\n",
              "}\n",
              "\n",
              "#sk-container-id-3 div.sk-estimator.fitted input.sk-toggleable__control:checked~label.sk-toggleable__label {\n",
              "  /* fitted */\n",
              "  background-color: var(--sklearn-color-fitted-level-2);\n",
              "}\n",
              "\n",
              "#sk-container-id-3 div.sk-label label.sk-toggleable__label,\n",
              "#sk-container-id-3 div.sk-label label {\n",
              "  /* The background is the default theme color */\n",
              "  color: var(--sklearn-color-text-on-default-background);\n",
              "}\n",
              "\n",
              "/* On hover, darken the color of the background */\n",
              "#sk-container-id-3 div.sk-label:hover label.sk-toggleable__label {\n",
              "  color: var(--sklearn-color-text);\n",
              "  background-color: var(--sklearn-color-unfitted-level-2);\n",
              "}\n",
              "\n",
              "/* Label box, darken color on hover, fitted */\n",
              "#sk-container-id-3 div.sk-label.fitted:hover label.sk-toggleable__label.fitted {\n",
              "  color: var(--sklearn-color-text);\n",
              "  background-color: var(--sklearn-color-fitted-level-2);\n",
              "}\n",
              "\n",
              "/* Estimator label */\n",
              "\n",
              "#sk-container-id-3 div.sk-label label {\n",
              "  font-family: monospace;\n",
              "  font-weight: bold;\n",
              "  display: inline-block;\n",
              "  line-height: 1.2em;\n",
              "}\n",
              "\n",
              "#sk-container-id-3 div.sk-label-container {\n",
              "  text-align: center;\n",
              "}\n",
              "\n",
              "/* Estimator-specific */\n",
              "#sk-container-id-3 div.sk-estimator {\n",
              "  font-family: monospace;\n",
              "  border: 1px dotted var(--sklearn-color-border-box);\n",
              "  border-radius: 0.25em;\n",
              "  box-sizing: border-box;\n",
              "  margin-bottom: 0.5em;\n",
              "  /* unfitted */\n",
              "  background-color: var(--sklearn-color-unfitted-level-0);\n",
              "}\n",
              "\n",
              "#sk-container-id-3 div.sk-estimator.fitted {\n",
              "  /* fitted */\n",
              "  background-color: var(--sklearn-color-fitted-level-0);\n",
              "}\n",
              "\n",
              "/* on hover */\n",
              "#sk-container-id-3 div.sk-estimator:hover {\n",
              "  /* unfitted */\n",
              "  background-color: var(--sklearn-color-unfitted-level-2);\n",
              "}\n",
              "\n",
              "#sk-container-id-3 div.sk-estimator.fitted:hover {\n",
              "  /* fitted */\n",
              "  background-color: var(--sklearn-color-fitted-level-2);\n",
              "}\n",
              "\n",
              "/* Specification for estimator info (e.g. \"i\" and \"?\") */\n",
              "\n",
              "/* Common style for \"i\" and \"?\" */\n",
              "\n",
              ".sk-estimator-doc-link,\n",
              "a:link.sk-estimator-doc-link,\n",
              "a:visited.sk-estimator-doc-link {\n",
              "  float: right;\n",
              "  font-size: smaller;\n",
              "  line-height: 1em;\n",
              "  font-family: monospace;\n",
              "  background-color: var(--sklearn-color-background);\n",
              "  border-radius: 1em;\n",
              "  height: 1em;\n",
              "  width: 1em;\n",
              "  text-decoration: none !important;\n",
              "  margin-left: 1ex;\n",
              "  /* unfitted */\n",
              "  border: var(--sklearn-color-unfitted-level-1) 1pt solid;\n",
              "  color: var(--sklearn-color-unfitted-level-1);\n",
              "}\n",
              "\n",
              ".sk-estimator-doc-link.fitted,\n",
              "a:link.sk-estimator-doc-link.fitted,\n",
              "a:visited.sk-estimator-doc-link.fitted {\n",
              "  /* fitted */\n",
              "  border: var(--sklearn-color-fitted-level-1) 1pt solid;\n",
              "  color: var(--sklearn-color-fitted-level-1);\n",
              "}\n",
              "\n",
              "/* On hover */\n",
              "div.sk-estimator:hover .sk-estimator-doc-link:hover,\n",
              ".sk-estimator-doc-link:hover,\n",
              "div.sk-label-container:hover .sk-estimator-doc-link:hover,\n",
              ".sk-estimator-doc-link:hover {\n",
              "  /* unfitted */\n",
              "  background-color: var(--sklearn-color-unfitted-level-3);\n",
              "  color: var(--sklearn-color-background);\n",
              "  text-decoration: none;\n",
              "}\n",
              "\n",
              "div.sk-estimator.fitted:hover .sk-estimator-doc-link.fitted:hover,\n",
              ".sk-estimator-doc-link.fitted:hover,\n",
              "div.sk-label-container:hover .sk-estimator-doc-link.fitted:hover,\n",
              ".sk-estimator-doc-link.fitted:hover {\n",
              "  /* fitted */\n",
              "  background-color: var(--sklearn-color-fitted-level-3);\n",
              "  color: var(--sklearn-color-background);\n",
              "  text-decoration: none;\n",
              "}\n",
              "\n",
              "/* Span, style for the box shown on hovering the info icon */\n",
              ".sk-estimator-doc-link span {\n",
              "  display: none;\n",
              "  z-index: 9999;\n",
              "  position: relative;\n",
              "  font-weight: normal;\n",
              "  right: .2ex;\n",
              "  padding: .5ex;\n",
              "  margin: .5ex;\n",
              "  width: min-content;\n",
              "  min-width: 20ex;\n",
              "  max-width: 50ex;\n",
              "  color: var(--sklearn-color-text);\n",
              "  box-shadow: 2pt 2pt 4pt #999;\n",
              "  /* unfitted */\n",
              "  background: var(--sklearn-color-unfitted-level-0);\n",
              "  border: .5pt solid var(--sklearn-color-unfitted-level-3);\n",
              "}\n",
              "\n",
              ".sk-estimator-doc-link.fitted span {\n",
              "  /* fitted */\n",
              "  background: var(--sklearn-color-fitted-level-0);\n",
              "  border: var(--sklearn-color-fitted-level-3);\n",
              "}\n",
              "\n",
              ".sk-estimator-doc-link:hover span {\n",
              "  display: block;\n",
              "}\n",
              "\n",
              "/* \"?\"-specific style due to the `<a>` HTML tag */\n",
              "\n",
              "#sk-container-id-3 a.estimator_doc_link {\n",
              "  float: right;\n",
              "  font-size: 1rem;\n",
              "  line-height: 1em;\n",
              "  font-family: monospace;\n",
              "  background-color: var(--sklearn-color-background);\n",
              "  border-radius: 1rem;\n",
              "  height: 1rem;\n",
              "  width: 1rem;\n",
              "  text-decoration: none;\n",
              "  /* unfitted */\n",
              "  color: var(--sklearn-color-unfitted-level-1);\n",
              "  border: var(--sklearn-color-unfitted-level-1) 1pt solid;\n",
              "}\n",
              "\n",
              "#sk-container-id-3 a.estimator_doc_link.fitted {\n",
              "  /* fitted */\n",
              "  border: var(--sklearn-color-fitted-level-1) 1pt solid;\n",
              "  color: var(--sklearn-color-fitted-level-1);\n",
              "}\n",
              "\n",
              "/* On hover */\n",
              "#sk-container-id-3 a.estimator_doc_link:hover {\n",
              "  /* unfitted */\n",
              "  background-color: var(--sklearn-color-unfitted-level-3);\n",
              "  color: var(--sklearn-color-background);\n",
              "  text-decoration: none;\n",
              "}\n",
              "\n",
              "#sk-container-id-3 a.estimator_doc_link.fitted:hover {\n",
              "  /* fitted */\n",
              "  background-color: var(--sklearn-color-fitted-level-3);\n",
              "}\n",
              "</style><div id=\"sk-container-id-3\" class=\"sk-top-container\"><div class=\"sk-text-repr-fallback\"><pre>LGBMRegressor(learning_rate=0.11551784458085505, max_depth=11, n_estimators=165)</pre><b>In a Jupyter environment, please rerun this cell to show the HTML representation or trust the notebook. <br />On GitHub, the HTML representation is unable to render, please try loading this page with nbviewer.org.</b></div><div class=\"sk-container\" hidden><div class=\"sk-item\"><div class=\"sk-estimator fitted sk-toggleable\"><input class=\"sk-toggleable__control sk-hidden--visually\" id=\"sk-estimator-id-20\" type=\"checkbox\" checked><label for=\"sk-estimator-id-20\" class=\"sk-toggleable__label fitted sk-toggleable__label-arrow fitted\">&nbsp;LGBMRegressor<span class=\"sk-estimator-doc-link fitted\">i<span>Fitted</span></span></label><div class=\"sk-toggleable__content fitted\"><pre>LGBMRegressor(learning_rate=0.11551784458085505, max_depth=11, n_estimators=165)</pre></div> </div></div></div></div>"
            ],
            "text/plain": [
              "LGBMRegressor(learning_rate=0.11551784458085505, max_depth=11, n_estimators=165)"
            ]
          },
          "execution_count": 39,
          "metadata": {},
          "output_type": "execute_result"
        }
      ],
      "source": [
        "# train the model on best parameters\n",
        "\n",
        "lgbm = LGBMRegressor(**lgbm_params)\n",
        "\n",
        "lgbm.fit(X_train_trans,y_train_pt.values.ravel())"
      ]
    },
    {
      "cell_type": "code",
      "execution_count": 40,
      "metadata": {
        "id": "PgboKKdfrRJb"
      },
      "outputs": [],
      "source": [
        "# get the predictions\n",
        "y_pred_train = lgbm.predict(X_train_trans)\n",
        "y_pred_test = lgbm.predict(X_test_trans)"
      ]
    },
    {
      "cell_type": "code",
      "execution_count": 41,
      "metadata": {
        "id": "TbyRoXrMrRJb"
      },
      "outputs": [],
      "source": [
        "# get the actual predictions values\n",
        "\n",
        "y_pred_train_org = pt.inverse_transform(y_pred_train.reshape(-1,1))\n",
        "y_pred_test_org = pt.inverse_transform(y_pred_test.reshape(-1,1))"
      ]
    },
    {
      "cell_type": "code",
      "execution_count": 42,
      "metadata": {
        "colab": {
          "base_uri": "https://localhost:8080/"
        },
        "id": "WP7ynLUCrRJc",
        "outputId": "8540c390-cfa0-411f-ec8f-d1ba6321c409"
      },
      "outputs": [
        {
          "name": "stdout",
          "output_type": "stream",
          "text": [
            "The train error is 2.84 minutes\n",
            "The test error is 3.06 minutes\n"
          ]
        }
      ],
      "source": [
        "from sklearn.metrics import mean_absolute_error, r2_score\n",
        "\n",
        "print(f\"The train error is {mean_absolute_error(y_train,y_pred_train_org):.2f} minutes\")\n",
        "print(f\"The test error is {mean_absolute_error(y_test,y_pred_test_org):.2f} minutes\")"
      ]
    },
    {
      "cell_type": "code",
      "execution_count": 43,
      "metadata": {
        "colab": {
          "base_uri": "https://localhost:8080/"
        },
        "id": "ISoCCVh5rRJc",
        "outputId": "ec032495-255f-465e-ec8c-9673b130c430"
      },
      "outputs": [
        {
          "name": "stdout",
          "output_type": "stream",
          "text": [
            "The train r2 score is 0.86\n",
            "The test r2 score is 0.84\n"
          ]
        }
      ],
      "source": [
        "print(f\"The train r2 score is {r2_score(y_train,y_pred_train_org):.2f}\")\n",
        "print(f\"The test r2 score is {r2_score(y_test,y_pred_test_org):.2f}\")"
      ]
    },
    {
      "cell_type": "code",
      "execution_count": 44,
      "metadata": {
        "colab": {
          "base_uri": "https://localhost:8080/",
          "height": 1000
        },
        "id": "bY2Cqy_cZrQQ",
        "outputId": "650bd0cd-ab99-4534-d707-962294567cfc"
      },
      "outputs": [
        {
          "data": {
            "text/html": [
              "<div>\n",
              "<style scoped>\n",
              "    .dataframe tbody tr th:only-of-type {\n",
              "        vertical-align: middle;\n",
              "    }\n",
              "\n",
              "    .dataframe tbody tr th {\n",
              "        vertical-align: top;\n",
              "    }\n",
              "\n",
              "    .dataframe thead th {\n",
              "        text-align: right;\n",
              "    }\n",
              "</style>\n",
              "<table border=\"1\" class=\"dataframe\">\n",
              "  <thead>\n",
              "    <tr style=\"text-align: right;\">\n",
              "      <th></th>\n",
              "      <th>number</th>\n",
              "      <th>value</th>\n",
              "      <th>datetime_start</th>\n",
              "      <th>datetime_complete</th>\n",
              "      <th>duration</th>\n",
              "      <th>params_c_linear</th>\n",
              "      <th>params_c_poly</th>\n",
              "      <th>params_c_rbf</th>\n",
              "      <th>params_degree_poly</th>\n",
              "      <th>params_gamma_rbf</th>\n",
              "      <th>...</th>\n",
              "      <th>params_max_depth_rf</th>\n",
              "      <th>params_max_depth_xgb</th>\n",
              "      <th>params_model</th>\n",
              "      <th>params_n_estimators_gb</th>\n",
              "      <th>params_n_estimators_lgbm</th>\n",
              "      <th>params_n_estimators_rf</th>\n",
              "      <th>params_n_estimators_xgb</th>\n",
              "      <th>params_n_neighbors_knn</th>\n",
              "      <th>params_weights_knn</th>\n",
              "      <th>state</th>\n",
              "    </tr>\n",
              "  </thead>\n",
              "  <tbody>\n",
              "    <tr>\n",
              "      <th>0</th>\n",
              "      <td>0</td>\n",
              "      <td>4.314619</td>\n",
              "      <td>2025-03-21 16:47:55.540386</td>\n",
              "      <td>2025-03-21 16:48:06.357236</td>\n",
              "      <td>0 days 00:00:10.816850</td>\n",
              "      <td>NaN</td>\n",
              "      <td>NaN</td>\n",
              "      <td>NaN</td>\n",
              "      <td>NaN</td>\n",
              "      <td>NaN</td>\n",
              "      <td>...</td>\n",
              "      <td>NaN</td>\n",
              "      <td>NaN</td>\n",
              "      <td>KNN</td>\n",
              "      <td>NaN</td>\n",
              "      <td>NaN</td>\n",
              "      <td>NaN</td>\n",
              "      <td>NaN</td>\n",
              "      <td>21.0</td>\n",
              "      <td>distance</td>\n",
              "      <td>COMPLETE</td>\n",
              "    </tr>\n",
              "    <tr>\n",
              "      <th>1</th>\n",
              "      <td>1</td>\n",
              "      <td>3.100002</td>\n",
              "      <td>2025-03-21 16:47:55.540386</td>\n",
              "      <td>2025-03-21 16:48:10.515469</td>\n",
              "      <td>0 days 00:00:14.975083</td>\n",
              "      <td>NaN</td>\n",
              "      <td>NaN</td>\n",
              "      <td>NaN</td>\n",
              "      <td>NaN</td>\n",
              "      <td>NaN</td>\n",
              "      <td>...</td>\n",
              "      <td>16.0</td>\n",
              "      <td>NaN</td>\n",
              "      <td>RF</td>\n",
              "      <td>NaN</td>\n",
              "      <td>NaN</td>\n",
              "      <td>103.0</td>\n",
              "      <td>NaN</td>\n",
              "      <td>NaN</td>\n",
              "      <td>NaN</td>\n",
              "      <td>COMPLETE</td>\n",
              "    </tr>\n",
              "    <tr>\n",
              "      <th>2</th>\n",
              "      <td>2</td>\n",
              "      <td>3.341981</td>\n",
              "      <td>2025-03-21 16:47:55.545989</td>\n",
              "      <td>2025-03-21 16:48:40.507775</td>\n",
              "      <td>0 days 00:00:44.961786</td>\n",
              "      <td>NaN</td>\n",
              "      <td>NaN</td>\n",
              "      <td>NaN</td>\n",
              "      <td>NaN</td>\n",
              "      <td>NaN</td>\n",
              "      <td>...</td>\n",
              "      <td>NaN</td>\n",
              "      <td>17.0</td>\n",
              "      <td>XGB</td>\n",
              "      <td>NaN</td>\n",
              "      <td>NaN</td>\n",
              "      <td>NaN</td>\n",
              "      <td>109.0</td>\n",
              "      <td>NaN</td>\n",
              "      <td>NaN</td>\n",
              "      <td>COMPLETE</td>\n",
              "    </tr>\n",
              "    <tr>\n",
              "      <th>3</th>\n",
              "      <td>3</td>\n",
              "      <td>4.349451</td>\n",
              "      <td>2025-03-21 16:47:55.545989</td>\n",
              "      <td>2025-03-21 16:48:19.498495</td>\n",
              "      <td>0 days 00:00:23.952506</td>\n",
              "      <td>NaN</td>\n",
              "      <td>NaN</td>\n",
              "      <td>NaN</td>\n",
              "      <td>NaN</td>\n",
              "      <td>NaN</td>\n",
              "      <td>...</td>\n",
              "      <td>NaN</td>\n",
              "      <td>NaN</td>\n",
              "      <td>KNN</td>\n",
              "      <td>NaN</td>\n",
              "      <td>NaN</td>\n",
              "      <td>NaN</td>\n",
              "      <td>NaN</td>\n",
              "      <td>11.0</td>\n",
              "      <td>uniform</td>\n",
              "      <td>COMPLETE</td>\n",
              "    </tr>\n",
              "    <tr>\n",
              "      <th>4</th>\n",
              "      <td>4</td>\n",
              "      <td>3.647419</td>\n",
              "      <td>2025-03-21 16:47:55.545989</td>\n",
              "      <td>2025-03-21 16:48:48.576615</td>\n",
              "      <td>0 days 00:00:53.030626</td>\n",
              "      <td>NaN</td>\n",
              "      <td>NaN</td>\n",
              "      <td>NaN</td>\n",
              "      <td>NaN</td>\n",
              "      <td>NaN</td>\n",
              "      <td>...</td>\n",
              "      <td>NaN</td>\n",
              "      <td>NaN</td>\n",
              "      <td>GB</td>\n",
              "      <td>49.0</td>\n",
              "      <td>NaN</td>\n",
              "      <td>NaN</td>\n",
              "      <td>NaN</td>\n",
              "      <td>NaN</td>\n",
              "      <td>NaN</td>\n",
              "      <td>COMPLETE</td>\n",
              "    </tr>\n",
              "    <tr>\n",
              "      <th>5</th>\n",
              "      <td>5</td>\n",
              "      <td>3.070900</td>\n",
              "      <td>2025-03-21 16:47:55.547997</td>\n",
              "      <td>2025-03-21 16:48:36.497999</td>\n",
              "      <td>0 days 00:00:40.950002</td>\n",
              "      <td>NaN</td>\n",
              "      <td>NaN</td>\n",
              "      <td>NaN</td>\n",
              "      <td>NaN</td>\n",
              "      <td>NaN</td>\n",
              "      <td>...</td>\n",
              "      <td>NaN</td>\n",
              "      <td>NaN</td>\n",
              "      <td>LGBM</td>\n",
              "      <td>NaN</td>\n",
              "      <td>106.0</td>\n",
              "      <td>NaN</td>\n",
              "      <td>NaN</td>\n",
              "      <td>NaN</td>\n",
              "      <td>NaN</td>\n",
              "      <td>COMPLETE</td>\n",
              "    </tr>\n",
              "    <tr>\n",
              "      <th>6</th>\n",
              "      <td>6</td>\n",
              "      <td>4.410268</td>\n",
              "      <td>2025-03-21 16:47:55.550020</td>\n",
              "      <td>2025-03-21 16:48:20.504107</td>\n",
              "      <td>0 days 00:00:24.954087</td>\n",
              "      <td>NaN</td>\n",
              "      <td>NaN</td>\n",
              "      <td>NaN</td>\n",
              "      <td>NaN</td>\n",
              "      <td>NaN</td>\n",
              "      <td>...</td>\n",
              "      <td>NaN</td>\n",
              "      <td>NaN</td>\n",
              "      <td>KNN</td>\n",
              "      <td>NaN</td>\n",
              "      <td>NaN</td>\n",
              "      <td>NaN</td>\n",
              "      <td>NaN</td>\n",
              "      <td>5.0</td>\n",
              "      <td>distance</td>\n",
              "      <td>COMPLETE</td>\n",
              "    </tr>\n",
              "    <tr>\n",
              "      <th>7</th>\n",
              "      <td>7</td>\n",
              "      <td>3.077418</td>\n",
              "      <td>2025-03-21 16:47:55.551785</td>\n",
              "      <td>2025-03-21 16:48:38.552368</td>\n",
              "      <td>0 days 00:00:43.000583</td>\n",
              "      <td>NaN</td>\n",
              "      <td>NaN</td>\n",
              "      <td>NaN</td>\n",
              "      <td>NaN</td>\n",
              "      <td>NaN</td>\n",
              "      <td>...</td>\n",
              "      <td>NaN</td>\n",
              "      <td>NaN</td>\n",
              "      <td>LGBM</td>\n",
              "      <td>NaN</td>\n",
              "      <td>161.0</td>\n",
              "      <td>NaN</td>\n",
              "      <td>NaN</td>\n",
              "      <td>NaN</td>\n",
              "      <td>NaN</td>\n",
              "      <td>COMPLETE</td>\n",
              "    </tr>\n",
              "    <tr>\n",
              "      <th>8</th>\n",
              "      <td>8</td>\n",
              "      <td>4.725846</td>\n",
              "      <td>2025-03-21 16:48:06.361245</td>\n",
              "      <td>2025-03-21 16:51:03.078350</td>\n",
              "      <td>0 days 00:02:56.717105</td>\n",
              "      <td>NaN</td>\n",
              "      <td>4.091417</td>\n",
              "      <td>NaN</td>\n",
              "      <td>1.0</td>\n",
              "      <td>NaN</td>\n",
              "      <td>...</td>\n",
              "      <td>NaN</td>\n",
              "      <td>NaN</td>\n",
              "      <td>SVM</td>\n",
              "      <td>NaN</td>\n",
              "      <td>NaN</td>\n",
              "      <td>NaN</td>\n",
              "      <td>NaN</td>\n",
              "      <td>NaN</td>\n",
              "      <td>NaN</td>\n",
              "      <td>COMPLETE</td>\n",
              "    </tr>\n",
              "    <tr>\n",
              "      <th>9</th>\n",
              "      <td>9</td>\n",
              "      <td>3.109925</td>\n",
              "      <td>2025-03-21 16:48:10.519015</td>\n",
              "      <td>2025-03-21 16:48:45.526758</td>\n",
              "      <td>0 days 00:00:35.007743</td>\n",
              "      <td>NaN</td>\n",
              "      <td>NaN</td>\n",
              "      <td>NaN</td>\n",
              "      <td>NaN</td>\n",
              "      <td>NaN</td>\n",
              "      <td>...</td>\n",
              "      <td>NaN</td>\n",
              "      <td>NaN</td>\n",
              "      <td>LGBM</td>\n",
              "      <td>NaN</td>\n",
              "      <td>129.0</td>\n",
              "      <td>NaN</td>\n",
              "      <td>NaN</td>\n",
              "      <td>NaN</td>\n",
              "      <td>NaN</td>\n",
              "      <td>COMPLETE</td>\n",
              "    </tr>\n",
              "    <tr>\n",
              "      <th>10</th>\n",
              "      <td>10</td>\n",
              "      <td>4.726000</td>\n",
              "      <td>2025-03-21 16:48:19.501499</td>\n",
              "      <td>2025-03-21 17:15:38.939650</td>\n",
              "      <td>0 days 00:27:19.438151</td>\n",
              "      <td>8.183893</td>\n",
              "      <td>NaN</td>\n",
              "      <td>NaN</td>\n",
              "      <td>NaN</td>\n",
              "      <td>NaN</td>\n",
              "      <td>...</td>\n",
              "      <td>NaN</td>\n",
              "      <td>NaN</td>\n",
              "      <td>SVM</td>\n",
              "      <td>NaN</td>\n",
              "      <td>NaN</td>\n",
              "      <td>NaN</td>\n",
              "      <td>NaN</td>\n",
              "      <td>NaN</td>\n",
              "      <td>NaN</td>\n",
              "      <td>COMPLETE</td>\n",
              "    </tr>\n",
              "    <tr>\n",
              "      <th>11</th>\n",
              "      <td>11</td>\n",
              "      <td>4.365334</td>\n",
              "      <td>2025-03-21 16:48:20.507140</td>\n",
              "      <td>2025-03-21 16:48:52.510803</td>\n",
              "      <td>0 days 00:00:32.003663</td>\n",
              "      <td>NaN</td>\n",
              "      <td>NaN</td>\n",
              "      <td>NaN</td>\n",
              "      <td>NaN</td>\n",
              "      <td>NaN</td>\n",
              "      <td>...</td>\n",
              "      <td>NaN</td>\n",
              "      <td>NaN</td>\n",
              "      <td>KNN</td>\n",
              "      <td>NaN</td>\n",
              "      <td>NaN</td>\n",
              "      <td>NaN</td>\n",
              "      <td>NaN</td>\n",
              "      <td>8.0</td>\n",
              "      <td>uniform</td>\n",
              "      <td>COMPLETE</td>\n",
              "    </tr>\n",
              "    <tr>\n",
              "      <th>12</th>\n",
              "      <td>12</td>\n",
              "      <td>3.090490</td>\n",
              "      <td>2025-03-21 16:48:36.500995</td>\n",
              "      <td>2025-03-21 16:48:58.538403</td>\n",
              "      <td>0 days 00:00:22.037408</td>\n",
              "      <td>NaN</td>\n",
              "      <td>NaN</td>\n",
              "      <td>NaN</td>\n",
              "      <td>NaN</td>\n",
              "      <td>NaN</td>\n",
              "      <td>...</td>\n",
              "      <td>15.0</td>\n",
              "      <td>NaN</td>\n",
              "      <td>RF</td>\n",
              "      <td>NaN</td>\n",
              "      <td>NaN</td>\n",
              "      <td>194.0</td>\n",
              "      <td>NaN</td>\n",
              "      <td>NaN</td>\n",
              "      <td>NaN</td>\n",
              "      <td>COMPLETE</td>\n",
              "    </tr>\n",
              "    <tr>\n",
              "      <th>13</th>\n",
              "      <td>13</td>\n",
              "      <td>4.725940</td>\n",
              "      <td>2025-03-21 16:48:38.555261</td>\n",
              "      <td>2025-03-21 17:16:53.859044</td>\n",
              "      <td>0 days 00:28:15.303783</td>\n",
              "      <td>8.430221</td>\n",
              "      <td>NaN</td>\n",
              "      <td>NaN</td>\n",
              "      <td>NaN</td>\n",
              "      <td>NaN</td>\n",
              "      <td>...</td>\n",
              "      <td>NaN</td>\n",
              "      <td>NaN</td>\n",
              "      <td>SVM</td>\n",
              "      <td>NaN</td>\n",
              "      <td>NaN</td>\n",
              "      <td>NaN</td>\n",
              "      <td>NaN</td>\n",
              "      <td>NaN</td>\n",
              "      <td>NaN</td>\n",
              "      <td>COMPLETE</td>\n",
              "    </tr>\n",
              "    <tr>\n",
              "      <th>14</th>\n",
              "      <td>14</td>\n",
              "      <td>3.729721</td>\n",
              "      <td>2025-03-21 16:48:40.510784</td>\n",
              "      <td>2025-03-21 17:33:33.306697</td>\n",
              "      <td>0 days 00:44:52.795913</td>\n",
              "      <td>NaN</td>\n",
              "      <td>3.770695</td>\n",
              "      <td>NaN</td>\n",
              "      <td>4.0</td>\n",
              "      <td>NaN</td>\n",
              "      <td>...</td>\n",
              "      <td>NaN</td>\n",
              "      <td>NaN</td>\n",
              "      <td>SVM</td>\n",
              "      <td>NaN</td>\n",
              "      <td>NaN</td>\n",
              "      <td>NaN</td>\n",
              "      <td>NaN</td>\n",
              "      <td>NaN</td>\n",
              "      <td>NaN</td>\n",
              "      <td>COMPLETE</td>\n",
              "    </tr>\n",
              "    <tr>\n",
              "      <th>15</th>\n",
              "      <td>15</td>\n",
              "      <td>3.121629</td>\n",
              "      <td>2025-03-21 16:48:45.530770</td>\n",
              "      <td>2025-03-21 16:52:09.548200</td>\n",
              "      <td>0 days 00:03:24.017430</td>\n",
              "      <td>NaN</td>\n",
              "      <td>NaN</td>\n",
              "      <td>NaN</td>\n",
              "      <td>NaN</td>\n",
              "      <td>NaN</td>\n",
              "      <td>...</td>\n",
              "      <td>NaN</td>\n",
              "      <td>NaN</td>\n",
              "      <td>LGBM</td>\n",
              "      <td>NaN</td>\n",
              "      <td>170.0</td>\n",
              "      <td>NaN</td>\n",
              "      <td>NaN</td>\n",
              "      <td>NaN</td>\n",
              "      <td>NaN</td>\n",
              "      <td>COMPLETE</td>\n",
              "    </tr>\n",
              "    <tr>\n",
              "      <th>16</th>\n",
              "      <td>16</td>\n",
              "      <td>3.093052</td>\n",
              "      <td>2025-03-21 16:48:48.581769</td>\n",
              "      <td>2025-03-21 16:50:53.008506</td>\n",
              "      <td>0 days 00:02:04.426737</td>\n",
              "      <td>NaN</td>\n",
              "      <td>NaN</td>\n",
              "      <td>NaN</td>\n",
              "      <td>NaN</td>\n",
              "      <td>NaN</td>\n",
              "      <td>...</td>\n",
              "      <td>NaN</td>\n",
              "      <td>NaN</td>\n",
              "      <td>LGBM</td>\n",
              "      <td>NaN</td>\n",
              "      <td>71.0</td>\n",
              "      <td>NaN</td>\n",
              "      <td>NaN</td>\n",
              "      <td>NaN</td>\n",
              "      <td>NaN</td>\n",
              "      <td>COMPLETE</td>\n",
              "    </tr>\n",
              "    <tr>\n",
              "      <th>17</th>\n",
              "      <td>17</td>\n",
              "      <td>4.725949</td>\n",
              "      <td>2025-03-21 16:48:52.515317</td>\n",
              "      <td>2025-03-21 17:12:46.496009</td>\n",
              "      <td>0 days 00:23:53.980692</td>\n",
              "      <td>6.166447</td>\n",
              "      <td>NaN</td>\n",
              "      <td>NaN</td>\n",
              "      <td>NaN</td>\n",
              "      <td>NaN</td>\n",
              "      <td>...</td>\n",
              "      <td>NaN</td>\n",
              "      <td>NaN</td>\n",
              "      <td>SVM</td>\n",
              "      <td>NaN</td>\n",
              "      <td>NaN</td>\n",
              "      <td>NaN</td>\n",
              "      <td>NaN</td>\n",
              "      <td>NaN</td>\n",
              "      <td>NaN</td>\n",
              "      <td>COMPLETE</td>\n",
              "    </tr>\n",
              "    <tr>\n",
              "      <th>18</th>\n",
              "      <td>18</td>\n",
              "      <td>3.057125</td>\n",
              "      <td>2025-03-21 16:48:58.542669</td>\n",
              "      <td>2025-03-21 16:52:11.789070</td>\n",
              "      <td>0 days 00:03:13.246401</td>\n",
              "      <td>NaN</td>\n",
              "      <td>NaN</td>\n",
              "      <td>NaN</td>\n",
              "      <td>NaN</td>\n",
              "      <td>NaN</td>\n",
              "      <td>...</td>\n",
              "      <td>NaN</td>\n",
              "      <td>NaN</td>\n",
              "      <td>LGBM</td>\n",
              "      <td>NaN</td>\n",
              "      <td>165.0</td>\n",
              "      <td>NaN</td>\n",
              "      <td>NaN</td>\n",
              "      <td>NaN</td>\n",
              "      <td>NaN</td>\n",
              "      <td>COMPLETE</td>\n",
              "    </tr>\n",
              "    <tr>\n",
              "      <th>19</th>\n",
              "      <td>19</td>\n",
              "      <td>3.117837</td>\n",
              "      <td>2025-03-21 16:50:53.015284</td>\n",
              "      <td>2025-03-21 16:54:10.097025</td>\n",
              "      <td>0 days 00:03:17.081741</td>\n",
              "      <td>NaN</td>\n",
              "      <td>NaN</td>\n",
              "      <td>NaN</td>\n",
              "      <td>NaN</td>\n",
              "      <td>NaN</td>\n",
              "      <td>...</td>\n",
              "      <td>NaN</td>\n",
              "      <td>NaN</td>\n",
              "      <td>LGBM</td>\n",
              "      <td>NaN</td>\n",
              "      <td>198.0</td>\n",
              "      <td>NaN</td>\n",
              "      <td>NaN</td>\n",
              "      <td>NaN</td>\n",
              "      <td>NaN</td>\n",
              "      <td>COMPLETE</td>\n",
              "    </tr>\n",
              "    <tr>\n",
              "      <th>20</th>\n",
              "      <td>20</td>\n",
              "      <td>3.104883</td>\n",
              "      <td>2025-03-21 16:51:03.082351</td>\n",
              "      <td>2025-03-21 16:54:03.920600</td>\n",
              "      <td>0 days 00:03:00.838249</td>\n",
              "      <td>NaN</td>\n",
              "      <td>NaN</td>\n",
              "      <td>NaN</td>\n",
              "      <td>NaN</td>\n",
              "      <td>NaN</td>\n",
              "      <td>...</td>\n",
              "      <td>NaN</td>\n",
              "      <td>NaN</td>\n",
              "      <td>LGBM</td>\n",
              "      <td>NaN</td>\n",
              "      <td>180.0</td>\n",
              "      <td>NaN</td>\n",
              "      <td>NaN</td>\n",
              "      <td>NaN</td>\n",
              "      <td>NaN</td>\n",
              "      <td>COMPLETE</td>\n",
              "    </tr>\n",
              "    <tr>\n",
              "      <th>21</th>\n",
              "      <td>21</td>\n",
              "      <td>3.720712</td>\n",
              "      <td>2025-03-21 16:52:09.552248</td>\n",
              "      <td>2025-03-21 16:52:40.515244</td>\n",
              "      <td>0 days 00:00:30.962996</td>\n",
              "      <td>NaN</td>\n",
              "      <td>NaN</td>\n",
              "      <td>NaN</td>\n",
              "      <td>NaN</td>\n",
              "      <td>NaN</td>\n",
              "      <td>...</td>\n",
              "      <td>NaN</td>\n",
              "      <td>NaN</td>\n",
              "      <td>LGBM</td>\n",
              "      <td>NaN</td>\n",
              "      <td>199.0</td>\n",
              "      <td>NaN</td>\n",
              "      <td>NaN</td>\n",
              "      <td>NaN</td>\n",
              "      <td>NaN</td>\n",
              "      <td>COMPLETE</td>\n",
              "    </tr>\n",
              "    <tr>\n",
              "      <th>22</th>\n",
              "      <td>22</td>\n",
              "      <td>3.832696</td>\n",
              "      <td>2025-03-21 16:52:11.793893</td>\n",
              "      <td>2025-03-21 16:52:17.325578</td>\n",
              "      <td>0 days 00:00:05.531685</td>\n",
              "      <td>NaN</td>\n",
              "      <td>NaN</td>\n",
              "      <td>NaN</td>\n",
              "      <td>NaN</td>\n",
              "      <td>NaN</td>\n",
              "      <td>...</td>\n",
              "      <td>NaN</td>\n",
              "      <td>NaN</td>\n",
              "      <td>LGBM</td>\n",
              "      <td>NaN</td>\n",
              "      <td>14.0</td>\n",
              "      <td>NaN</td>\n",
              "      <td>NaN</td>\n",
              "      <td>NaN</td>\n",
              "      <td>NaN</td>\n",
              "      <td>COMPLETE</td>\n",
              "    </tr>\n",
              "    <tr>\n",
              "      <th>23</th>\n",
              "      <td>23</td>\n",
              "      <td>4.725955</td>\n",
              "      <td>2025-03-21 16:52:17.330110</td>\n",
              "      <td>2025-03-21 17:09:26.921531</td>\n",
              "      <td>0 days 00:17:09.591421</td>\n",
              "      <td>4.383458</td>\n",
              "      <td>NaN</td>\n",
              "      <td>NaN</td>\n",
              "      <td>NaN</td>\n",
              "      <td>NaN</td>\n",
              "      <td>...</td>\n",
              "      <td>NaN</td>\n",
              "      <td>NaN</td>\n",
              "      <td>SVM</td>\n",
              "      <td>NaN</td>\n",
              "      <td>NaN</td>\n",
              "      <td>NaN</td>\n",
              "      <td>NaN</td>\n",
              "      <td>NaN</td>\n",
              "      <td>NaN</td>\n",
              "      <td>COMPLETE</td>\n",
              "    </tr>\n",
              "    <tr>\n",
              "      <th>24</th>\n",
              "      <td>24</td>\n",
              "      <td>3.596340</td>\n",
              "      <td>2025-03-21 16:52:40.520783</td>\n",
              "      <td>2025-03-21 16:52:56.239446</td>\n",
              "      <td>0 days 00:00:15.718663</td>\n",
              "      <td>NaN</td>\n",
              "      <td>NaN</td>\n",
              "      <td>NaN</td>\n",
              "      <td>NaN</td>\n",
              "      <td>NaN</td>\n",
              "      <td>...</td>\n",
              "      <td>NaN</td>\n",
              "      <td>NaN</td>\n",
              "      <td>GB</td>\n",
              "      <td>190.0</td>\n",
              "      <td>NaN</td>\n",
              "      <td>NaN</td>\n",
              "      <td>NaN</td>\n",
              "      <td>NaN</td>\n",
              "      <td>NaN</td>\n",
              "      <td>COMPLETE</td>\n",
              "    </tr>\n",
              "    <tr>\n",
              "      <th>25</th>\n",
              "      <td>25</td>\n",
              "      <td>5.471700</td>\n",
              "      <td>2025-03-21 16:52:56.245578</td>\n",
              "      <td>2025-03-21 16:53:01.245283</td>\n",
              "      <td>0 days 00:00:04.999705</td>\n",
              "      <td>NaN</td>\n",
              "      <td>NaN</td>\n",
              "      <td>NaN</td>\n",
              "      <td>NaN</td>\n",
              "      <td>NaN</td>\n",
              "      <td>...</td>\n",
              "      <td>NaN</td>\n",
              "      <td>2.0</td>\n",
              "      <td>XGB</td>\n",
              "      <td>NaN</td>\n",
              "      <td>NaN</td>\n",
              "      <td>NaN</td>\n",
              "      <td>12.0</td>\n",
              "      <td>NaN</td>\n",
              "      <td>NaN</td>\n",
              "      <td>COMPLETE</td>\n",
              "    </tr>\n",
              "    <tr>\n",
              "      <th>26</th>\n",
              "      <td>26</td>\n",
              "      <td>4.725965</td>\n",
              "      <td>2025-03-21 16:53:01.250823</td>\n",
              "      <td>2025-03-21 17:02:08.339149</td>\n",
              "      <td>0 days 00:09:07.088326</td>\n",
              "      <td>1.106016</td>\n",
              "      <td>NaN</td>\n",
              "      <td>NaN</td>\n",
              "      <td>NaN</td>\n",
              "      <td>NaN</td>\n",
              "      <td>...</td>\n",
              "      <td>NaN</td>\n",
              "      <td>NaN</td>\n",
              "      <td>SVM</td>\n",
              "      <td>NaN</td>\n",
              "      <td>NaN</td>\n",
              "      <td>NaN</td>\n",
              "      <td>NaN</td>\n",
              "      <td>NaN</td>\n",
              "      <td>NaN</td>\n",
              "      <td>COMPLETE</td>\n",
              "    </tr>\n",
              "    <tr>\n",
              "      <th>27</th>\n",
              "      <td>27</td>\n",
              "      <td>5.102374</td>\n",
              "      <td>2025-03-21 16:54:03.927131</td>\n",
              "      <td>2025-03-21 17:22:51.188926</td>\n",
              "      <td>0 days 00:28:47.261795</td>\n",
              "      <td>NaN</td>\n",
              "      <td>NaN</td>\n",
              "      <td>21.848131</td>\n",
              "      <td>NaN</td>\n",
              "      <td>1.70590</td>\n",
              "      <td>...</td>\n",
              "      <td>NaN</td>\n",
              "      <td>NaN</td>\n",
              "      <td>SVM</td>\n",
              "      <td>NaN</td>\n",
              "      <td>NaN</td>\n",
              "      <td>NaN</td>\n",
              "      <td>NaN</td>\n",
              "      <td>NaN</td>\n",
              "      <td>NaN</td>\n",
              "      <td>COMPLETE</td>\n",
              "    </tr>\n",
              "    <tr>\n",
              "      <th>28</th>\n",
              "      <td>28</td>\n",
              "      <td>4.887900</td>\n",
              "      <td>2025-03-21 16:54:10.104039</td>\n",
              "      <td>2025-03-21 17:25:18.417612</td>\n",
              "      <td>0 days 00:31:08.313573</td>\n",
              "      <td>NaN</td>\n",
              "      <td>NaN</td>\n",
              "      <td>39.602461</td>\n",
              "      <td>NaN</td>\n",
              "      <td>1.38482</td>\n",
              "      <td>...</td>\n",
              "      <td>NaN</td>\n",
              "      <td>NaN</td>\n",
              "      <td>SVM</td>\n",
              "      <td>NaN</td>\n",
              "      <td>NaN</td>\n",
              "      <td>NaN</td>\n",
              "      <td>NaN</td>\n",
              "      <td>NaN</td>\n",
              "      <td>NaN</td>\n",
              "      <td>COMPLETE</td>\n",
              "    </tr>\n",
              "    <tr>\n",
              "      <th>29</th>\n",
              "      <td>29</td>\n",
              "      <td>3.097894</td>\n",
              "      <td>2025-03-21 17:02:08.347216</td>\n",
              "      <td>2025-03-21 17:04:33.736050</td>\n",
              "      <td>0 days 00:02:25.388834</td>\n",
              "      <td>NaN</td>\n",
              "      <td>NaN</td>\n",
              "      <td>NaN</td>\n",
              "      <td>NaN</td>\n",
              "      <td>NaN</td>\n",
              "      <td>...</td>\n",
              "      <td>NaN</td>\n",
              "      <td>NaN</td>\n",
              "      <td>LGBM</td>\n",
              "      <td>NaN</td>\n",
              "      <td>121.0</td>\n",
              "      <td>NaN</td>\n",
              "      <td>NaN</td>\n",
              "      <td>NaN</td>\n",
              "      <td>NaN</td>\n",
              "      <td>COMPLETE</td>\n",
              "    </tr>\n",
              "  </tbody>\n",
              "</table>\n",
              "<p>30 rows × 26 columns</p>\n",
              "</div>"
            ],
            "text/plain": [
              "    number     value             datetime_start          datetime_complete  \\\n",
              "0        0  4.314619 2025-03-21 16:47:55.540386 2025-03-21 16:48:06.357236   \n",
              "1        1  3.100002 2025-03-21 16:47:55.540386 2025-03-21 16:48:10.515469   \n",
              "2        2  3.341981 2025-03-21 16:47:55.545989 2025-03-21 16:48:40.507775   \n",
              "3        3  4.349451 2025-03-21 16:47:55.545989 2025-03-21 16:48:19.498495   \n",
              "4        4  3.647419 2025-03-21 16:47:55.545989 2025-03-21 16:48:48.576615   \n",
              "5        5  3.070900 2025-03-21 16:47:55.547997 2025-03-21 16:48:36.497999   \n",
              "6        6  4.410268 2025-03-21 16:47:55.550020 2025-03-21 16:48:20.504107   \n",
              "7        7  3.077418 2025-03-21 16:47:55.551785 2025-03-21 16:48:38.552368   \n",
              "8        8  4.725846 2025-03-21 16:48:06.361245 2025-03-21 16:51:03.078350   \n",
              "9        9  3.109925 2025-03-21 16:48:10.519015 2025-03-21 16:48:45.526758   \n",
              "10      10  4.726000 2025-03-21 16:48:19.501499 2025-03-21 17:15:38.939650   \n",
              "11      11  4.365334 2025-03-21 16:48:20.507140 2025-03-21 16:48:52.510803   \n",
              "12      12  3.090490 2025-03-21 16:48:36.500995 2025-03-21 16:48:58.538403   \n",
              "13      13  4.725940 2025-03-21 16:48:38.555261 2025-03-21 17:16:53.859044   \n",
              "14      14  3.729721 2025-03-21 16:48:40.510784 2025-03-21 17:33:33.306697   \n",
              "15      15  3.121629 2025-03-21 16:48:45.530770 2025-03-21 16:52:09.548200   \n",
              "16      16  3.093052 2025-03-21 16:48:48.581769 2025-03-21 16:50:53.008506   \n",
              "17      17  4.725949 2025-03-21 16:48:52.515317 2025-03-21 17:12:46.496009   \n",
              "18      18  3.057125 2025-03-21 16:48:58.542669 2025-03-21 16:52:11.789070   \n",
              "19      19  3.117837 2025-03-21 16:50:53.015284 2025-03-21 16:54:10.097025   \n",
              "20      20  3.104883 2025-03-21 16:51:03.082351 2025-03-21 16:54:03.920600   \n",
              "21      21  3.720712 2025-03-21 16:52:09.552248 2025-03-21 16:52:40.515244   \n",
              "22      22  3.832696 2025-03-21 16:52:11.793893 2025-03-21 16:52:17.325578   \n",
              "23      23  4.725955 2025-03-21 16:52:17.330110 2025-03-21 17:09:26.921531   \n",
              "24      24  3.596340 2025-03-21 16:52:40.520783 2025-03-21 16:52:56.239446   \n",
              "25      25  5.471700 2025-03-21 16:52:56.245578 2025-03-21 16:53:01.245283   \n",
              "26      26  4.725965 2025-03-21 16:53:01.250823 2025-03-21 17:02:08.339149   \n",
              "27      27  5.102374 2025-03-21 16:54:03.927131 2025-03-21 17:22:51.188926   \n",
              "28      28  4.887900 2025-03-21 16:54:10.104039 2025-03-21 17:25:18.417612   \n",
              "29      29  3.097894 2025-03-21 17:02:08.347216 2025-03-21 17:04:33.736050   \n",
              "\n",
              "                 duration  params_c_linear  params_c_poly  params_c_rbf  \\\n",
              "0  0 days 00:00:10.816850              NaN            NaN           NaN   \n",
              "1  0 days 00:00:14.975083              NaN            NaN           NaN   \n",
              "2  0 days 00:00:44.961786              NaN            NaN           NaN   \n",
              "3  0 days 00:00:23.952506              NaN            NaN           NaN   \n",
              "4  0 days 00:00:53.030626              NaN            NaN           NaN   \n",
              "5  0 days 00:00:40.950002              NaN            NaN           NaN   \n",
              "6  0 days 00:00:24.954087              NaN            NaN           NaN   \n",
              "7  0 days 00:00:43.000583              NaN            NaN           NaN   \n",
              "8  0 days 00:02:56.717105              NaN       4.091417           NaN   \n",
              "9  0 days 00:00:35.007743              NaN            NaN           NaN   \n",
              "10 0 days 00:27:19.438151         8.183893            NaN           NaN   \n",
              "11 0 days 00:00:32.003663              NaN            NaN           NaN   \n",
              "12 0 days 00:00:22.037408              NaN            NaN           NaN   \n",
              "13 0 days 00:28:15.303783         8.430221            NaN           NaN   \n",
              "14 0 days 00:44:52.795913              NaN       3.770695           NaN   \n",
              "15 0 days 00:03:24.017430              NaN            NaN           NaN   \n",
              "16 0 days 00:02:04.426737              NaN            NaN           NaN   \n",
              "17 0 days 00:23:53.980692         6.166447            NaN           NaN   \n",
              "18 0 days 00:03:13.246401              NaN            NaN           NaN   \n",
              "19 0 days 00:03:17.081741              NaN            NaN           NaN   \n",
              "20 0 days 00:03:00.838249              NaN            NaN           NaN   \n",
              "21 0 days 00:00:30.962996              NaN            NaN           NaN   \n",
              "22 0 days 00:00:05.531685              NaN            NaN           NaN   \n",
              "23 0 days 00:17:09.591421         4.383458            NaN           NaN   \n",
              "24 0 days 00:00:15.718663              NaN            NaN           NaN   \n",
              "25 0 days 00:00:04.999705              NaN            NaN           NaN   \n",
              "26 0 days 00:09:07.088326         1.106016            NaN           NaN   \n",
              "27 0 days 00:28:47.261795              NaN            NaN     21.848131   \n",
              "28 0 days 00:31:08.313573              NaN            NaN     39.602461   \n",
              "29 0 days 00:02:25.388834              NaN            NaN           NaN   \n",
              "\n",
              "    params_degree_poly  params_gamma_rbf  ... params_max_depth_rf  \\\n",
              "0                  NaN               NaN  ...                 NaN   \n",
              "1                  NaN               NaN  ...                16.0   \n",
              "2                  NaN               NaN  ...                 NaN   \n",
              "3                  NaN               NaN  ...                 NaN   \n",
              "4                  NaN               NaN  ...                 NaN   \n",
              "5                  NaN               NaN  ...                 NaN   \n",
              "6                  NaN               NaN  ...                 NaN   \n",
              "7                  NaN               NaN  ...                 NaN   \n",
              "8                  1.0               NaN  ...                 NaN   \n",
              "9                  NaN               NaN  ...                 NaN   \n",
              "10                 NaN               NaN  ...                 NaN   \n",
              "11                 NaN               NaN  ...                 NaN   \n",
              "12                 NaN               NaN  ...                15.0   \n",
              "13                 NaN               NaN  ...                 NaN   \n",
              "14                 4.0               NaN  ...                 NaN   \n",
              "15                 NaN               NaN  ...                 NaN   \n",
              "16                 NaN               NaN  ...                 NaN   \n",
              "17                 NaN               NaN  ...                 NaN   \n",
              "18                 NaN               NaN  ...                 NaN   \n",
              "19                 NaN               NaN  ...                 NaN   \n",
              "20                 NaN               NaN  ...                 NaN   \n",
              "21                 NaN               NaN  ...                 NaN   \n",
              "22                 NaN               NaN  ...                 NaN   \n",
              "23                 NaN               NaN  ...                 NaN   \n",
              "24                 NaN               NaN  ...                 NaN   \n",
              "25                 NaN               NaN  ...                 NaN   \n",
              "26                 NaN               NaN  ...                 NaN   \n",
              "27                 NaN           1.70590  ...                 NaN   \n",
              "28                 NaN           1.38482  ...                 NaN   \n",
              "29                 NaN               NaN  ...                 NaN   \n",
              "\n",
              "    params_max_depth_xgb  params_model  params_n_estimators_gb  \\\n",
              "0                    NaN           KNN                     NaN   \n",
              "1                    NaN            RF                     NaN   \n",
              "2                   17.0           XGB                     NaN   \n",
              "3                    NaN           KNN                     NaN   \n",
              "4                    NaN            GB                    49.0   \n",
              "5                    NaN          LGBM                     NaN   \n",
              "6                    NaN           KNN                     NaN   \n",
              "7                    NaN          LGBM                     NaN   \n",
              "8                    NaN           SVM                     NaN   \n",
              "9                    NaN          LGBM                     NaN   \n",
              "10                   NaN           SVM                     NaN   \n",
              "11                   NaN           KNN                     NaN   \n",
              "12                   NaN            RF                     NaN   \n",
              "13                   NaN           SVM                     NaN   \n",
              "14                   NaN           SVM                     NaN   \n",
              "15                   NaN          LGBM                     NaN   \n",
              "16                   NaN          LGBM                     NaN   \n",
              "17                   NaN           SVM                     NaN   \n",
              "18                   NaN          LGBM                     NaN   \n",
              "19                   NaN          LGBM                     NaN   \n",
              "20                   NaN          LGBM                     NaN   \n",
              "21                   NaN          LGBM                     NaN   \n",
              "22                   NaN          LGBM                     NaN   \n",
              "23                   NaN           SVM                     NaN   \n",
              "24                   NaN            GB                   190.0   \n",
              "25                   2.0           XGB                     NaN   \n",
              "26                   NaN           SVM                     NaN   \n",
              "27                   NaN           SVM                     NaN   \n",
              "28                   NaN           SVM                     NaN   \n",
              "29                   NaN          LGBM                     NaN   \n",
              "\n",
              "    params_n_estimators_lgbm  params_n_estimators_rf  params_n_estimators_xgb  \\\n",
              "0                        NaN                     NaN                      NaN   \n",
              "1                        NaN                   103.0                      NaN   \n",
              "2                        NaN                     NaN                    109.0   \n",
              "3                        NaN                     NaN                      NaN   \n",
              "4                        NaN                     NaN                      NaN   \n",
              "5                      106.0                     NaN                      NaN   \n",
              "6                        NaN                     NaN                      NaN   \n",
              "7                      161.0                     NaN                      NaN   \n",
              "8                        NaN                     NaN                      NaN   \n",
              "9                      129.0                     NaN                      NaN   \n",
              "10                       NaN                     NaN                      NaN   \n",
              "11                       NaN                     NaN                      NaN   \n",
              "12                       NaN                   194.0                      NaN   \n",
              "13                       NaN                     NaN                      NaN   \n",
              "14                       NaN                     NaN                      NaN   \n",
              "15                     170.0                     NaN                      NaN   \n",
              "16                      71.0                     NaN                      NaN   \n",
              "17                       NaN                     NaN                      NaN   \n",
              "18                     165.0                     NaN                      NaN   \n",
              "19                     198.0                     NaN                      NaN   \n",
              "20                     180.0                     NaN                      NaN   \n",
              "21                     199.0                     NaN                      NaN   \n",
              "22                      14.0                     NaN                      NaN   \n",
              "23                       NaN                     NaN                      NaN   \n",
              "24                       NaN                     NaN                      NaN   \n",
              "25                       NaN                     NaN                     12.0   \n",
              "26                       NaN                     NaN                      NaN   \n",
              "27                       NaN                     NaN                      NaN   \n",
              "28                       NaN                     NaN                      NaN   \n",
              "29                     121.0                     NaN                      NaN   \n",
              "\n",
              "    params_n_neighbors_knn params_weights_knn     state  \n",
              "0                     21.0           distance  COMPLETE  \n",
              "1                      NaN                NaN  COMPLETE  \n",
              "2                      NaN                NaN  COMPLETE  \n",
              "3                     11.0            uniform  COMPLETE  \n",
              "4                      NaN                NaN  COMPLETE  \n",
              "5                      NaN                NaN  COMPLETE  \n",
              "6                      5.0           distance  COMPLETE  \n",
              "7                      NaN                NaN  COMPLETE  \n",
              "8                      NaN                NaN  COMPLETE  \n",
              "9                      NaN                NaN  COMPLETE  \n",
              "10                     NaN                NaN  COMPLETE  \n",
              "11                     8.0            uniform  COMPLETE  \n",
              "12                     NaN                NaN  COMPLETE  \n",
              "13                     NaN                NaN  COMPLETE  \n",
              "14                     NaN                NaN  COMPLETE  \n",
              "15                     NaN                NaN  COMPLETE  \n",
              "16                     NaN                NaN  COMPLETE  \n",
              "17                     NaN                NaN  COMPLETE  \n",
              "18                     NaN                NaN  COMPLETE  \n",
              "19                     NaN                NaN  COMPLETE  \n",
              "20                     NaN                NaN  COMPLETE  \n",
              "21                     NaN                NaN  COMPLETE  \n",
              "22                     NaN                NaN  COMPLETE  \n",
              "23                     NaN                NaN  COMPLETE  \n",
              "24                     NaN                NaN  COMPLETE  \n",
              "25                     NaN                NaN  COMPLETE  \n",
              "26                     NaN                NaN  COMPLETE  \n",
              "27                     NaN                NaN  COMPLETE  \n",
              "28                     NaN                NaN  COMPLETE  \n",
              "29                     NaN                NaN  COMPLETE  \n",
              "\n",
              "[30 rows x 26 columns]"
            ]
          },
          "execution_count": 44,
          "metadata": {},
          "output_type": "execute_result"
        }
      ],
      "source": [
        "# dataframe of results\n",
        "\n",
        "study.trials_dataframe()"
      ]
    },
    {
      "cell_type": "code",
      "execution_count": 45,
      "metadata": {
        "colab": {
          "base_uri": "https://localhost:8080/",
          "height": 304
        },
        "id": "aGVSVjrVjtPd",
        "outputId": "f9af40c4-3d9a-4daf-a2ae-c7f2a6f7b623"
      },
      "outputs": [
        {
          "data": {
            "text/plain": [
              "params_model\n",
              "LGBM    11\n",
              "SVM      9\n",
              "KNN      4\n",
              "RF       2\n",
              "XGB      2\n",
              "GB       2\n",
              "Name: count, dtype: int64"
            ]
          },
          "execution_count": 45,
          "metadata": {},
          "output_type": "execute_result"
        }
      ],
      "source": [
        "# model frequency\n",
        "\n",
        "study.trials_dataframe()['params_model'].value_counts()"
      ]
    },
    {
      "cell_type": "code",
      "execution_count": 46,
      "metadata": {
        "colab": {
          "base_uri": "https://localhost:8080/",
          "height": 304
        },
        "id": "KPRu7okBjc55",
        "outputId": "bfcd6c9e-e538-41a0-f1de-54a2c9aec8e0"
      },
      "outputs": [
        {
          "data": {
            "text/plain": [
              "params_model\n",
              "RF      3.095246\n",
              "LGBM    3.218552\n",
              "GB      3.621879\n",
              "KNN     4.359918\n",
              "XGB     4.406841\n",
              "SVM     4.675072\n",
              "Name: value, dtype: float64"
            ]
          },
          "execution_count": 46,
          "metadata": {},
          "output_type": "execute_result"
        }
      ],
      "source": [
        "# avg scores for all tested models\n",
        "\n",
        "study.trials_dataframe().groupby(\"params_model\")['value'].mean().sort_values()"
      ]
    },
    {
      "cell_type": "code",
      "execution_count": 47,
      "metadata": {
        "id": "koJGzQrTzHiI"
      },
      "outputs": [],
      "source": [
        "from sklearn.compose import TransformedTargetRegressor\n",
        "\n",
        "model = TransformedTargetRegressor(regressor=lgbm,\n",
        "                                    transformer=pt)"
      ]
    },
    {
      "cell_type": "code",
      "execution_count": 48,
      "metadata": {
        "colab": {
          "base_uri": "https://localhost:8080/"
        },
        "id": "VJHdqxQyq_sG",
        "outputId": "dc339481-c4f6-418d-b043-304a4a47599a"
      },
      "outputs": [
        {
          "data": {
            "text/plain": [
              "array([-2.99107624, -3.05193986, -3.10122328, -3.06774387, -3.03725887])"
            ]
          },
          "execution_count": 48,
          "metadata": {},
          "output_type": "execute_result"
        }
      ],
      "source": [
        "from sklearn.model_selection import cross_val_score\n",
        "\n",
        "scores = cross_val_score(model,\n",
        "                         X_train_trans,\n",
        "                         y_train,\n",
        "                         scoring=\"neg_mean_absolute_error\",\n",
        "                         cv=5,n_jobs=-1)\n",
        "\n",
        "scores"
      ]
    },
    {
      "cell_type": "code",
      "execution_count": 49,
      "metadata": {
        "colab": {
          "base_uri": "https://localhost:8080/"
        },
        "id": "wjN_ItGuuwoY",
        "outputId": "3059bbad-c969-4934-9280-85f5914e6b16"
      },
      "outputs": [
        {
          "data": {
            "text/plain": [
              "3.0498484235644714"
            ]
          },
          "execution_count": 49,
          "metadata": {},
          "output_type": "execute_result"
        }
      ],
      "source": [
        "# mean score\n",
        "\n",
        "- scores.mean()"
      ]
    },
    {
      "cell_type": "code",
      "execution_count": 50,
      "metadata": {
        "colab": {
          "base_uri": "https://localhost:8080/",
          "height": 542
        },
        "id": "XGuyq81b7GI4",
        "outputId": "edb729f4-bf29-41ad-d721-2c617015007b"
      },
      "outputs": [
        {
          "data": {
            "application/vnd.plotly.v1+json": {
              "config": {
                "plotlyServerURL": "https://plot.ly"
              },
              "data": [
                {
                  "mode": "markers",
                  "name": "Objective Value",
                  "type": "scatter",
                  "x": [
                    0,
                    1,
                    2,
                    3,
                    4,
                    5,
                    6,
                    7,
                    8,
                    9,
                    10,
                    11,
                    12,
                    13,
                    14,
                    15,
                    16,
                    17,
                    18,
                    19,
                    20,
                    21,
                    22,
                    23,
                    24,
                    25,
                    26,
                    27,
                    28,
                    29
                  ],
                  "y": [
                    4.314618875818571,
                    3.100002225392994,
                    3.341980821526068,
                    4.349450868118368,
                    3.6474193452844985,
                    3.070899959976105,
                    4.4102676491290005,
                    3.0774184016330803,
                    4.725846109374858,
                    3.109925087295712,
                    4.725999914671243,
                    4.365333771537043,
                    3.0904900896570253,
                    4.725940111942417,
                    3.729720725203183,
                    3.121628892771731,
                    3.0930523261680616,
                    4.725948999396995,
                    3.057125471906443,
                    3.117837105115405,
                    3.1048827172561584,
                    3.720712440294781,
                    3.83269559570417,
                    4.7259547747332915,
                    3.596339622499629,
                    5.471700393494366,
                    4.725964758532641,
                    5.102373748719777,
                    4.887899714706806,
                    3.097893803461363
                  ]
                },
                {
                  "mode": "lines",
                  "name": "Best Value",
                  "type": "scatter",
                  "x": [
                    0,
                    1,
                    2,
                    3,
                    4,
                    5,
                    6,
                    7,
                    8,
                    9,
                    10,
                    11,
                    12,
                    13,
                    14,
                    15,
                    16,
                    17,
                    18,
                    19,
                    20,
                    21,
                    22,
                    23,
                    24,
                    25,
                    26,
                    27,
                    28,
                    29
                  ],
                  "y": [
                    4.314618875818571,
                    3.100002225392994,
                    3.100002225392994,
                    3.100002225392994,
                    3.100002225392994,
                    3.070899959976105,
                    3.070899959976105,
                    3.070899959976105,
                    3.070899959976105,
                    3.070899959976105,
                    3.070899959976105,
                    3.070899959976105,
                    3.070899959976105,
                    3.070899959976105,
                    3.070899959976105,
                    3.070899959976105,
                    3.070899959976105,
                    3.070899959976105,
                    3.057125471906443,
                    3.057125471906443,
                    3.057125471906443,
                    3.057125471906443,
                    3.057125471906443,
                    3.057125471906443,
                    3.057125471906443,
                    3.057125471906443,
                    3.057125471906443,
                    3.057125471906443,
                    3.057125471906443,
                    3.057125471906443
                  ]
                },
                {
                  "marker": {
                    "color": "#cccccc"
                  },
                  "mode": "markers",
                  "name": "Infeasible Trial",
                  "showlegend": false,
                  "type": "scatter",
                  "x": [],
                  "y": []
                }
              ],
              "layout": {
                "template": {
                  "data": {
                    "bar": [
                      {
                        "error_x": {
                          "color": "#2a3f5f"
                        },
                        "error_y": {
                          "color": "#2a3f5f"
                        },
                        "marker": {
                          "line": {
                            "color": "#E5ECF6",
                            "width": 0.5
                          },
                          "pattern": {
                            "fillmode": "overlay",
                            "size": 10,
                            "solidity": 0.2
                          }
                        },
                        "type": "bar"
                      }
                    ],
                    "barpolar": [
                      {
                        "marker": {
                          "line": {
                            "color": "#E5ECF6",
                            "width": 0.5
                          },
                          "pattern": {
                            "fillmode": "overlay",
                            "size": 10,
                            "solidity": 0.2
                          }
                        },
                        "type": "barpolar"
                      }
                    ],
                    "carpet": [
                      {
                        "aaxis": {
                          "endlinecolor": "#2a3f5f",
                          "gridcolor": "white",
                          "linecolor": "white",
                          "minorgridcolor": "white",
                          "startlinecolor": "#2a3f5f"
                        },
                        "baxis": {
                          "endlinecolor": "#2a3f5f",
                          "gridcolor": "white",
                          "linecolor": "white",
                          "minorgridcolor": "white",
                          "startlinecolor": "#2a3f5f"
                        },
                        "type": "carpet"
                      }
                    ],
                    "choropleth": [
                      {
                        "colorbar": {
                          "outlinewidth": 0,
                          "ticks": ""
                        },
                        "type": "choropleth"
                      }
                    ],
                    "contour": [
                      {
                        "colorbar": {
                          "outlinewidth": 0,
                          "ticks": ""
                        },
                        "colorscale": [
                          [
                            0,
                            "#0d0887"
                          ],
                          [
                            0.1111111111111111,
                            "#46039f"
                          ],
                          [
                            0.2222222222222222,
                            "#7201a8"
                          ],
                          [
                            0.3333333333333333,
                            "#9c179e"
                          ],
                          [
                            0.4444444444444444,
                            "#bd3786"
                          ],
                          [
                            0.5555555555555556,
                            "#d8576b"
                          ],
                          [
                            0.6666666666666666,
                            "#ed7953"
                          ],
                          [
                            0.7777777777777778,
                            "#fb9f3a"
                          ],
                          [
                            0.8888888888888888,
                            "#fdca26"
                          ],
                          [
                            1,
                            "#f0f921"
                          ]
                        ],
                        "type": "contour"
                      }
                    ],
                    "contourcarpet": [
                      {
                        "colorbar": {
                          "outlinewidth": 0,
                          "ticks": ""
                        },
                        "type": "contourcarpet"
                      }
                    ],
                    "heatmap": [
                      {
                        "colorbar": {
                          "outlinewidth": 0,
                          "ticks": ""
                        },
                        "colorscale": [
                          [
                            0,
                            "#0d0887"
                          ],
                          [
                            0.1111111111111111,
                            "#46039f"
                          ],
                          [
                            0.2222222222222222,
                            "#7201a8"
                          ],
                          [
                            0.3333333333333333,
                            "#9c179e"
                          ],
                          [
                            0.4444444444444444,
                            "#bd3786"
                          ],
                          [
                            0.5555555555555556,
                            "#d8576b"
                          ],
                          [
                            0.6666666666666666,
                            "#ed7953"
                          ],
                          [
                            0.7777777777777778,
                            "#fb9f3a"
                          ],
                          [
                            0.8888888888888888,
                            "#fdca26"
                          ],
                          [
                            1,
                            "#f0f921"
                          ]
                        ],
                        "type": "heatmap"
                      }
                    ],
                    "heatmapgl": [
                      {
                        "colorbar": {
                          "outlinewidth": 0,
                          "ticks": ""
                        },
                        "colorscale": [
                          [
                            0,
                            "#0d0887"
                          ],
                          [
                            0.1111111111111111,
                            "#46039f"
                          ],
                          [
                            0.2222222222222222,
                            "#7201a8"
                          ],
                          [
                            0.3333333333333333,
                            "#9c179e"
                          ],
                          [
                            0.4444444444444444,
                            "#bd3786"
                          ],
                          [
                            0.5555555555555556,
                            "#d8576b"
                          ],
                          [
                            0.6666666666666666,
                            "#ed7953"
                          ],
                          [
                            0.7777777777777778,
                            "#fb9f3a"
                          ],
                          [
                            0.8888888888888888,
                            "#fdca26"
                          ],
                          [
                            1,
                            "#f0f921"
                          ]
                        ],
                        "type": "heatmapgl"
                      }
                    ],
                    "histogram": [
                      {
                        "marker": {
                          "pattern": {
                            "fillmode": "overlay",
                            "size": 10,
                            "solidity": 0.2
                          }
                        },
                        "type": "histogram"
                      }
                    ],
                    "histogram2d": [
                      {
                        "colorbar": {
                          "outlinewidth": 0,
                          "ticks": ""
                        },
                        "colorscale": [
                          [
                            0,
                            "#0d0887"
                          ],
                          [
                            0.1111111111111111,
                            "#46039f"
                          ],
                          [
                            0.2222222222222222,
                            "#7201a8"
                          ],
                          [
                            0.3333333333333333,
                            "#9c179e"
                          ],
                          [
                            0.4444444444444444,
                            "#bd3786"
                          ],
                          [
                            0.5555555555555556,
                            "#d8576b"
                          ],
                          [
                            0.6666666666666666,
                            "#ed7953"
                          ],
                          [
                            0.7777777777777778,
                            "#fb9f3a"
                          ],
                          [
                            0.8888888888888888,
                            "#fdca26"
                          ],
                          [
                            1,
                            "#f0f921"
                          ]
                        ],
                        "type": "histogram2d"
                      }
                    ],
                    "histogram2dcontour": [
                      {
                        "colorbar": {
                          "outlinewidth": 0,
                          "ticks": ""
                        },
                        "colorscale": [
                          [
                            0,
                            "#0d0887"
                          ],
                          [
                            0.1111111111111111,
                            "#46039f"
                          ],
                          [
                            0.2222222222222222,
                            "#7201a8"
                          ],
                          [
                            0.3333333333333333,
                            "#9c179e"
                          ],
                          [
                            0.4444444444444444,
                            "#bd3786"
                          ],
                          [
                            0.5555555555555556,
                            "#d8576b"
                          ],
                          [
                            0.6666666666666666,
                            "#ed7953"
                          ],
                          [
                            0.7777777777777778,
                            "#fb9f3a"
                          ],
                          [
                            0.8888888888888888,
                            "#fdca26"
                          ],
                          [
                            1,
                            "#f0f921"
                          ]
                        ],
                        "type": "histogram2dcontour"
                      }
                    ],
                    "mesh3d": [
                      {
                        "colorbar": {
                          "outlinewidth": 0,
                          "ticks": ""
                        },
                        "type": "mesh3d"
                      }
                    ],
                    "parcoords": [
                      {
                        "line": {
                          "colorbar": {
                            "outlinewidth": 0,
                            "ticks": ""
                          }
                        },
                        "type": "parcoords"
                      }
                    ],
                    "pie": [
                      {
                        "automargin": true,
                        "type": "pie"
                      }
                    ],
                    "scatter": [
                      {
                        "fillpattern": {
                          "fillmode": "overlay",
                          "size": 10,
                          "solidity": 0.2
                        },
                        "type": "scatter"
                      }
                    ],
                    "scatter3d": [
                      {
                        "line": {
                          "colorbar": {
                            "outlinewidth": 0,
                            "ticks": ""
                          }
                        },
                        "marker": {
                          "colorbar": {
                            "outlinewidth": 0,
                            "ticks": ""
                          }
                        },
                        "type": "scatter3d"
                      }
                    ],
                    "scattercarpet": [
                      {
                        "marker": {
                          "colorbar": {
                            "outlinewidth": 0,
                            "ticks": ""
                          }
                        },
                        "type": "scattercarpet"
                      }
                    ],
                    "scattergeo": [
                      {
                        "marker": {
                          "colorbar": {
                            "outlinewidth": 0,
                            "ticks": ""
                          }
                        },
                        "type": "scattergeo"
                      }
                    ],
                    "scattergl": [
                      {
                        "marker": {
                          "colorbar": {
                            "outlinewidth": 0,
                            "ticks": ""
                          }
                        },
                        "type": "scattergl"
                      }
                    ],
                    "scattermapbox": [
                      {
                        "marker": {
                          "colorbar": {
                            "outlinewidth": 0,
                            "ticks": ""
                          }
                        },
                        "type": "scattermapbox"
                      }
                    ],
                    "scatterpolar": [
                      {
                        "marker": {
                          "colorbar": {
                            "outlinewidth": 0,
                            "ticks": ""
                          }
                        },
                        "type": "scatterpolar"
                      }
                    ],
                    "scatterpolargl": [
                      {
                        "marker": {
                          "colorbar": {
                            "outlinewidth": 0,
                            "ticks": ""
                          }
                        },
                        "type": "scatterpolargl"
                      }
                    ],
                    "scatterternary": [
                      {
                        "marker": {
                          "colorbar": {
                            "outlinewidth": 0,
                            "ticks": ""
                          }
                        },
                        "type": "scatterternary"
                      }
                    ],
                    "surface": [
                      {
                        "colorbar": {
                          "outlinewidth": 0,
                          "ticks": ""
                        },
                        "colorscale": [
                          [
                            0,
                            "#0d0887"
                          ],
                          [
                            0.1111111111111111,
                            "#46039f"
                          ],
                          [
                            0.2222222222222222,
                            "#7201a8"
                          ],
                          [
                            0.3333333333333333,
                            "#9c179e"
                          ],
                          [
                            0.4444444444444444,
                            "#bd3786"
                          ],
                          [
                            0.5555555555555556,
                            "#d8576b"
                          ],
                          [
                            0.6666666666666666,
                            "#ed7953"
                          ],
                          [
                            0.7777777777777778,
                            "#fb9f3a"
                          ],
                          [
                            0.8888888888888888,
                            "#fdca26"
                          ],
                          [
                            1,
                            "#f0f921"
                          ]
                        ],
                        "type": "surface"
                      }
                    ],
                    "table": [
                      {
                        "cells": {
                          "fill": {
                            "color": "#EBF0F8"
                          },
                          "line": {
                            "color": "white"
                          }
                        },
                        "header": {
                          "fill": {
                            "color": "#C8D4E3"
                          },
                          "line": {
                            "color": "white"
                          }
                        },
                        "type": "table"
                      }
                    ]
                  },
                  "layout": {
                    "annotationdefaults": {
                      "arrowcolor": "#2a3f5f",
                      "arrowhead": 0,
                      "arrowwidth": 1
                    },
                    "autotypenumbers": "strict",
                    "coloraxis": {
                      "colorbar": {
                        "outlinewidth": 0,
                        "ticks": ""
                      }
                    },
                    "colorscale": {
                      "diverging": [
                        [
                          0,
                          "#8e0152"
                        ],
                        [
                          0.1,
                          "#c51b7d"
                        ],
                        [
                          0.2,
                          "#de77ae"
                        ],
                        [
                          0.3,
                          "#f1b6da"
                        ],
                        [
                          0.4,
                          "#fde0ef"
                        ],
                        [
                          0.5,
                          "#f7f7f7"
                        ],
                        [
                          0.6,
                          "#e6f5d0"
                        ],
                        [
                          0.7,
                          "#b8e186"
                        ],
                        [
                          0.8,
                          "#7fbc41"
                        ],
                        [
                          0.9,
                          "#4d9221"
                        ],
                        [
                          1,
                          "#276419"
                        ]
                      ],
                      "sequential": [
                        [
                          0,
                          "#0d0887"
                        ],
                        [
                          0.1111111111111111,
                          "#46039f"
                        ],
                        [
                          0.2222222222222222,
                          "#7201a8"
                        ],
                        [
                          0.3333333333333333,
                          "#9c179e"
                        ],
                        [
                          0.4444444444444444,
                          "#bd3786"
                        ],
                        [
                          0.5555555555555556,
                          "#d8576b"
                        ],
                        [
                          0.6666666666666666,
                          "#ed7953"
                        ],
                        [
                          0.7777777777777778,
                          "#fb9f3a"
                        ],
                        [
                          0.8888888888888888,
                          "#fdca26"
                        ],
                        [
                          1,
                          "#f0f921"
                        ]
                      ],
                      "sequentialminus": [
                        [
                          0,
                          "#0d0887"
                        ],
                        [
                          0.1111111111111111,
                          "#46039f"
                        ],
                        [
                          0.2222222222222222,
                          "#7201a8"
                        ],
                        [
                          0.3333333333333333,
                          "#9c179e"
                        ],
                        [
                          0.4444444444444444,
                          "#bd3786"
                        ],
                        [
                          0.5555555555555556,
                          "#d8576b"
                        ],
                        [
                          0.6666666666666666,
                          "#ed7953"
                        ],
                        [
                          0.7777777777777778,
                          "#fb9f3a"
                        ],
                        [
                          0.8888888888888888,
                          "#fdca26"
                        ],
                        [
                          1,
                          "#f0f921"
                        ]
                      ]
                    },
                    "colorway": [
                      "#636efa",
                      "#EF553B",
                      "#00cc96",
                      "#ab63fa",
                      "#FFA15A",
                      "#19d3f3",
                      "#FF6692",
                      "#B6E880",
                      "#FF97FF",
                      "#FECB52"
                    ],
                    "font": {
                      "color": "#2a3f5f"
                    },
                    "geo": {
                      "bgcolor": "white",
                      "lakecolor": "white",
                      "landcolor": "#E5ECF6",
                      "showlakes": true,
                      "showland": true,
                      "subunitcolor": "white"
                    },
                    "hoverlabel": {
                      "align": "left"
                    },
                    "hovermode": "closest",
                    "mapbox": {
                      "style": "light"
                    },
                    "paper_bgcolor": "white",
                    "plot_bgcolor": "#E5ECF6",
                    "polar": {
                      "angularaxis": {
                        "gridcolor": "white",
                        "linecolor": "white",
                        "ticks": ""
                      },
                      "bgcolor": "#E5ECF6",
                      "radialaxis": {
                        "gridcolor": "white",
                        "linecolor": "white",
                        "ticks": ""
                      }
                    },
                    "scene": {
                      "xaxis": {
                        "backgroundcolor": "#E5ECF6",
                        "gridcolor": "white",
                        "gridwidth": 2,
                        "linecolor": "white",
                        "showbackground": true,
                        "ticks": "",
                        "zerolinecolor": "white"
                      },
                      "yaxis": {
                        "backgroundcolor": "#E5ECF6",
                        "gridcolor": "white",
                        "gridwidth": 2,
                        "linecolor": "white",
                        "showbackground": true,
                        "ticks": "",
                        "zerolinecolor": "white"
                      },
                      "zaxis": {
                        "backgroundcolor": "#E5ECF6",
                        "gridcolor": "white",
                        "gridwidth": 2,
                        "linecolor": "white",
                        "showbackground": true,
                        "ticks": "",
                        "zerolinecolor": "white"
                      }
                    },
                    "shapedefaults": {
                      "line": {
                        "color": "#2a3f5f"
                      }
                    },
                    "ternary": {
                      "aaxis": {
                        "gridcolor": "white",
                        "linecolor": "white",
                        "ticks": ""
                      },
                      "baxis": {
                        "gridcolor": "white",
                        "linecolor": "white",
                        "ticks": ""
                      },
                      "bgcolor": "#E5ECF6",
                      "caxis": {
                        "gridcolor": "white",
                        "linecolor": "white",
                        "ticks": ""
                      }
                    },
                    "title": {
                      "x": 0.05
                    },
                    "xaxis": {
                      "automargin": true,
                      "gridcolor": "white",
                      "linecolor": "white",
                      "ticks": "",
                      "title": {
                        "standoff": 15
                      },
                      "zerolinecolor": "white",
                      "zerolinewidth": 2
                    },
                    "yaxis": {
                      "automargin": true,
                      "gridcolor": "white",
                      "linecolor": "white",
                      "ticks": "",
                      "title": {
                        "standoff": 15
                      },
                      "zerolinecolor": "white",
                      "zerolinewidth": 2
                    }
                  }
                },
                "title": {
                  "text": "Optimization History Plot"
                },
                "xaxis": {
                  "title": {
                    "text": "Trial"
                  }
                },
                "yaxis": {
                  "title": {
                    "text": "Objective Value"
                  }
                }
              }
            }
          },
          "metadata": {},
          "output_type": "display_data"
        }
      ],
      "source": [
        "# optimization history plot\n",
        "\n",
        "optuna.visualization.plot_optimization_history(study)"
      ]
    },
    {
      "cell_type": "code",
      "execution_count": 51,
      "metadata": {
        "colab": {
          "base_uri": "https://localhost:8080/",
          "height": 542
        },
        "id": "_gQvs3z97S1G",
        "outputId": "13cd1cce-d7b2-4a5b-f446-38a8b738da35"
      },
      "outputs": [
        {
          "data": {
            "application/vnd.plotly.v1+json": {
              "config": {
                "plotlyServerURL": "https://plot.ly"
              },
              "data": [
                {
                  "dimensions": [
                    {
                      "label": "Objective Value",
                      "range": [
                        3.057125471906443,
                        5.471700393494366
                      ],
                      "values": [
                        4.314618875818571,
                        3.100002225392994,
                        3.341980821526068,
                        4.349450868118368,
                        3.6474193452844985,
                        3.070899959976105,
                        4.4102676491290005,
                        3.0774184016330803,
                        4.725846109374858,
                        3.109925087295712,
                        4.725999914671243,
                        4.365333771537043,
                        3.0904900896570253,
                        4.725940111942417,
                        3.729720725203183,
                        3.121628892771731,
                        3.0930523261680616,
                        4.725948999396995,
                        3.057125471906443,
                        3.117837105115405,
                        3.1048827172561584,
                        3.720712440294781,
                        3.83269559570417,
                        4.7259547747332915,
                        3.596339622499629,
                        5.471700393494366,
                        4.725964758532641,
                        5.102373748719777,
                        4.887899714706806,
                        3.097893803461363
                      ]
                    },
                    {
                      "label": "model",
                      "range": [
                        0,
                        5
                      ],
                      "ticktext": [
                        "KNN",
                        "RF",
                        "XGB",
                        "GB",
                        "LGBM",
                        "SVM"
                      ],
                      "tickvals": [
                        0,
                        1,
                        2,
                        3,
                        4,
                        5
                      ],
                      "values": [
                        0,
                        1,
                        2,
                        0,
                        3,
                        4,
                        0,
                        4,
                        5,
                        4,
                        5,
                        0,
                        1,
                        5,
                        5,
                        4,
                        4,
                        5,
                        4,
                        4,
                        4,
                        4,
                        4,
                        5,
                        3,
                        2,
                        5,
                        5,
                        5,
                        4
                      ]
                    }
                  ],
                  "labelangle": 30,
                  "labelside": "bottom",
                  "line": {
                    "color": [
                      4.314618875818571,
                      3.100002225392994,
                      3.341980821526068,
                      4.349450868118368,
                      3.6474193452844985,
                      3.070899959976105,
                      4.4102676491290005,
                      3.0774184016330803,
                      4.725846109374858,
                      3.109925087295712,
                      4.725999914671243,
                      4.365333771537043,
                      3.0904900896570253,
                      4.725940111942417,
                      3.729720725203183,
                      3.121628892771731,
                      3.0930523261680616,
                      4.725948999396995,
                      3.057125471906443,
                      3.117837105115405,
                      3.1048827172561584,
                      3.720712440294781,
                      3.83269559570417,
                      4.7259547747332915,
                      3.596339622499629,
                      5.471700393494366,
                      4.725964758532641,
                      5.102373748719777,
                      4.887899714706806,
                      3.097893803461363
                    ],
                    "colorbar": {
                      "title": {
                        "text": "Objective Value"
                      }
                    },
                    "colorscale": [
                      [
                        0,
                        "rgb(247,251,255)"
                      ],
                      [
                        0.125,
                        "rgb(222,235,247)"
                      ],
                      [
                        0.25,
                        "rgb(198,219,239)"
                      ],
                      [
                        0.375,
                        "rgb(158,202,225)"
                      ],
                      [
                        0.5,
                        "rgb(107,174,214)"
                      ],
                      [
                        0.625,
                        "rgb(66,146,198)"
                      ],
                      [
                        0.75,
                        "rgb(33,113,181)"
                      ],
                      [
                        0.875,
                        "rgb(8,81,156)"
                      ],
                      [
                        1,
                        "rgb(8,48,107)"
                      ]
                    ],
                    "reversescale": true,
                    "showscale": true
                  },
                  "type": "parcoords"
                }
              ],
              "layout": {
                "template": {
                  "data": {
                    "bar": [
                      {
                        "error_x": {
                          "color": "#2a3f5f"
                        },
                        "error_y": {
                          "color": "#2a3f5f"
                        },
                        "marker": {
                          "line": {
                            "color": "#E5ECF6",
                            "width": 0.5
                          },
                          "pattern": {
                            "fillmode": "overlay",
                            "size": 10,
                            "solidity": 0.2
                          }
                        },
                        "type": "bar"
                      }
                    ],
                    "barpolar": [
                      {
                        "marker": {
                          "line": {
                            "color": "#E5ECF6",
                            "width": 0.5
                          },
                          "pattern": {
                            "fillmode": "overlay",
                            "size": 10,
                            "solidity": 0.2
                          }
                        },
                        "type": "barpolar"
                      }
                    ],
                    "carpet": [
                      {
                        "aaxis": {
                          "endlinecolor": "#2a3f5f",
                          "gridcolor": "white",
                          "linecolor": "white",
                          "minorgridcolor": "white",
                          "startlinecolor": "#2a3f5f"
                        },
                        "baxis": {
                          "endlinecolor": "#2a3f5f",
                          "gridcolor": "white",
                          "linecolor": "white",
                          "minorgridcolor": "white",
                          "startlinecolor": "#2a3f5f"
                        },
                        "type": "carpet"
                      }
                    ],
                    "choropleth": [
                      {
                        "colorbar": {
                          "outlinewidth": 0,
                          "ticks": ""
                        },
                        "type": "choropleth"
                      }
                    ],
                    "contour": [
                      {
                        "colorbar": {
                          "outlinewidth": 0,
                          "ticks": ""
                        },
                        "colorscale": [
                          [
                            0,
                            "#0d0887"
                          ],
                          [
                            0.1111111111111111,
                            "#46039f"
                          ],
                          [
                            0.2222222222222222,
                            "#7201a8"
                          ],
                          [
                            0.3333333333333333,
                            "#9c179e"
                          ],
                          [
                            0.4444444444444444,
                            "#bd3786"
                          ],
                          [
                            0.5555555555555556,
                            "#d8576b"
                          ],
                          [
                            0.6666666666666666,
                            "#ed7953"
                          ],
                          [
                            0.7777777777777778,
                            "#fb9f3a"
                          ],
                          [
                            0.8888888888888888,
                            "#fdca26"
                          ],
                          [
                            1,
                            "#f0f921"
                          ]
                        ],
                        "type": "contour"
                      }
                    ],
                    "contourcarpet": [
                      {
                        "colorbar": {
                          "outlinewidth": 0,
                          "ticks": ""
                        },
                        "type": "contourcarpet"
                      }
                    ],
                    "heatmap": [
                      {
                        "colorbar": {
                          "outlinewidth": 0,
                          "ticks": ""
                        },
                        "colorscale": [
                          [
                            0,
                            "#0d0887"
                          ],
                          [
                            0.1111111111111111,
                            "#46039f"
                          ],
                          [
                            0.2222222222222222,
                            "#7201a8"
                          ],
                          [
                            0.3333333333333333,
                            "#9c179e"
                          ],
                          [
                            0.4444444444444444,
                            "#bd3786"
                          ],
                          [
                            0.5555555555555556,
                            "#d8576b"
                          ],
                          [
                            0.6666666666666666,
                            "#ed7953"
                          ],
                          [
                            0.7777777777777778,
                            "#fb9f3a"
                          ],
                          [
                            0.8888888888888888,
                            "#fdca26"
                          ],
                          [
                            1,
                            "#f0f921"
                          ]
                        ],
                        "type": "heatmap"
                      }
                    ],
                    "heatmapgl": [
                      {
                        "colorbar": {
                          "outlinewidth": 0,
                          "ticks": ""
                        },
                        "colorscale": [
                          [
                            0,
                            "#0d0887"
                          ],
                          [
                            0.1111111111111111,
                            "#46039f"
                          ],
                          [
                            0.2222222222222222,
                            "#7201a8"
                          ],
                          [
                            0.3333333333333333,
                            "#9c179e"
                          ],
                          [
                            0.4444444444444444,
                            "#bd3786"
                          ],
                          [
                            0.5555555555555556,
                            "#d8576b"
                          ],
                          [
                            0.6666666666666666,
                            "#ed7953"
                          ],
                          [
                            0.7777777777777778,
                            "#fb9f3a"
                          ],
                          [
                            0.8888888888888888,
                            "#fdca26"
                          ],
                          [
                            1,
                            "#f0f921"
                          ]
                        ],
                        "type": "heatmapgl"
                      }
                    ],
                    "histogram": [
                      {
                        "marker": {
                          "pattern": {
                            "fillmode": "overlay",
                            "size": 10,
                            "solidity": 0.2
                          }
                        },
                        "type": "histogram"
                      }
                    ],
                    "histogram2d": [
                      {
                        "colorbar": {
                          "outlinewidth": 0,
                          "ticks": ""
                        },
                        "colorscale": [
                          [
                            0,
                            "#0d0887"
                          ],
                          [
                            0.1111111111111111,
                            "#46039f"
                          ],
                          [
                            0.2222222222222222,
                            "#7201a8"
                          ],
                          [
                            0.3333333333333333,
                            "#9c179e"
                          ],
                          [
                            0.4444444444444444,
                            "#bd3786"
                          ],
                          [
                            0.5555555555555556,
                            "#d8576b"
                          ],
                          [
                            0.6666666666666666,
                            "#ed7953"
                          ],
                          [
                            0.7777777777777778,
                            "#fb9f3a"
                          ],
                          [
                            0.8888888888888888,
                            "#fdca26"
                          ],
                          [
                            1,
                            "#f0f921"
                          ]
                        ],
                        "type": "histogram2d"
                      }
                    ],
                    "histogram2dcontour": [
                      {
                        "colorbar": {
                          "outlinewidth": 0,
                          "ticks": ""
                        },
                        "colorscale": [
                          [
                            0,
                            "#0d0887"
                          ],
                          [
                            0.1111111111111111,
                            "#46039f"
                          ],
                          [
                            0.2222222222222222,
                            "#7201a8"
                          ],
                          [
                            0.3333333333333333,
                            "#9c179e"
                          ],
                          [
                            0.4444444444444444,
                            "#bd3786"
                          ],
                          [
                            0.5555555555555556,
                            "#d8576b"
                          ],
                          [
                            0.6666666666666666,
                            "#ed7953"
                          ],
                          [
                            0.7777777777777778,
                            "#fb9f3a"
                          ],
                          [
                            0.8888888888888888,
                            "#fdca26"
                          ],
                          [
                            1,
                            "#f0f921"
                          ]
                        ],
                        "type": "histogram2dcontour"
                      }
                    ],
                    "mesh3d": [
                      {
                        "colorbar": {
                          "outlinewidth": 0,
                          "ticks": ""
                        },
                        "type": "mesh3d"
                      }
                    ],
                    "parcoords": [
                      {
                        "line": {
                          "colorbar": {
                            "outlinewidth": 0,
                            "ticks": ""
                          }
                        },
                        "type": "parcoords"
                      }
                    ],
                    "pie": [
                      {
                        "automargin": true,
                        "type": "pie"
                      }
                    ],
                    "scatter": [
                      {
                        "fillpattern": {
                          "fillmode": "overlay",
                          "size": 10,
                          "solidity": 0.2
                        },
                        "type": "scatter"
                      }
                    ],
                    "scatter3d": [
                      {
                        "line": {
                          "colorbar": {
                            "outlinewidth": 0,
                            "ticks": ""
                          }
                        },
                        "marker": {
                          "colorbar": {
                            "outlinewidth": 0,
                            "ticks": ""
                          }
                        },
                        "type": "scatter3d"
                      }
                    ],
                    "scattercarpet": [
                      {
                        "marker": {
                          "colorbar": {
                            "outlinewidth": 0,
                            "ticks": ""
                          }
                        },
                        "type": "scattercarpet"
                      }
                    ],
                    "scattergeo": [
                      {
                        "marker": {
                          "colorbar": {
                            "outlinewidth": 0,
                            "ticks": ""
                          }
                        },
                        "type": "scattergeo"
                      }
                    ],
                    "scattergl": [
                      {
                        "marker": {
                          "colorbar": {
                            "outlinewidth": 0,
                            "ticks": ""
                          }
                        },
                        "type": "scattergl"
                      }
                    ],
                    "scattermapbox": [
                      {
                        "marker": {
                          "colorbar": {
                            "outlinewidth": 0,
                            "ticks": ""
                          }
                        },
                        "type": "scattermapbox"
                      }
                    ],
                    "scatterpolar": [
                      {
                        "marker": {
                          "colorbar": {
                            "outlinewidth": 0,
                            "ticks": ""
                          }
                        },
                        "type": "scatterpolar"
                      }
                    ],
                    "scatterpolargl": [
                      {
                        "marker": {
                          "colorbar": {
                            "outlinewidth": 0,
                            "ticks": ""
                          }
                        },
                        "type": "scatterpolargl"
                      }
                    ],
                    "scatterternary": [
                      {
                        "marker": {
                          "colorbar": {
                            "outlinewidth": 0,
                            "ticks": ""
                          }
                        },
                        "type": "scatterternary"
                      }
                    ],
                    "surface": [
                      {
                        "colorbar": {
                          "outlinewidth": 0,
                          "ticks": ""
                        },
                        "colorscale": [
                          [
                            0,
                            "#0d0887"
                          ],
                          [
                            0.1111111111111111,
                            "#46039f"
                          ],
                          [
                            0.2222222222222222,
                            "#7201a8"
                          ],
                          [
                            0.3333333333333333,
                            "#9c179e"
                          ],
                          [
                            0.4444444444444444,
                            "#bd3786"
                          ],
                          [
                            0.5555555555555556,
                            "#d8576b"
                          ],
                          [
                            0.6666666666666666,
                            "#ed7953"
                          ],
                          [
                            0.7777777777777778,
                            "#fb9f3a"
                          ],
                          [
                            0.8888888888888888,
                            "#fdca26"
                          ],
                          [
                            1,
                            "#f0f921"
                          ]
                        ],
                        "type": "surface"
                      }
                    ],
                    "table": [
                      {
                        "cells": {
                          "fill": {
                            "color": "#EBF0F8"
                          },
                          "line": {
                            "color": "white"
                          }
                        },
                        "header": {
                          "fill": {
                            "color": "#C8D4E3"
                          },
                          "line": {
                            "color": "white"
                          }
                        },
                        "type": "table"
                      }
                    ]
                  },
                  "layout": {
                    "annotationdefaults": {
                      "arrowcolor": "#2a3f5f",
                      "arrowhead": 0,
                      "arrowwidth": 1
                    },
                    "autotypenumbers": "strict",
                    "coloraxis": {
                      "colorbar": {
                        "outlinewidth": 0,
                        "ticks": ""
                      }
                    },
                    "colorscale": {
                      "diverging": [
                        [
                          0,
                          "#8e0152"
                        ],
                        [
                          0.1,
                          "#c51b7d"
                        ],
                        [
                          0.2,
                          "#de77ae"
                        ],
                        [
                          0.3,
                          "#f1b6da"
                        ],
                        [
                          0.4,
                          "#fde0ef"
                        ],
                        [
                          0.5,
                          "#f7f7f7"
                        ],
                        [
                          0.6,
                          "#e6f5d0"
                        ],
                        [
                          0.7,
                          "#b8e186"
                        ],
                        [
                          0.8,
                          "#7fbc41"
                        ],
                        [
                          0.9,
                          "#4d9221"
                        ],
                        [
                          1,
                          "#276419"
                        ]
                      ],
                      "sequential": [
                        [
                          0,
                          "#0d0887"
                        ],
                        [
                          0.1111111111111111,
                          "#46039f"
                        ],
                        [
                          0.2222222222222222,
                          "#7201a8"
                        ],
                        [
                          0.3333333333333333,
                          "#9c179e"
                        ],
                        [
                          0.4444444444444444,
                          "#bd3786"
                        ],
                        [
                          0.5555555555555556,
                          "#d8576b"
                        ],
                        [
                          0.6666666666666666,
                          "#ed7953"
                        ],
                        [
                          0.7777777777777778,
                          "#fb9f3a"
                        ],
                        [
                          0.8888888888888888,
                          "#fdca26"
                        ],
                        [
                          1,
                          "#f0f921"
                        ]
                      ],
                      "sequentialminus": [
                        [
                          0,
                          "#0d0887"
                        ],
                        [
                          0.1111111111111111,
                          "#46039f"
                        ],
                        [
                          0.2222222222222222,
                          "#7201a8"
                        ],
                        [
                          0.3333333333333333,
                          "#9c179e"
                        ],
                        [
                          0.4444444444444444,
                          "#bd3786"
                        ],
                        [
                          0.5555555555555556,
                          "#d8576b"
                        ],
                        [
                          0.6666666666666666,
                          "#ed7953"
                        ],
                        [
                          0.7777777777777778,
                          "#fb9f3a"
                        ],
                        [
                          0.8888888888888888,
                          "#fdca26"
                        ],
                        [
                          1,
                          "#f0f921"
                        ]
                      ]
                    },
                    "colorway": [
                      "#636efa",
                      "#EF553B",
                      "#00cc96",
                      "#ab63fa",
                      "#FFA15A",
                      "#19d3f3",
                      "#FF6692",
                      "#B6E880",
                      "#FF97FF",
                      "#FECB52"
                    ],
                    "font": {
                      "color": "#2a3f5f"
                    },
                    "geo": {
                      "bgcolor": "white",
                      "lakecolor": "white",
                      "landcolor": "#E5ECF6",
                      "showlakes": true,
                      "showland": true,
                      "subunitcolor": "white"
                    },
                    "hoverlabel": {
                      "align": "left"
                    },
                    "hovermode": "closest",
                    "mapbox": {
                      "style": "light"
                    },
                    "paper_bgcolor": "white",
                    "plot_bgcolor": "#E5ECF6",
                    "polar": {
                      "angularaxis": {
                        "gridcolor": "white",
                        "linecolor": "white",
                        "ticks": ""
                      },
                      "bgcolor": "#E5ECF6",
                      "radialaxis": {
                        "gridcolor": "white",
                        "linecolor": "white",
                        "ticks": ""
                      }
                    },
                    "scene": {
                      "xaxis": {
                        "backgroundcolor": "#E5ECF6",
                        "gridcolor": "white",
                        "gridwidth": 2,
                        "linecolor": "white",
                        "showbackground": true,
                        "ticks": "",
                        "zerolinecolor": "white"
                      },
                      "yaxis": {
                        "backgroundcolor": "#E5ECF6",
                        "gridcolor": "white",
                        "gridwidth": 2,
                        "linecolor": "white",
                        "showbackground": true,
                        "ticks": "",
                        "zerolinecolor": "white"
                      },
                      "zaxis": {
                        "backgroundcolor": "#E5ECF6",
                        "gridcolor": "white",
                        "gridwidth": 2,
                        "linecolor": "white",
                        "showbackground": true,
                        "ticks": "",
                        "zerolinecolor": "white"
                      }
                    },
                    "shapedefaults": {
                      "line": {
                        "color": "#2a3f5f"
                      }
                    },
                    "ternary": {
                      "aaxis": {
                        "gridcolor": "white",
                        "linecolor": "white",
                        "ticks": ""
                      },
                      "baxis": {
                        "gridcolor": "white",
                        "linecolor": "white",
                        "ticks": ""
                      },
                      "bgcolor": "#E5ECF6",
                      "caxis": {
                        "gridcolor": "white",
                        "linecolor": "white",
                        "ticks": ""
                      }
                    },
                    "title": {
                      "x": 0.05
                    },
                    "xaxis": {
                      "automargin": true,
                      "gridcolor": "white",
                      "linecolor": "white",
                      "ticks": "",
                      "title": {
                        "standoff": 15
                      },
                      "zerolinecolor": "white",
                      "zerolinewidth": 2
                    },
                    "yaxis": {
                      "automargin": true,
                      "gridcolor": "white",
                      "linecolor": "white",
                      "ticks": "",
                      "title": {
                        "standoff": 15
                      },
                      "zerolinecolor": "white",
                      "zerolinewidth": 2
                    }
                  }
                },
                "title": {
                  "text": "Parallel Coordinate Plot"
                }
              }
            }
          },
          "metadata": {},
          "output_type": "display_data"
        }
      ],
      "source": [
        "# partial coord plot\n",
        "\n",
        "optuna.visualization.plot_parallel_coordinate(study,params=[\"model\"])"
      ]
    },
    {
      "cell_type": "code",
      "execution_count": null,
      "metadata": {},
      "outputs": [],
      "source": []
    }
  ],
  "metadata": {
    "colab": {
      "provenance": []
    },
    "kernelspec": {
      "display_name": "base",
      "language": "python",
      "name": "python3"
    },
    "language_info": {
      "codemirror_mode": {
        "name": "ipython",
        "version": 3
      },
      "file_extension": ".py",
      "mimetype": "text/x-python",
      "name": "python",
      "nbconvert_exporter": "python",
      "pygments_lexer": "ipython3",
      "version": "3.12.7"
    }
  },
  "nbformat": 4,
  "nbformat_minor": 0
}
